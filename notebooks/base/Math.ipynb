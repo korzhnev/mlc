{
 "cells": [
  {
   "cell_type": "markdown",
   "id": "347d33a8",
   "metadata": {
    "toc": true
   },
   "source": [
    "<h1>Table of Contents<span class=\"tocSkip\"></span></h1>\n",
    "<div class=\"toc\"><ul class=\"toc-item\"><li><span><a href=\"#Теорема-Байеса\" data-toc-modified-id=\"Теорема-Байеса-1\">Теорема Байеса</a></span><ul class=\"toc-item\"><li><span><a href=\"#Вероятность\" data-toc-modified-id=\"Вероятность-1.1\">Вероятность</a></span><ul class=\"toc-item\"><li><span><a href=\"#Для-чего-оно-нам?\" data-toc-modified-id=\"Для-чего-оно-нам?-1.1.1\">Для чего оно нам?</a></span></li><li><span><a href=\"#Совместная-вероятность\" data-toc-modified-id=\"Совместная-вероятность-1.1.2\">Совместная вероятность</a></span></li><li><span><a href=\"#Маргинализация\" data-toc-modified-id=\"Маргинализация-1.1.3\">Маргинализация</a></span></li><li><span><a href=\"#Независимость\" data-toc-modified-id=\"Независимость-1.1.4\">Независимость</a></span></li><li><span><a href=\"#Условная-вероятность\" data-toc-modified-id=\"Условная-вероятность-1.1.5\">Условная вероятность</a></span></li><li><span><a href=\"#&quot;Парадокс&quot;-Монти-Холла\" data-toc-modified-id=\"&quot;Парадокс&quot;-Монти-Холла-1.1.6\">\"Парадокс\" Монти Холла</a></span></li></ul></li><li><span><a href=\"#Формула-Байеса-(теорема-Байеса)\" data-toc-modified-id=\"Формула-Байеса-(теорема-Байеса)-1.2\">Формула Байеса (теорема Байеса)</a></span><ul class=\"toc-item\"><li><span><a href=\"#Классический-медицинский-пример\" data-toc-modified-id=\"Классический-медицинский-пример-1.2.1\">Классический медицинский пример</a></span></li><li><span><a href=\"#Вероятностный-вывод-(probalistic-inference)\" data-toc-modified-id=\"Вероятностный-вывод-(probalistic-inference)-1.2.2\">Вероятностный вывод (probalistic inference)</a></span></li><li><span><a href=\"#Вернемся-к-парадоксу-Монти-Холла\" data-toc-modified-id=\"Вернемся-к-парадоксу-Монти-Холла-1.2.3\">Вернемся к парадоксу Монти Холла</a></span></li></ul></li></ul></li></ul></div>"
   ]
  },
  {
   "cell_type": "markdown",
   "id": "f58b8499",
   "metadata": {},
   "source": [
    "## Теорема Байеса"
   ]
  },
  {
   "cell_type": "markdown",
   "id": "5df8d42c",
   "metadata": {
    "heading_collapsed": true
   },
   "source": [
    "### Вероятность"
   ]
  },
  {
   "cell_type": "markdown",
   "id": "04d4cc7d",
   "metadata": {
    "heading_collapsed": true,
    "hidden": true
   },
   "source": [
    "#### Для чего оно нам?"
   ]
  },
  {
   "cell_type": "markdown",
   "id": "5528816a",
   "metadata": {
    "hidden": true
   },
   "source": [
    "- Наши модели всегда выдают предсказания с некоторой долей **неопределенности**\n",
    "- ML как наука основана на **теории вероятностей**"
   ]
  },
  {
   "cell_type": "markdown",
   "id": "ca1628f1",
   "metadata": {
    "heading_collapsed": true,
    "hidden": true
   },
   "source": [
    "#### Совместная вероятность"
   ]
  },
  {
   "cell_type": "markdown",
   "id": "2a3b6657",
   "metadata": {
    "hidden": true
   },
   "source": [
    "* Это вероятность одновременного наступления двух событий **p(x, y)**\n",
    "* Рассмотрим новую случайную величику \"два кубика\", у которой будут возможные исходы (1,1), (1, 2),.. (6,6). Всего 6 x 6 = 36 исходов "
   ]
  },
  {
   "cell_type": "markdown",
   "id": "b590cf0d",
   "metadata": {
    "heading_collapsed": true,
    "hidden": true
   },
   "source": [
    "#### Маргинализация"
   ]
  },
  {
   "cell_type": "markdown",
   "id": "478ef5b2",
   "metadata": {
    "hidden": true
   },
   "source": [
    "Чтобы получить обратно из совместной вероятности вероятность того или иного исхода одной из случайных величин, нужно просуммировать по  другой:  \n",
    "$p(x) = \\sum _{y} p(x, y)$"
   ]
  },
  {
   "cell_type": "markdown",
   "id": "a2408a03",
   "metadata": {
    "hidden": true
   },
   "source": [
    "$p(1) = p(1,1)+p(1,2)+p(1,3)+p(1,4)+p(1,5)+p(1,6) = 6 \\frac{1}{36}$"
   ]
  },
  {
   "cell_type": "markdown",
   "id": "940e52fe",
   "metadata": {
    "heading_collapsed": true,
    "hidden": true
   },
   "source": [
    "#### Независимость"
   ]
  },
  {
   "cell_type": "markdown",
   "id": "2e2c81d0",
   "metadata": {
    "hidden": true
   },
   "source": [
    "* Две случайные величины называются **независимыми**, если:  \n",
    "$p(x, y) = p(x)p(y)$\n",
    "* **Независимость** - определяется формально. Ее не нужно путать с отношением \"причина-следствие\" (казуальностью), которого между зависимыми случайными величинами может и не быть. Ни с *корреляцией*, которая отражает только *линейную* часть зависимости между случайными величинами"
   ]
  },
  {
   "cell_type": "markdown",
   "id": "3ca61d1d",
   "metadata": {
    "heading_collapsed": true,
    "hidden": true
   },
   "source": [
    "#### Условная вероятность"
   ]
  },
  {
   "cell_type": "markdown",
   "id": "1661e6b3",
   "metadata": {
    "hidden": true
   },
   "source": [
    "- Это вероятность наступления одного события, если известно, что произошло другое, **p(x | y)**; ее обычно определяют так:"
   ]
  },
  {
   "cell_type": "markdown",
   "id": "3a65c1fb",
   "metadata": {
    "hidden": true
   },
   "source": [
    "$p(x | y) = \\frac{p(x, y)}{p(y)}$"
   ]
  },
  {
   "cell_type": "markdown",
   "id": "53faccfd",
   "metadata": {
    "hidden": true
   },
   "source": [
    "Пример с \"двумя кубиками\": вероятность выпадания 6-ки первого кубика, если второй выдал 3-ку.  \n",
    "$p(6, 3) = 1/36$  \n",
    "$p(3) = 1/6$  \n",
    "$p(6 | 3) = \\frac{1/36}{1/6} = 1/6$"
   ]
  },
  {
   "cell_type": "markdown",
   "id": "44624246",
   "metadata": {
    "hidden": true
   },
   "source": [
    "- По определению **условной независимости**, **x** и **y** условно независимы при условии **z**, если:"
   ]
  },
  {
   "cell_type": "markdown",
   "id": "bbd09bbd",
   "metadata": {
    "hidden": true
   },
   "source": [
    "$p(x, y | z) = p(x | z)p(y | z)$"
   ]
  },
  {
   "cell_type": "markdown",
   "id": "ecebe54c",
   "metadata": {
    "heading_collapsed": true,
    "hidden": true
   },
   "source": [
    "#### \"Парадокс\" Монти Холла"
   ]
  },
  {
   "cell_type": "markdown",
   "id": "b5db1073",
   "metadata": {
    "hidden": true
   },
   "source": [
    "Постановка задачи:\n",
    "- Есть три шкатулки. В одной из них деньги, в двух других - ничего.\n",
    "- Вы наугад выбираете одну шкатулку\n",
    "- Ведущий открывает одну из пустых шкатулок\n",
    "- Ведущий предлагает изменить Ваш выбор. Ваши действия?"
   ]
  },
  {
   "cell_type": "markdown",
   "id": "414629e2",
   "metadata": {
    "hidden": true
   },
   "source": [
    "Изначально вероятности наличия денег в трех шкатулках **x1**, **x2** и **x3**: \n",
    "$p(x1) = p(x2) = p(x3)$"
   ]
  },
  {
   "cell_type": "markdown",
   "id": "4fbd9a9b",
   "metadata": {},
   "source": [
    "### Формула Байеса (теорема Байеса)"
   ]
  },
  {
   "cell_type": "markdown",
   "id": "5e85fc95",
   "metadata": {},
   "source": [
    "По опредлению условной вероятности:  \n",
    "$p(x,y)=p(x|y)p(y)=p(y|x)p(x)$"
   ]
  },
  {
   "cell_type": "markdown",
   "id": "0d60343d",
   "metadata": {},
   "source": [
    "Следовательно:  \n",
    "$p(y|x)=\\frac{p(x|y)p(y)}{p(x)}=\\frac{p(x|y)p(y)}{\\sum _{y' \\in Y} p(x|y')p(y')}$"
   ]
  },
  {
   "cell_type": "markdown",
   "id": "fd80a436",
   "metadata": {},
   "source": [
    "#### Классический медицинский пример"
   ]
  },
  {
   "cell_type": "markdown",
   "id": "88d905d4",
   "metadata": {},
   "source": [
    "Дано:\n",
    "- Некий тест на какую-то страшную болезнь имеет вероятность успеха 95%; иначе говоря, 5% - это вероятность как ошибки первого рода (false positive), так и ошибки второго рода (пропуска больного, false negative). \n",
    "- Блезнь имеется у 1% респондентов\n",
    "- Некий случайный человек получил позитивный результат теста, то есть тест говорит, что человек болен\n",
    "- С какой вероятностью он действительно болен?\n",
    "\n",
    "Решение:\n",
    "- Обозначим через **t** результат теста, через **d** - наличие болезни\n",
    "- Используя теорему Байеса:  \n",
    "$p(d=1|t=1)=\\frac{p(t=1|d=1)p(d=1)}{p(t=1)}=\\frac{p(t=1|d=1)p(d=1)}{p(t=1|d=1)p(d=1)+p(t=1|d=0)p(d=0)}=$  \n",
    "$=\\frac{0,95 \\times 0,01}{0,95 \\times 0,01 + 0,05 \\times 0,99}=0,16$"
   ]
  },
  {
   "cell_type": "markdown",
   "id": "81b9dd25",
   "metadata": {},
   "source": [
    "#### Вероятностный вывод (probalistic inference)"
   ]
  },
  {
   "cell_type": "markdown",
   "id": "943c7b4c",
   "metadata": {},
   "source": [
    "- **Прямые задачи** теории вероятностей возникают, когда есть описание некоего вероятностного процесса или модели, и требуется найти вероятность того или иного события \n",
    "- **Обратные задачи** - по поведению некоего стохастического объекта построить вероятностную модель\n",
    "- Задача о медицинском тестировании является примером **обратные задачи** теории вероятности"
   ]
  },
  {
   "cell_type": "markdown",
   "id": "9a193a3b",
   "metadata": {},
   "source": [
    "#### Вернемся к парадоксу Монти Холла"
   ]
  },
  {
   "cell_type": "markdown",
   "id": "bfbc332c",
   "metadata": {},
   "source": [
    "Обозначим:  \n",
    "- **y** - шкатулка, которую открыл ведущий\n",
    "- **x1** - будут ли деньги в выбранной шкатулке"
   ]
  },
  {
   "cell_type": "markdown",
   "id": "bd4fee3b",
   "metadata": {},
   "source": [
    "<img src=\"images/monti.png\" width=\"500\" align=\"left\">"
   ]
  },
  {
   "cell_type": "code",
   "execution_count": null,
   "id": "c7667a04",
   "metadata": {},
   "outputs": [],
   "source": []
  }
 ],
 "metadata": {
  "kernelspec": {
   "display_name": "Python 3 (ipykernel)",
   "language": "python",
   "name": "python3"
  },
  "language_info": {
   "codemirror_mode": {
    "name": "ipython",
    "version": 3
   },
   "file_extension": ".py",
   "mimetype": "text/x-python",
   "name": "python",
   "nbconvert_exporter": "python",
   "pygments_lexer": "ipython3",
   "version": "3.10.6"
  },
  "toc": {
   "base_numbering": 1,
   "nav_menu": {},
   "number_sections": false,
   "sideBar": true,
   "skip_h1_title": true,
   "title_cell": "Table of Contents",
   "title_sidebar": "Contents",
   "toc_cell": true,
   "toc_position": {},
   "toc_section_display": true,
   "toc_window_display": false
  }
 },
 "nbformat": 4,
 "nbformat_minor": 5
}
