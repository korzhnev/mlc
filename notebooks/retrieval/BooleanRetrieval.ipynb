{
 "cells": [
  {
   "cell_type": "markdown",
   "id": "01024a32",
   "metadata": {
    "toc": true
   },
   "source": [
    "<h1>Table of Contents<span class=\"tocSkip\"></span></h1>\n",
    "<div class=\"toc\"><ul class=\"toc-item\"><li><span><a href=\"#Источник\" data-toc-modified-id=\"Источник-1\">Источник</a></span></li><li><span><a href=\"#Пример-информационного-поиска\" data-toc-modified-id=\"Пример-информационного-поиска-2\">Пример информационного поиска</a></span><ul class=\"toc-item\"><li><span><a href=\"#Задача\" data-toc-modified-id=\"Задача-2.1\">Задача</a></span></li><li><span><a href=\"#Term-document-incidence-matrix\" data-toc-modified-id=\"Term-document-incidence-matrix-2.2\">Term-document incidence matrix</a></span></li><li><span><a href=\"#Более-реалистичный-сценарий\" data-toc-modified-id=\"Более-реалистичный-сценарий-2.3\">Более реалистичный сценарий</a></span><ul class=\"toc-item\"><li><span><a href=\"#Дано\" data-toc-modified-id=\"Дано-2.3.1\">Дано</a></span></li><li><span><a href=\"#Матрица-&quot;термин-документ&quot;?\" data-toc-modified-id=\"Матрица-&quot;термин-документ&quot;?-2.3.2\">Матрица \"термин-документ\"?</a></span></li></ul></li><li><span><a href=\"#Инвертированный-индекс\" data-toc-modified-id=\"Инвертированный-индекс-2.4\">Инвертированный индекс</a></span><ul class=\"toc-item\"><li><span><a href=\"#Идея-инвертированного-индекса\" data-toc-modified-id=\"Идея-инвертированного-индекса-2.4.1\">Идея инвертированного индекса</a></span></li><li><span><a href=\"#Алгоритм-построения\" data-toc-modified-id=\"Алгоритм-построения-2.4.2\">Алгоритм построения</a></span></li><li><span><a href=\"#Построение-индекса\" data-toc-modified-id=\"Построение-индекса-2.4.3\">Построение индекса</a></span></li><li><span><a href=\"#Особенности\" data-toc-modified-id=\"Особенности-2.4.4\">Особенности</a></span></li></ul></li></ul></li><li><span><a href=\"#Обработка-булевых-запросов\" data-toc-modified-id=\"Обработка-булевых-запросов-3\">Обработка булевых запросов</a></span><ul class=\"toc-item\"><li><ul class=\"toc-item\"><li><span><a href=\"#Brutus-AND-Calpurina\" data-toc-modified-id=\"Brutus-AND-Calpurina-3.0.1\">Brutus AND Calpurina</a></span></li><li><span><a href=\"#Пересечение-с-помощью-эффективного-алгоритма-слияния\" data-toc-modified-id=\"Пересечение-с-помощью-эффективного-алгоритма-слияния-3.0.2\">Пересечение с помощью эффективного алгоритма слияния</a></span></li><li><span><a href=\"#Алгоритм-можно-обобщить-и-для-более-сложных-случаев\" data-toc-modified-id=\"Алгоритм-можно-обобщить-и-для-более-сложных-случаев-3.0.3\">Алгоритм можно обобщить и для более сложных случаев</a></span></li><li><span><a href=\"#Оптимизация-вычислений\" data-toc-modified-id=\"Оптимизация-вычислений-3.0.4\">Оптимизация вычислений</a></span></li></ul></li></ul></li><li><span><a href=\"#Наша-конечная-цель\" data-toc-modified-id=\"Наша-конечная-цель-4\">Наша конечная цель</a></span></li></ul></div>"
   ]
  },
  {
   "cell_type": "markdown",
   "id": "663fb132",
   "metadata": {},
   "source": [
    "## Источник"
   ]
  },
  {
   "cell_type": "markdown",
   "id": "bee6f37e",
   "metadata": {},
   "source": [
    "\"Введение в информационный поиск\".  \n",
    "Глава 1. Булев поиск.  \n",
    "https://nlp.stanford.edu/IR-book/html/htmledition/boolean-retrieval-1.html"
   ]
  },
  {
   "cell_type": "markdown",
   "id": "1e2b64fc",
   "metadata": {},
   "source": [
    "## Пример информационного поиска"
   ]
  },
  {
   "cell_type": "markdown",
   "id": "3c0cfae7",
   "metadata": {},
   "source": [
    "### Задача"
   ]
  },
  {
   "cell_type": "markdown",
   "id": "9061999a",
   "metadata": {},
   "source": [
    "В какой пьесе Шекспира используются слова **Brutus AND Caesar AND NOT Caprulina**"
   ]
  },
  {
   "cell_type": "markdown",
   "id": "cf2d3b45",
   "metadata": {},
   "source": [
    "### Term-document incidence matrix"
   ]
  },
  {
   "cell_type": "markdown",
   "id": "88ba3c5c",
   "metadata": {},
   "source": [
    "- Рассмотрим матрицу инцидентности \"термин-документ\"\n",
    "- Термины - не обязательно \"обычные слова\""
   ]
  },
  {
   "cell_type": "markdown",
   "id": "1e9a8537",
   "metadata": {},
   "source": [
    "<img src=\"images/tdm.png\" width=\"600\" align=\"left\">"
   ]
  },
  {
   "cell_type": "markdown",
   "id": "1abfec0a",
   "metadata": {},
   "source": [
    "**Brutus AND Caesar AND NOT Caprulina**  \n",
    "Вычисляем для **Caprulina** (010000) двоичное дополнение 101111.  \n",
    "Получаем, **110100 AND 110111 AND 101111 = 100100**.    \n",
    "\n",
    "Ответ: *Antony and Cleopatra* и *Hamlet*."
   ]
  },
  {
   "cell_type": "markdown",
   "id": "4facf8fd",
   "metadata": {},
   "source": [
    "### Более реалистичный сценарий"
   ]
  },
  {
   "cell_type": "markdown",
   "id": "ef43d294",
   "metadata": {},
   "source": [
    "#### Дано"
   ]
  },
  {
   "cell_type": "markdown",
   "id": "2ab1bd4b",
   "metadata": {},
   "source": [
    "- 1М документов\n",
    "- Документ состоит из 1K слов\n",
    "- В среднем на хранение слова уходит 6Б\n",
    "\n",
    "\n",
    "- Такая коллеция документов займет 6Гб\n",
    "- В подобных документах может оказаться 500K разных терминов"
   ]
  },
  {
   "cell_type": "markdown",
   "id": "70afd994",
   "metadata": {},
   "source": [
    "#### Матрица \"термин-документ\"?"
   ]
  },
  {
   "cell_type": "markdown",
   "id": "bbabc9fe",
   "metadata": {},
   "source": [
    "- 500K × 1M - слишком жирно для матрицы\n",
    "- При этом матрица чрезвычайно разреженная, поэтому целесообразно хранить только единицы"
   ]
  },
  {
   "cell_type": "markdown",
   "id": "77b66f5b",
   "metadata": {},
   "source": [
    "### Инвертированный индекс"
   ]
  },
  {
   "cell_type": "markdown",
   "id": "b004249f",
   "metadata": {},
   "source": [
    "#### Идея инвертированного индекса"
   ]
  },
  {
   "cell_type": "markdown",
   "id": "56b326ae",
   "metadata": {},
   "source": [
    "Для каждого термина храним список **словопозиций** (кооординат термина)"
   ]
  },
  {
   "cell_type": "markdown",
   "id": "9ad9b5d1",
   "metadata": {},
   "source": [
    "<img src=\"images/invidx.png\" width=\"600\" align=\"left\">"
   ]
  },
  {
   "cell_type": "markdown",
   "id": "80015844",
   "metadata": {},
   "source": [
    "#### Алгоритм построения"
   ]
  },
  {
   "cell_type": "markdown",
   "id": "aca22323",
   "metadata": {},
   "source": [
    "- Собираем документы\n",
    "- Разбиваем документы на лексемы (tokens)\n",
    "- Нормализуем лексемы и получаем термины\n",
    "- Строим инвертированный индекс из словаря терминов и их позиций"
   ]
  },
  {
   "cell_type": "markdown",
   "id": "c6ba8c09",
   "metadata": {},
   "source": [
    "#### Построение индекса"
   ]
  },
  {
   "cell_type": "markdown",
   "id": "f5cfed3d",
   "metadata": {},
   "source": [
    "Сортировка и группировка:"
   ]
  },
  {
   "cell_type": "markdown",
   "id": "aa2852c6",
   "metadata": {},
   "source": [
    "<img src=\"images/crtidx.png\" width=\"600\" align=\"left\">"
   ]
  },
  {
   "cell_type": "markdown",
   "id": "c7aac548",
   "metadata": {},
   "source": [
    "#### Особенности"
   ]
  },
  {
   "cell_type": "markdown",
   "id": "10492340",
   "metadata": {},
   "source": [
    "- Список словопозиций обычно требуют больше места, чем словарь терминов. Их можно хранить на диске.\n",
    "- Список предпочтительнее хранить в виде массивов переменной длины, а не связанных списков, т. к. экономим память на указатели и используем кеш процессора для обработки нерперывных областей памяти"
   ]
  },
  {
   "cell_type": "markdown",
   "id": "eb8f784a",
   "metadata": {},
   "source": [
    "## Обработка булевых запросов"
   ]
  },
  {
   "cell_type": "markdown",
   "id": "74f2ef05",
   "metadata": {},
   "source": [
    "#### Brutus AND Calpurina"
   ]
  },
  {
   "cell_type": "markdown",
   "id": "60e4fa2c",
   "metadata": {},
   "source": [
    "- Ищем Brutus в словаре\n",
    "- Находим список его словопозиций\n",
    "- Ищем Calpurina в словаре\n",
    "- Находим список его словопозиций\n",
    "- Находим **пересечение** этих двух списков"
   ]
  },
  {
   "cell_type": "markdown",
   "id": "dfd8bb01",
   "metadata": {},
   "source": [
    "<img src=\"images/inters.png\" width=\"600\" align=\"left\">"
   ]
  },
  {
   "cell_type": "markdown",
   "id": "6be371b1",
   "metadata": {},
   "source": [
    "#### Пересечение с помощью эффективного алгоритма слияния"
   ]
  },
  {
   "cell_type": "code",
   "execution_count": 36,
   "id": "5f0c0202",
   "metadata": {},
   "outputs": [],
   "source": [
    "from typing import List\n",
    "\n",
    "class Position:\n",
    "    def __init__(docID: int, nextPos: Position):\n",
    "        self.docID = docID\n",
    "        self.nextPos = nextPosition\n",
    "\n",
    "def intersect(p1: Position, p2: Position) -> List[int]:\n",
    "    answer = []\n",
    "    while p1 != None and p2 != None:\n",
    "        if p1.docID == p2.docID:\n",
    "            answer.append(p1.docID)\n",
    "            p1 = p1.nextPos\n",
    "            p2 = p2.nextPos\n",
    "        elif p1.docID < p2.docID:\n",
    "            p1 = p1.nextPos\n",
    "        else:\n",
    "            p2 = p2.nextPos\n",
    "    return answer"
   ]
  },
  {
   "cell_type": "markdown",
   "id": "3a44c298",
   "metadata": {},
   "source": [
    "- Сложность **O( len(p1) + len(p2) )**\n",
    "- Формально **O(N)**, где N - кол-во документов в коллекции\n",
    "- Алгортим требует упорядоченности словопозиций"
   ]
  },
  {
   "cell_type": "markdown",
   "id": "f0c40f12",
   "metadata": {},
   "source": [
    "#### Алгоритм можно обобщить и для более сложных случаев"
   ]
  },
  {
   "cell_type": "markdown",
   "id": "824b8655",
   "metadata": {},
   "source": [
    "**(Brutus OR Caesar) AND NOT Calpurina**"
   ]
  },
  {
   "cell_type": "markdown",
   "id": "cfd4c2c9",
   "metadata": {},
   "source": [
    "#### Оптимизация вычислений"
   ]
  },
  {
   "cell_type": "markdown",
   "id": "fc3cf7ed",
   "metadata": {},
   "source": [
    "Пример **Brutus AND Caesar AND Calpurina**"
   ]
  },
  {
   "cell_type": "markdown",
   "id": "1efa6f88",
   "metadata": {},
   "source": [
    "- Стандартный прием - обрабатываем термы в порядке возрастания частоты документов\n",
    "- Тогда все последующие списки не будут превышать наименьший список\n",
    "- В итоге выполним наименьший объем работы\n",
    "- В нашем примере получим **(Calpurina AND Brutus) AND Caesar**"
   ]
  },
  {
   "cell_type": "markdown",
   "id": "1b31b1b4",
   "metadata": {},
   "source": [
    "## Наша конечная цель"
   ]
  },
  {
   "cell_type": "markdown",
   "id": "20a9fad3",
   "metadata": {},
   "source": [
    "- Наша цель - выполнить поиск по произвольному запросу. Удовлетворить информационную потребность пользователя.\n",
    "- Проблема precision и recall здесь тоже присутствует."
   ]
  },
  {
   "cell_type": "markdown",
   "id": "c815fcb0",
   "metadata": {},
   "source": [
    "<img src=\"images/Precisionrecall.png\" width=\"600\" align=\"left\">"
   ]
  },
  {
   "cell_type": "code",
   "execution_count": null,
   "id": "1b87f702",
   "metadata": {},
   "outputs": [],
   "source": []
  }
 ],
 "metadata": {
  "kernelspec": {
   "display_name": "Python 3 (ipykernel)",
   "language": "python",
   "name": "python3"
  },
  "language_info": {
   "codemirror_mode": {
    "name": "ipython",
    "version": 3
   },
   "file_extension": ".py",
   "mimetype": "text/x-python",
   "name": "python",
   "nbconvert_exporter": "python",
   "pygments_lexer": "ipython3",
   "version": "3.10.6"
  },
  "toc": {
   "base_numbering": 1,
   "nav_menu": {},
   "number_sections": false,
   "sideBar": true,
   "skip_h1_title": true,
   "title_cell": "Table of Contents",
   "title_sidebar": "Contents",
   "toc_cell": true,
   "toc_position": {},
   "toc_section_display": true,
   "toc_window_display": false
  }
 },
 "nbformat": 4,
 "nbformat_minor": 5
}
