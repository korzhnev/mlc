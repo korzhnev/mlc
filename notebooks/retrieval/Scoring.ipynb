{
 "cells": [
  {
   "cell_type": "markdown",
   "id": "4ffcad1c",
   "metadata": {},
   "source": [
    "### Источник"
   ]
  },
  {
   "cell_type": "markdown",
   "id": "18ae39c2",
   "metadata": {},
   "source": [
    "\"Введение в информационный поиск\".  \n",
    "Глава 6. Ранжирование, взвешивание терминов и модель векторного пространства  \n",
    "https://nlp.stanford.edu/IR-book/html/htmledition/scoring-term-weighting-and-the-vector-space-model-1.html"
   ]
  },
  {
   "cell_type": "markdown",
   "id": "79953d51",
   "metadata": {},
   "source": [
    "### Ранжирование"
   ]
  },
  {
   "cell_type": "markdown",
   "id": "3a5959a5",
   "metadata": {},
   "source": [
    "- Кол-во документов, соотвествующее запросу, могут быть слишком большим для того, чтобы человек все их просмотрел\n",
    "- Поэтому нужно **ранжировать** документы, по **степени соотвествия запросу**\n",
    "- Вычисляют степень соотвествия заданному запросу, то есть **релевантность**"
   ]
  },
  {
   "cell_type": "markdown",
   "id": "2dec3b87",
   "metadata": {},
   "source": [
    "### Параметрические и зонные индексы"
   ]
  },
  {
   "cell_type": "markdown",
   "id": "67f5ac37",
   "metadata": {},
   "source": [
    "- Основная идея, что документы зачастую сопровождаются **метаданными** (например, фамилия автора, дата) \n",
    "- И по ним тоже бывает нужно искать"
   ]
  },
  {
   "cell_type": "markdown",
   "id": "f0d5bcf5",
   "metadata": {},
   "source": [
    "### Частота термина и взвешивание"
   ]
  },
  {
   "cell_type": "markdown",
   "id": "bfaaf631",
   "metadata": {},
   "source": [
    "#### Модель Мешок слов (bag of words model)"
   ]
  },
  {
   "cell_type": "markdown",
   "id": "dd5d6d29",
   "metadata": {},
   "source": [
    "- Каждый термин в запросе рассматривается независимо\n",
    "- Чем больше каждый термин встречается в документе, тем больше у документа релевантность\n",
    "- Порядок слов игнорируется. Фраза \"Mary is quicker than Jhon\" рассматривается также как \"Jhon is quicker than Mary\""
   ]
  },
  {
   "cell_type": "markdown",
   "id": "330854ad",
   "metadata": {},
   "source": [
    "#### Важность каждого отдельного термина"
   ]
  },
  {
   "cell_type": "markdown",
   "id": "c6eb25e7",
   "metadata": {},
   "source": [
    "- Не все слова одинаково важны. Например \"auto\" в автомобильной тематике встречается почти в каждом документе\n",
    "- Будем убирать влияние термина, который встречается слишком часто\n",
    "- Опираются на **документную частоту** - кол-во документов в колекции, содержащих термин"
   ]
  },
  {
   "cell_type": "markdown",
   "id": "515548f4",
   "metadata": {},
   "source": [
    "#### tf-idf"
   ]
  },
  {
   "cell_type": "markdown",
   "id": "9cf7d3b9",
   "metadata": {},
   "source": [
    "- **tf** (term frequency) - частота термина в документе\n",
    "- **idf** (invert document frequency) - обратная документная частота\n",
    "- **N** - общее кол-вод документов\n",
    "- $idf_i = log\\frac{N}{df_i}$\n",
    "- Обратная документаная частота редко встречающегося термина является большой, а часто встречающегося - маленькой\n"
   ]
  },
  {
   "cell_type": "markdown",
   "id": "29673cb1",
   "metadata": {},
   "source": [
    "Схема ранжирования **tf-idf**   \n",
    "$tf\\_idf_{t,d} = tf_{t,d}\\times idf_t$"
   ]
  },
  {
   "cell_type": "markdown",
   "id": "56c0d1a4",
   "metadata": {},
   "source": [
    "Вес **tf-idf** термина t в документе d обладает следующими свойствами:\n",
    "- Достигает максимального значения, если термин t встречается много раз в небольшом кол-ве документов (тем самым усиливая их отличие от других документов)\n",
    "- Он уменьшается, если термин встречается в каком-то документе лишь несколько раз или встречается во многих документах\n",
    "- Он достигает минимального значения, если термин встречается практически во всех документах"
   ]
  },
  {
   "cell_type": "markdown",
   "id": "410a8b84",
   "metadata": {},
   "source": [
    "Итого, релевантность документа d будет равна сумме **tf-idf** для каждого термина запроса"
   ]
  },
  {
   "cell_type": "code",
   "execution_count": null,
   "id": "a4a169e8",
   "metadata": {},
   "outputs": [],
   "source": []
  }
 ],
 "metadata": {
  "kernelspec": {
   "display_name": "Python 3 (ipykernel)",
   "language": "python",
   "name": "python3"
  },
  "language_info": {
   "codemirror_mode": {
    "name": "ipython",
    "version": 3
   },
   "file_extension": ".py",
   "mimetype": "text/x-python",
   "name": "python",
   "nbconvert_exporter": "python",
   "pygments_lexer": "ipython3",
   "version": "3.11.2"
  }
 },
 "nbformat": 4,
 "nbformat_minor": 5
}
