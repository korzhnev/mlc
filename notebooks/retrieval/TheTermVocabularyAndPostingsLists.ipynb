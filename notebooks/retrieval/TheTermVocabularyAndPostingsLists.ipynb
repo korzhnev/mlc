{
 "cells": [
  {
   "cell_type": "markdown",
   "id": "f829b344",
   "metadata": {
    "toc": true
   },
   "source": [
    "<h1>Table of Contents<span class=\"tocSkip\"></span></h1>\n",
    "<div class=\"toc\"><ul class=\"toc-item\"><li><span><a href=\"#Источник\" data-toc-modified-id=\"Источник-1\">Источник</a></span></li><li><span><a href=\"#Разделение-текста-на-лексемы\" data-toc-modified-id=\"Разделение-текста-на-лексемы-2\">Разделение текста на лексемы</a></span></li><li><span><a href=\"#Нормализация-лексем-(token-normalization)\" data-toc-modified-id=\"Нормализация-лексем-(token-normalization)-3\">Нормализация лексем (token normalization)</a></span></li><li><span><a href=\"#Стемминг-и-лемматизация\" data-toc-modified-id=\"Стемминг-и-лемматизация-4\">Стемминг и лемматизация</a></span></li><li><span><a href=\"#Быстрое-пересечение-инвертированных-списков-с-помощью-указателей-пропусков\" data-toc-modified-id=\"Быстрое-пересечение-инвертированных-списков-с-помощью-указателей-пропусков-5\">Быстрое пересечение инвертированных списков с помощью указателей пропусков</a></span></li><li><span><a href=\"#Словопозиции-с-координатами-и-фразовые-запросы\" data-toc-modified-id=\"Словопозиции-с-координатами-и-фразовые-запросы-6\">Словопозиции с координатами и фразовые запросы</a></span></li></ul></div>"
   ]
  },
  {
   "cell_type": "markdown",
   "id": "8160dc1f",
   "metadata": {},
   "source": [
    "## Источник"
   ]
  },
  {
   "cell_type": "markdown",
   "id": "c1a2ef77",
   "metadata": {},
   "source": [
    "\"Введение в информационный поиск\".  \n",
    "Глава 2. Лексикон и список словопозиций.  \n",
    "https://nlp.stanford.edu/IR-book/html/htmledition/the-term-vocabulary-and-postings-lists-1.html  "
   ]
  },
  {
   "cell_type": "markdown",
   "id": "eaa5bc5e",
   "metadata": {},
   "source": [
    "## Разделение текста на лексемы"
   ]
  },
  {
   "cell_type": "markdown",
   "id": "78347813",
   "metadata": {},
   "source": [
    "**Зависит от** \n",
    "- языка (O'Neaill - одно слово)\n",
    "- предметной области (C++, 142.32.48.231)"
   ]
  },
  {
   "cell_type": "markdown",
   "id": "60876fb9",
   "metadata": {},
   "source": [
    "**Разбиение по пробелам?**\n",
    "- Простое разделение текста по пробелам приводит к разрыву слов, которые следовало бы рассматривать как цельные лексемы (Los Angeles, General Motors)\n",
    "- Один из простых наивных способов борьбы использование большого лексикона. Выполняется поиск самой длинной последовательности, представленной в лексиконе."
   ]
  },
  {
   "cell_type": "markdown",
   "id": "be85f347",
   "metadata": {},
   "source": [
    "**Стоп слова?**\n",
    "- Есть соблазн их убирать\n",
    "- Но тогда будут прибиты и фразы типа \"to be or not to be\". А фраза \"as we may think\" преварится в \"think\"\n",
    "- В поисковых веб-системах списки стоп-слов обычно не используются. "
   ]
  },
  {
   "cell_type": "markdown",
   "id": "f1524b97",
   "metadata": {},
   "source": [
    "## Нормализация лексем (token normalization)"
   ]
  },
  {
   "cell_type": "markdown",
   "id": "e4a437b1",
   "metadata": {},
   "source": [
    "- USA и U.S.A. можно рассматривать как одно и тоже\n",
    "- C.A.T. и CAT - не одно и то же, и тем более CAT -> cat\n",
    "- Black - может быть фамилией, а black - уже нет, скорее всего\n",
    "- 3/12/91 - в США означает 12 марта, а в Европе - 3 декабря"
   ]
  },
  {
   "cell_type": "markdown",
   "id": "0f791286",
   "metadata": {},
   "source": [
    "## Стемминг и лемматизация"
   ]
  },
  {
   "cell_type": "markdown",
   "id": "eb8f6b56",
   "metadata": {},
   "source": [
    "Цель стемминга и лемматизации - привести словоформы и производные формы к общей основной форме. Например:  \n",
    "- am, are, is => be\n",
    "- car, cars, car's, cars' => car"
   ]
  },
  {
   "cell_type": "markdown",
   "id": "fbf55123",
   "metadata": {},
   "source": [
    "Стемминг (stemming) - про отбрасывание окончания (saw => s)  \n",
    "Лемматизация (lemmatization) - по честному определяется основная или словарная форма слова, называемая *леммой* (saw => see)"
   ]
  },
  {
   "cell_type": "markdown",
   "id": "8cb6fac5",
   "metadata": {},
   "source": [
    "## Быстрое пересечение инвертированных списков с помощью указателей пропусков"
   ]
  },
  {
   "cell_type": "markdown",
   "id": "beaf7733",
   "metadata": {},
   "source": [
    "<img src=\"images/fastinv.png\" width=\"500\" align=\"left\">"
   ]
  },
  {
   "cell_type": "markdown",
   "id": "a7c46a54",
   "metadata": {},
   "source": [
    "- Эврестическое правило - если длина инвертированного списка равна P, то нужно использовать √P указателей\n",
    "- Создать эффективные указатели пропусков легко, если индекс изменяется редко"
   ]
  },
  {
   "cell_type": "markdown",
   "id": "6d434953",
   "metadata": {},
   "source": [
    "## Словопозиции с координатами и фразовые запросы"
   ]
  },
  {
   "cell_type": "markdown",
   "id": "7eff8596",
   "metadata": {},
   "source": [
    "- Рассмотрим *координатный индекс* (positional index)\n",
    "- Для каждого термина из лексикона хранятся словопозиции в формате docID: < position1, position2, ... >. Где positionI - координаты лексемы в документе."
   ]
  },
  {
   "cell_type": "markdown",
   "id": "7eb79143",
   "metadata": {},
   "source": [
    "<img src=\"images/img121.png\" width=\"500\" align=\"left\">"
   ]
  },
  {
   "cell_type": "markdown",
   "id": "1466d002",
   "metadata": {},
   "source": [
    "- Можно обобщить алгоритм пересечения инвертированных списков\n",
    "- Алгоритм находит места, в которых два термина встречаются на расстоянии не более k слов"
   ]
  }
 ],
 "metadata": {
  "kernelspec": {
   "display_name": "Python 3 (ipykernel)",
   "language": "python",
   "name": "python3"
  },
  "language_info": {
   "codemirror_mode": {
    "name": "ipython",
    "version": 3
   },
   "file_extension": ".py",
   "mimetype": "text/x-python",
   "name": "python",
   "nbconvert_exporter": "python",
   "pygments_lexer": "ipython3",
   "version": "3.10.6"
  },
  "toc": {
   "base_numbering": 1,
   "nav_menu": {},
   "number_sections": false,
   "sideBar": true,
   "skip_h1_title": true,
   "title_cell": "Table of Contents",
   "title_sidebar": "Contents",
   "toc_cell": true,
   "toc_position": {},
   "toc_section_display": true,
   "toc_window_display": false
  }
 },
 "nbformat": 4,
 "nbformat_minor": 5
}
