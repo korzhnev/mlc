{
 "cells": [
  {
   "cell_type": "markdown",
   "id": "7e881964",
   "metadata": {
    "toc": true
   },
   "source": [
    "<h1>Table of Contents<span class=\"tocSkip\"></span></h1>\n",
    "<div class=\"toc\"><ul class=\"toc-item\"><li><span><a href=\"#Источник\" data-toc-modified-id=\"Источник-1\">Источник</a></span></li><li><span><a href=\"#Преимущества-сжатия-(2008-год)\" data-toc-modified-id=\"Преимущества-сжатия-(2008-год)-2\">Преимущества сжатия (2008 год)</a></span></li><li><span><a href=\"#Сжатие-словаря\" data-toc-modified-id=\"Сжатие-словаря-3\">Сжатие словаря</a></span><ul class=\"toc-item\"><li><span><a href=\"#Словарь-как-строка\" data-toc-modified-id=\"Словарь-как-строка-3.1\">Словарь как строка</a></span></li></ul></li><li><span><a href=\"#Сжатие-списка-словопозиций\" data-toc-modified-id=\"Сжатие-списка-словопозиций-4\">Сжатие списка словопозиций</a></span><ul class=\"toc-item\"><li><span><a href=\"#Байтовое-кодирование-переменной-длины-(variable-byte-encoding---VB)\" data-toc-modified-id=\"Байтовое-кодирование-переменной-длины-(variable-byte-encoding---VB)-4.1\">Байтовое кодирование переменной длины (variable byte encoding - VB)</a></span></li></ul></li></ul></div>"
   ]
  },
  {
   "cell_type": "markdown",
   "id": "5bff8717",
   "metadata": {},
   "source": [
    "## Источник"
   ]
  },
  {
   "cell_type": "markdown",
   "id": "fb32c702",
   "metadata": {},
   "source": [
    "\"Введение в информационный поиск\".  \n",
    "Глава 5. Сжатие индекса  \n",
    "https://nlp.stanford.edu/IR-book/html/htmledition/index-compression-1.html"
   ]
  },
  {
   "cell_type": "markdown",
   "id": "60fe2b15",
   "metadata": {},
   "source": [
    "## Преимущества сжатия (2008 год)"
   ]
  },
  {
   "cell_type": "markdown",
   "id": "ded002b1",
   "metadata": {},
   "source": [
    "- Легко достичь коэффициента сжатия 1:4, и тем самым удешевить хранение индекса на 75%\n",
    "- Можем больше данных разместить в кеше (оперативной памяти)\n",
    "- Считать данные с диска и распаковать оказывается чаще всего быстрее, чем считывать с диска нераспакованные  "
   ]
  },
  {
   "cell_type": "markdown",
   "id": "31188329",
   "metadata": {},
   "source": [
    "## Сжатие словаря"
   ]
  },
  {
   "cell_type": "markdown",
   "id": "9b786475",
   "metadata": {},
   "source": [
    "- Зачем сжимать словарь, если самая жирная часть индекса, это инвертированный список?\n",
    "- Основная цель - поместить его в оперативной памями целиком по возможности\n",
    "- Дополнительный плюс - быстрый старт системы"
   ]
  },
  {
   "cell_type": "markdown",
   "id": "5ad7a748",
   "metadata": {},
   "source": [
    "### Словарь как строка"
   ]
  },
  {
   "cell_type": "markdown",
   "id": "2726b3c3",
   "metadata": {},
   "source": [
    "- Располагаем элементы в лексиграфическом порядке\n",
    "- Применяем бинарный поиск"
   ]
  },
  {
   "cell_type": "markdown",
   "id": "b3b6f842",
   "metadata": {},
   "source": [
    "<img src=\"images/img259.png\" width=\"600\" align=\"left\">"
   ]
  },
  {
   "cell_type": "markdown",
   "id": "6b071fbe",
   "metadata": {},
   "source": [
    "## Сжатие списка словопозиций"
   ]
  },
  {
   "cell_type": "markdown",
   "id": "a5ada92c",
   "metadata": {},
   "source": [
    "- Для простоты будем считать, что словопозиция содержит только docID, т.е. не содержит частоту и координаты слова в документе.\n",
    "- Давайте будем хранить не docID а интервалы между ними. Интервалы обычно меньше, чем абсолютные значения docID.\n",
    "- А небольшие числа можно закодировать используя меньше памяти, чем для больших"
   ]
  },
  {
   "cell_type": "markdown",
   "id": "10fcf814",
   "metadata": {},
   "source": [
    "<img src=\"images/comp_int.png\" width=\"600\" align=\"left\">"
   ]
  },
  {
   "cell_type": "markdown",
   "id": "cb27ca05",
   "metadata": {},
   "source": [
    "### Байтовое кодирование переменной длины (variable byte encoding - VB)"
   ]
  },
  {
   "cell_type": "markdown",
   "id": "a002f9d5",
   "metadata": {},
   "source": [
    "- Для кодирования интервалов используется целое кол-во байтов\n",
    "- Последние 7 бит - payload\n",
    "- Первий бит - *бит продолжения*. Он равен 1 у последнего закодированного интервала, и 0 в остальных случаях"
   ]
  },
  {
   "cell_type": "markdown",
   "id": "f327bd30",
   "metadata": {},
   "source": [
    "<img src=\"images/vbc.png\" width=\"500\" align=\"left\">"
   ]
  },
  {
   "cell_type": "code",
   "execution_count": 27,
   "id": "1c2a5c8a",
   "metadata": {},
   "outputs": [
    {
     "name": "stdout",
     "output_type": "stream",
     "text": [
      "824 1100111000\n",
      "5 101\n",
      "214577 110100011000110001\n"
     ]
    }
   ],
   "source": [
    "for x in (824, 5, 214577):\n",
    "    binary = bin(x).replace('0b', '')\n",
    "    print(f\"{x} {binary}\")"
   ]
  },
  {
   "cell_type": "markdown",
   "id": "2f8c668b",
   "metadata": {},
   "source": [
    "- В итоге за счет дополнительных манипуляций битами получаем меньший размер\n",
    "- Байтовое кодирование - приемлемый компромис между скоростью поиска и размером памяти\n",
    "- Можно пойди дальше и применить битовое кодирование (если место дорогое), но это более сложный способ"
   ]
  },
  {
   "cell_type": "code",
   "execution_count": null,
   "id": "75f0cf2e",
   "metadata": {},
   "outputs": [],
   "source": []
  }
 ],
 "metadata": {
  "kernelspec": {
   "display_name": "Python 3 (ipykernel)",
   "language": "python",
   "name": "python3"
  },
  "language_info": {
   "codemirror_mode": {
    "name": "ipython",
    "version": 3
   },
   "file_extension": ".py",
   "mimetype": "text/x-python",
   "name": "python",
   "nbconvert_exporter": "python",
   "pygments_lexer": "ipython3",
   "version": "3.10.9"
  },
  "toc": {
   "base_numbering": 1,
   "nav_menu": {},
   "number_sections": false,
   "sideBar": true,
   "skip_h1_title": true,
   "title_cell": "Table of Contents",
   "title_sidebar": "Contents",
   "toc_cell": true,
   "toc_position": {},
   "toc_section_display": true,
   "toc_window_display": false
  }
 },
 "nbformat": 4,
 "nbformat_minor": 5
}
