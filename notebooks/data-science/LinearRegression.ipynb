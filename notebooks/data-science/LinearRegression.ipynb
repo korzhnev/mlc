{
 "cells": [
  {
   "cell_type": "markdown",
   "id": "f11a8692",
   "metadata": {
    "toc": true
   },
   "source": [
    "<h1>Table of Contents<span class=\"tocSkip\"></span></h1>\n",
    "<div class=\"toc\"><ul class=\"toc-item\"><li><span><a href=\"#Постановка-задачи\" data-toc-modified-id=\"Постановка-задачи-1\">Постановка задачи</a></span></li><li><span><a href=\"#Как-будем-решать?\" data-toc-modified-id=\"Как-будем-решать?-2\">Как будем решать?</a></span></li><li><span><a href=\"#Подготовим-данные\" data-toc-modified-id=\"Подготовим-данные-3\">Подготовим данные</a></span><ul class=\"toc-item\"><li><span><a href=\"#Код-из-предедыщих-разделов\" data-toc-modified-id=\"Код-из-предедыщих-разделов-3.1\">Код из предедыщих разделов</a></span></li></ul></li><li><span><a href=\"#Применение-градиентного-спуска\" data-toc-modified-id=\"Применение-градиентного-спуска-4\">Применение градиентного спуска</a></span></li></ul></div>"
   ]
  },
  {
   "cell_type": "markdown",
   "id": "912f9bba",
   "metadata": {},
   "source": [
    "### Постановка задачи"
   ]
  },
  {
   "cell_type": "markdown",
   "id": "4709a0a3",
   "metadata": {},
   "source": [
    "- Пусть мы разрабатываем социальную сеть\n",
    "- И пусть мы нашли сильную корреляцию между кол-вом друзей у пользователя и кол-вом времени сколько он проводит на сайте\n",
    "- Мы хотим построить модель описывающую эту связь"
   ]
  },
  {
   "cell_type": "markdown",
   "id": "62e716fd",
   "metadata": {},
   "source": [
    "### Как будем решать?"
   ]
  },
  {
   "cell_type": "markdown",
   "id": "16a9b50e",
   "metadata": {},
   "source": [
    "Выдвинем гипотезу, что существуют такие константы alpha и beta, что зная кол-во друзей можно сделать предсказание времени:"
   ]
  },
  {
   "cell_type": "code",
   "execution_count": 3,
   "id": "94d81b77",
   "metadata": {},
   "outputs": [],
   "source": [
    "def predict(alpha: float, beta: float, x_i: float) -> float: \n",
    "    return beta * x_i + alpha"
   ]
  },
  {
   "cell_type": "markdown",
   "id": "4eecc641",
   "metadata": {},
   "source": [
    "Ошибку предсказаний будем считать как сумму квадратов отклонений:"
   ]
  },
  {
   "cell_type": "code",
   "execution_count": 4,
   "id": "3bd07562",
   "metadata": {},
   "outputs": [],
   "source": [
    "from typing import List\n",
    "Vector = List[float]\n",
    "\n",
    "def error(alpha: float, beta: float, x_i: float, y_i: float) -> float:\n",
    "    return predict(alpha, beta, x_i) - y_i\n",
    "\n",
    "def sum_of_sqerrors(alpha: float, beta: float, x: Vector, y: Vector) -> float: \n",
    "    return sum(error(alpha, beta, x_i, y_i) ** 2\n",
    "               for x_i, y_i in zip(x, y))"
   ]
  },
  {
   "cell_type": "markdown",
   "id": "562baf02",
   "metadata": {},
   "source": [
    "Решение будет состоит в том что выбрать такие alpha и beta, чтобы квадрат ошибок был минимальным:\n",
    "- Это можно сделать аналитически, но в общем случае это будет слишком долго по вычислениям\n",
    "- Поэтому применим градиентный спуск"
   ]
  },
  {
   "cell_type": "markdown",
   "id": "dda8ccee",
   "metadata": {
    "heading_collapsed": true
   },
   "source": [
    "### Подготовим данные"
   ]
  },
  {
   "cell_type": "code",
   "execution_count": 11,
   "id": "fb0abedc",
   "metadata": {
    "hidden": true
   },
   "outputs": [],
   "source": [
    "num_friends = [i for i in range(-100, 110, 10)] \n",
    "daily_minutes = [0.9 * i + 23 for i in num_friends]"
   ]
  },
  {
   "cell_type": "markdown",
   "id": "68933534",
   "metadata": {
    "heading_collapsed": true,
    "hidden": true
   },
   "source": [
    "#### Код из предедыщих разделов"
   ]
  },
  {
   "cell_type": "code",
   "execution_count": 15,
   "id": "3e835c3e",
   "metadata": {
    "hidden": true
   },
   "outputs": [],
   "source": [
    "from typing import List\n",
    "import math\n",
    "\n",
    "Vector = List[float]\n",
    "\n",
    "def dot(v: Vector, w: Vector) -> float:\n",
    "    return sum(v_i * w_i for v_i, w_i in zip(v, w))\n",
    "\n",
    "def sum_of_squares(v: Vector) -> float:\n",
    "    return dot(v, v)\n",
    "\n",
    "def subtract(v: Vector, w: Vector) -> Vector:\n",
    "    return [v_i - w_i for v_i, w_i in zip(v,w)]\n",
    "\n",
    "def magnitude(v: Vector) -> float:\n",
    "    return math.sqrt(sum_of_squares(v))\n",
    "\n",
    "def add(v: Vector, w: Vector) -> Vector:\n",
    "    return [v_i + w_i for v_i, w_i in zip(v,w)]\n",
    "\n",
    "def scalar_multiply(c: float, v: Vector) -> Vector:\n",
    "    return [c * v_i for v_i in v]\n",
    "\n",
    "def gradient_step(v: Vector, gradient: Vector, step_size: float) -> Vector: \n",
    "    \"\"\"Двигаемся с шагом `step_size` в направлении `gradient` от `v`\"\"\"\n",
    "    assert len(v) == len(gradient)\n",
    "    step = scalar_multiply(step_size, gradient)\n",
    "    return add(v, step)"
   ]
  },
  {
   "cell_type": "markdown",
   "id": "b25ca6a5",
   "metadata": {},
   "source": [
    "### Применение градиентного спуска"
   ]
  },
  {
   "cell_type": "code",
   "execution_count": 14,
   "id": "d509ba38",
   "metadata": {},
   "outputs": [
    {
     "name": "stderr",
     "output_type": "stream",
     "text": [
      "loss: 841.592:  29%|██████▏              | 2923/10000 [00:02<00:04, 1493.36it/s]IOPub message rate exceeded.\n",
      "The notebook server will temporarily stop sending output\n",
      "to the client in order to avoid crashing it.\n",
      "To change this limit, set the config variable\n",
      "`--NotebookApp.iopub_msg_rate_limit`.\n",
      "\n",
      "Current values:\n",
      "NotebookApp.iopub_msg_rate_limit=1000.0 (msgs/sec)\n",
      "NotebookApp.rate_limit_window=3.0 (secs)\n",
      "\n",
      "loss: 25.367:  71%|███████████████▋      | 7108/10000 [00:04<00:01, 1630.14it/s]IOPub message rate exceeded.\n",
      "The notebook server will temporarily stop sending output\n",
      "to the client in order to avoid crashing it.\n",
      "To change this limit, set the config variable\n",
      "`--NotebookApp.iopub_msg_rate_limit`.\n",
      "\n",
      "Current values:\n",
      "NotebookApp.iopub_msg_rate_limit=1000.0 (msgs/sec)\n",
      "NotebookApp.rate_limit_window=3.0 (secs)\n",
      "\n",
      "loss: 2.316: 100%|██████████████████████| 10000/10000 [00:06<00:00, 1481.23it/s]"
     ]
    },
    {
     "name": "stdout",
     "output_type": "stream",
     "text": [
      "alpha=22.66805731055039 beta=0.9\n"
     ]
    },
    {
     "name": "stderr",
     "output_type": "stream",
     "text": [
      "\n"
     ]
    }
   ],
   "source": [
    "import random\n",
    "import tqdm\n",
    "\n",
    "num_epochs = 10000\n",
    "random.seed(0)\n",
    "guess = [random.random(), random.random()] # choose random value to start\n",
    "\n",
    "learning_rate = 0.00001\n",
    "\n",
    "with tqdm.trange(num_epochs) as t: \n",
    "    for _ in t:\n",
    "        alpha, beta = guess\n",
    "        \n",
    "        # Partial derivative of loss with respect to alpha\n",
    "        grad_a = sum(2 * error(alpha, beta, x_i, y_i)\n",
    "                     for x_i, y_i in zip(num_friends,\n",
    "                                         daily_minutes))\n",
    "        \n",
    "        # Partial derivative of loss with respect to beta\n",
    "        grad_b = sum(2 * error(alpha, beta, x_i, y_i) * x_i \n",
    "                     for x_i, y_i in zip(num_friends,\n",
    "                                         daily_minutes))\n",
    "        \n",
    "        # Compute loss to stick in the tqdm description\n",
    "        loss = sum_of_sqerrors(alpha, beta,\n",
    "                               num_friends, daily_minutes)\n",
    "        \n",
    "        t.set_description(f\"loss: {loss:.3f}\") \n",
    "        \n",
    "        # Finally, update the guess\n",
    "        guess = gradient_step(guess, [grad_a, grad_b], -learning_rate) \n",
    "\n",
    "# We should get pretty much the same results:\n",
    "alpha, beta = guess \n",
    "print(f\"{alpha=} {beta=}\")\n",
    "assert 22.5 < alpha < 23.0 \n",
    "assert 0.85 < beta < 0.95"
   ]
  },
  {
   "cell_type": "code",
   "execution_count": null,
   "id": "803ada06",
   "metadata": {},
   "outputs": [],
   "source": []
  }
 ],
 "metadata": {
  "kernelspec": {
   "display_name": "Python 3 (ipykernel)",
   "language": "python",
   "name": "python3"
  },
  "language_info": {
   "codemirror_mode": {
    "name": "ipython",
    "version": 3
   },
   "file_extension": ".py",
   "mimetype": "text/x-python",
   "name": "python",
   "nbconvert_exporter": "python",
   "pygments_lexer": "ipython3",
   "version": "3.10.6"
  },
  "toc": {
   "base_numbering": 1,
   "nav_menu": {},
   "number_sections": false,
   "sideBar": true,
   "skip_h1_title": true,
   "title_cell": "Table of Contents",
   "title_sidebar": "Contents",
   "toc_cell": true,
   "toc_position": {},
   "toc_section_display": true,
   "toc_window_display": false
  }
 },
 "nbformat": 4,
 "nbformat_minor": 5
}
