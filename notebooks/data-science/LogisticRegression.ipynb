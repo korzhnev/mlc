{
 "cells": [
  {
   "cell_type": "markdown",
   "id": "d99fe144",
   "metadata": {
    "toc": true
   },
   "source": [
    "<h1>Table of Contents<span class=\"tocSkip\"></span></h1>\n",
    "<div class=\"toc\"><ul class=\"toc-item\"><li><span><a href=\"#Постановка-задачи\" data-toc-modified-id=\"Постановка-задачи-1\">Постановка задачи</a></span></li><li><span><a href=\"#Как-насчет-линейной-регрессии?\" data-toc-modified-id=\"Как-насчет-линейной-регрессии?-2\">Как насчет линейной регрессии?</a></span></li><li><span><a href=\"#Логистическая-функция-(aka-сигмоид)\" data-toc-modified-id=\"Логистическая-функция-(aka-сигмоид)-3\">Логистическая функция (aka сигмоид)</a></span><ul class=\"toc-item\"><li><span><a href=\"#Что-она-нам-дает?\" data-toc-modified-id=\"Что-она-нам-дает?-3.1\">Что она нам дает?</a></span></li><li><span><a href=\"#Как-подбирать-коэффициенты?\" data-toc-modified-id=\"Как-подбирать-коэффициенты?-3.2\">Как подбирать коэффициенты?</a></span></li></ul></li></ul></div>"
   ]
  },
  {
   "cell_type": "markdown",
   "id": "0475a89c",
   "metadata": {},
   "source": [
    "### Постановка задачи"
   ]
  },
  {
   "cell_type": "markdown",
   "id": "bf7c5250",
   "metadata": {},
   "source": [
    "- Пусть мы разрабатываем социальную сеть\n",
    "- Мы знаем возраст пользователя, его опыт работы, доходы, кол-во друзей\n",
    "- И мы хотим спрогнозировать купит ли пользователь VIP-аккаунт"
   ]
  },
  {
   "cell_type": "markdown",
   "id": "eaf4e308",
   "metadata": {},
   "source": [
    "### Как насчет линейной регрессии?"
   ]
  },
  {
   "cell_type": "markdown",
   "id": "3a7941b5",
   "metadata": {},
   "source": [
    "Мы могли бы применить линейную регрессию, что-то вроде:  \n",
    "$ОплаченныйАккунт = k1*Возраст + k2*Опыт + k3*Доходы$"
   ]
  },
  {
   "cell_type": "markdown",
   "id": "c05f1832",
   "metadata": {},
   "source": [
    "Но мы получили бы число в районе (-∞, +∞).\n",
    "А мы хотели бы получить число от [0, 1], которое можно было бы интерпретировать как вероятность того, купит ли пользователь аккаунт "
   ]
  },
  {
   "cell_type": "markdown",
   "id": "712960a7",
   "metadata": {},
   "source": [
    "### Логистическая функция (aka сигмоид)"
   ]
  },
  {
   "cell_type": "code",
   "execution_count": 10,
   "id": "bb443492",
   "metadata": {},
   "outputs": [
    {
     "data": {
      "image/png": "[encoded data removed]",
      "text/plain": [
       "<Figure size 432x288 with 1 Axes>"
      ]
     },
     "metadata": {
      "needs_background": "light"
     },
     "output_type": "display_data"
    }
   ],
   "source": [
    "import math\n",
    "\n",
    "def logistic(x: float) -> float:\n",
    "    return 1.0 / (1 + math.exp(-x))\n",
    "\n",
    "xs = [x/10 for x in range(-100, 100)]\n",
    "ys = [logistic(x) for x in xs]\n",
    "\n",
    "\n",
    "import matplotlib.pyplot as plt\n",
    "plt.plot(xs, ys)\n",
    "\n",
    "plt.title('Логистическая функция')\n",
    "  \n",
    "plt.show()"
   ]
  },
  {
   "cell_type": "markdown",
   "id": "629fbfe7",
   "metadata": {},
   "source": [
    "#### Что она нам дает?"
   ]
  },
  {
   "cell_type": "markdown",
   "id": "74ce6ef3",
   "metadata": {},
   "source": [
    "- (-∞, +∞) -> (0, 1)\n",
    "- Удобная производная lamda x: logistic(x) * (1 - logistic(x))"
   ]
  },
  {
   "cell_type": "markdown",
   "id": "9252d7ab",
   "metadata": {},
   "source": [
    "Применим ее к результату линейной регресии:"
   ]
  },
  {
   "cell_type": "markdown",
   "id": "10d1971f",
   "metadata": {},
   "source": [
    "$logistic(𝑘1∗Возраст+𝑘2∗Опыт+𝑘3∗Доходы)$"
   ]
  },
  {
   "cell_type": "markdown",
   "id": "201b1e5c",
   "metadata": {},
   "source": [
    "#### Как подбирать коэффициенты?"
   ]
  },
  {
   "cell_type": "markdown",
   "id": "0a0ca862",
   "metadata": {},
   "source": [
    "Если очень грубо:\n",
    "- Решаем оптимизационную задачу подбора коэффициентов k_i используя метод максимального правдоподобия - максимизируя функцию праводоподобия\n",
    "- Для удобства ищем максимум логарифма функции правдободобия (это эквивалентная задача, так как логарифм - монотонно возрастающая функция)\n",
    "- Для этого используем градиентный спуск"
   ]
  },
  {
   "cell_type": "code",
   "execution_count": null,
   "id": "c2086f01",
   "metadata": {},
   "outputs": [],
   "source": []
  }
 ],
 "metadata": {
  "kernelspec": {
   "display_name": "Python 3 (ipykernel)",
   "language": "python",
   "name": "python3"
  },
  "language_info": {
   "codemirror_mode": {
    "name": "ipython",
    "version": 3
   },
   "file_extension": ".py",
   "mimetype": "text/x-python",
   "name": "python",
   "nbconvert_exporter": "python",
   "pygments_lexer": "ipython3",
   "version": "3.10.6"
  },
  "toc": {
   "base_numbering": 1,
   "nav_menu": {},
   "number_sections": false,
   "sideBar": true,
   "skip_h1_title": true,
   "title_cell": "Table of Contents",
   "title_sidebar": "Contents",
   "toc_cell": true,
   "toc_position": {},
   "toc_section_display": true,
   "toc_window_display": false
  }
 },
 "nbformat": 4,
 "nbformat_minor": 5
}
