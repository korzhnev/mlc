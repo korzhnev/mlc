{
 "cells": [
  {
   "cell_type": "markdown",
   "id": "84004c21",
   "metadata": {
    "toc": true
   },
   "source": [
    "<h1>Table of Contents<span class=\"tocSkip\"></span></h1>\n",
    "<div class=\"toc\"><ul class=\"toc-item\"><li><span><a href=\"#Векторы\" data-toc-modified-id=\"Векторы-1\">Векторы</a></span><ul class=\"toc-item\"><li><span><a href=\"#Сложение\" data-toc-modified-id=\"Сложение-1.1\">Сложение</a></span></li><li><span><a href=\"#Вычитание\" data-toc-modified-id=\"Вычитание-1.2\">Вычитание</a></span></li><li><span><a href=\"#Умножение-вектора-на-скаляр\" data-toc-modified-id=\"Умножение-вектора-на-скаляр-1.3\">Умножение вектора на скаляр</a></span></li><li><span><a href=\"#Скалярное-произведение\" data-toc-modified-id=\"Скалярное-произведение-1.4\">Скалярное произведение</a></span></li><li><span><a href=\"#Длина-вектора\" data-toc-modified-id=\"Длина-вектора-1.5\">Длина вектора</a></span></li></ul></li></ul></div>"
   ]
  },
  {
   "cell_type": "markdown",
   "id": "a8bc3cf8",
   "metadata": {},
   "source": [
    "# Линейная алгебра"
   ]
  },
  {
   "cell_type": "markdown",
   "id": "d3ca10c1",
   "metadata": {},
   "source": [
    "## Векторы"
   ]
  },
  {
   "cell_type": "markdown",
   "id": "3bc617f5",
   "metadata": {},
   "source": [
    "* Векторы - это точки в некотором конечноразмерном пространстве.\n",
    "* Данные часто удобно представлять, как векторы. \n",
    "* Вектор можно представить как список чисел. Например *[рост, масса, возраст]*."
   ]
  },
  {
   "cell_type": "code",
   "execution_count": 8,
   "id": "a76438d8",
   "metadata": {},
   "outputs": [],
   "source": [
    "from typing import List\n",
    "\n",
    "Vector = List[float]"
   ]
  },
  {
   "cell_type": "markdown",
   "id": "981942f2",
   "metadata": {},
   "source": [
    "### Сложение"
   ]
  },
  {
   "cell_type": "code",
   "execution_count": 120,
   "id": "93c944e0",
   "metadata": {},
   "outputs": [],
   "source": [
    "def add(v: Vector, w: Vector) -> Vector:\n",
    "    assert len(v) == len(w), \"векторы должны иметь одинаковую длину\"\n",
    "    \n",
    "    return [v_i + w_i for v_i, w_i in zip(v,w)]\n",
    "\n",
    "assert add([1, 2, 3], [4, 5, 6]) == [5, 7, 9]\n",
    "assert add([1, 2], [2, 1]) == [3, 3]\n",
    "\n",
    "# list(zip([1, 2, 3], [4, 5, 6]))"
   ]
  },
  {
   "cell_type": "code",
   "execution_count": 121,
   "id": "ef18695e",
   "metadata": {},
   "outputs": [
    {
     "data": {
      "image/png": "[encoded data removed]",
      "text/plain": [
       "<Figure size 540x252 with 1 Axes>"
      ]
     },
     "metadata": {
      "needs_background": "light"
     },
     "output_type": "display_data"
    }
   ],
   "source": [
    "import matplotlib.pyplot as plt\n",
    "\n",
    "plt.figure()\n",
    "ax = plt.gca()\n",
    "\n",
    "ax.quiver([0, 0, 0], [0, 0, 0], [1, 2, 3], [2, 1, 3], angles='xy', color=['b', 'g', 'r'], scale=1, scale_units='xy')\n",
    "ax.quiver([1], [2], [2], [1], angles='xy', scale=1, scale_units='xy', linestyle='dashed', facecolor='none', linewidth=1)\n",
    "\n",
    "ax.set_xlim(-1, 4)\n",
    "ax.set_ylim(-0.5, 3.5)\n",
    "\n",
    "plt.grid()\n",
    "plt.draw()\n",
    "plt.show()"
   ]
  },
  {
   "cell_type": "markdown",
   "id": "26f9050f",
   "metadata": {
    "heading_collapsed": true
   },
   "source": [
    "### Вычитание"
   ]
  },
  {
   "cell_type": "code",
   "execution_count": 122,
   "id": "5f9dea96",
   "metadata": {
    "hidden": true
   },
   "outputs": [],
   "source": [
    "def substruct(v: Vector, w: Vector) -> Vector:\n",
    "    assert len(v) == len(w), \"векторы должны иметь одинаковую длину\"\n",
    "    \n",
    "    return [v_i - w_i for v_i, w_i in zip(v,w)]\n",
    "\n",
    "assert substruct([5, 7, 9], [4, 5, 6]) == [1, 2, 3]"
   ]
  },
  {
   "cell_type": "markdown",
   "id": "f3630ff6",
   "metadata": {
    "heading_collapsed": true
   },
   "source": [
    "### Умножение вектора на скаляр"
   ]
  },
  {
   "cell_type": "code",
   "execution_count": 123,
   "id": "2ac4da0a",
   "metadata": {
    "hidden": true
   },
   "outputs": [],
   "source": [
    "def scalar_multiply(c: float, v: Vector) -> Vector:\n",
    "    \"\"\"Умножаем каждый элемент на c\"\"\"\n",
    "    return [c * v_i for v_i in v]\n",
    "\n",
    "assert scalar_multiply(2, [1, 2, 3]) == [2, 4, 6]"
   ]
  },
  {
   "cell_type": "code",
   "execution_count": 5,
   "id": "ead94956",
   "metadata": {
    "hidden": true
   },
   "outputs": [
    {
     "data": {
      "image/png": "[encoded data removed]",
      "text/plain": [
       "<Figure size 432x288 with 1 Axes>"
      ]
     },
     "metadata": {
      "needs_background": "light"
     },
     "output_type": "display_data"
    }
   ],
   "source": [
    "import matplotlib.pyplot as plt\n",
    "\n",
    "plt.figure()\n",
    "ax = plt.gca()\n",
    "\n",
    "ax.quiver([0], [0], [1], [2], angles='xy', color=['g'], scale=1, scale_units='xy')\n",
    "ax.quiver([0], [0], [3], [6], angles='xy', scale=1, scale_units='xy', linestyle='dashed', facecolor='none', linewidth=1)\n",
    "\n",
    "ax.set_xlim(-1, 4)\n",
    "ax.set_ylim(-0.5, 8)\n",
    "\n",
    "plt.grid()\n",
    "plt.draw()\n",
    "plt.show()"
   ]
  },
  {
   "cell_type": "markdown",
   "id": "f9a7a5dc",
   "metadata": {},
   "source": [
    "### Скалярное произведение "
   ]
  },
  {
   "cell_type": "code",
   "execution_count": 9,
   "id": "8045ee76",
   "metadata": {},
   "outputs": [],
   "source": [
    "def dot(v: Vector, w: Vector) -> float:\n",
    "    assert len(v) == len(w), \"векторы должны иметь одинаковую длину\"\n",
    "    \n",
    "    return sum(v_i * w_i for v_i, w_i in zip(v, w))\n",
    "\n",
    "assert dot([1, 2, 3], [4, 5, 6]) == 32"
   ]
  },
  {
   "cell_type": "code",
   "execution_count": 58,
   "id": "e3c5aaf9",
   "metadata": {},
   "outputs": [
    {
     "data": {
      "image/png": "[encoded data removed]",
      "text/plain": [
       "<Figure size 432x288 with 1 Axes>"
      ]
     },
     "metadata": {
      "needs_background": "light"
     },
     "output_type": "display_data"
    }
   ],
   "source": [
    "import matplotlib.pyplot as plt\n",
    "\n",
    "plt.figure()\n",
    "ax = plt.gca()\n",
    "\n",
    "w = [0.6, 0.8] # |w| = 1\n",
    "v = [2, 1]\n",
    "\n",
    "ax.quiver([0, 0], [0, 0], [w[0], v[0]], [w[1], v[1]], angles='xy', color=['g', 'b'], scale=1, scale_units='xy')\n",
    "ax.quiver([0], [0], [dot(w, v)*w[0]], [dot(w, v)*w[1]], angles='xy', scale=1, scale_units='xy', linestyle='dashed', facecolor='none', linewidth=1)\n",
    "\n",
    "\n",
    "ax.set_xlim(-0.5, 3)\n",
    "ax.set_ylim(-0.5, 2)\n",
    "\n",
    "plt.grid()\n",
    "plt.draw()\n",
    "plt.show()"
   ]
  },
  {
   "cell_type": "markdown",
   "id": "89b386e9",
   "metadata": {},
   "source": [
    "Геометрический смысл скалярного произведение векторов (один из смыслов) - проекция одного вектора (v) на направление другого(w)"
   ]
  },
  {
   "cell_type": "markdown",
   "id": "196a3f7e",
   "metadata": {},
   "source": [
    "### Длина вектора"
   ]
  },
  {
   "cell_type": "code",
   "execution_count": 60,
   "id": "0edf3c30",
   "metadata": {},
   "outputs": [],
   "source": [
    "def sum_of_squares(v: Vector) -> float:\n",
    "    return dot(v, v)\n",
    "\n",
    "assert sum_of_squares([1, 2, 3]) == 14 # 1*1 + 2*2 + 3*3"
   ]
  },
  {
   "cell_type": "code",
   "execution_count": 61,
   "id": "68a4920a",
   "metadata": {},
   "outputs": [],
   "source": [
    "import math\n",
    "\n",
    "def magnitude(v: Vector) -> float:\n",
    "    return math.sqrt(sum_of_squares(v))\n",
    "\n",
    "assert magnitude([3, 4]) == 5"
   ]
  },
  {
   "cell_type": "code",
   "execution_count": null,
   "id": "fcd4ee77",
   "metadata": {},
   "outputs": [],
   "source": []
  }
 ],
 "metadata": {
  "kernelspec": {
   "display_name": "Python 3 (ipykernel)",
   "language": "python",
   "name": "python3"
  },
  "language_info": {
   "codemirror_mode": {
    "name": "ipython",
    "version": 3
   },
   "file_extension": ".py",
   "mimetype": "text/x-python",
   "name": "python",
   "nbconvert_exporter": "python",
   "pygments_lexer": "ipython3",
   "version": "3.10.6"
  },
  "toc": {
   "base_numbering": 1,
   "nav_menu": {},
   "number_sections": false,
   "sideBar": true,
   "skip_h1_title": true,
   "title_cell": "Table of Contents",
   "title_sidebar": "Contents",
   "toc_cell": true,
   "toc_position": {},
   "toc_section_display": true,
   "toc_window_display": false
  }
 },
 "nbformat": 4,
 "nbformat_minor": 5
}
