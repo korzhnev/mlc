{
 "cells": [
  {
   "cell_type": "markdown",
   "id": "84004c21",
   "metadata": {
    "toc": true
   },
   "source": [
    "<h1>Table of Contents<span class=\"tocSkip\"></span></h1>\n",
    "<div class=\"toc\"><ul class=\"toc-item\"><li><span><a href=\"#Линейная-алгебра\" data-toc-modified-id=\"Линейная-алгебра-1\">Линейная алгебра</a></span><ul class=\"toc-item\"><li><span><a href=\"#Векторы\" data-toc-modified-id=\"Векторы-1.1\">Векторы</a></span><ul class=\"toc-item\"><li><span><a href=\"#Сложение\" data-toc-modified-id=\"Сложение-1.1.1\">Сложение</a></span></li><li><span><a href=\"#Вычитание\" data-toc-modified-id=\"Вычитание-1.1.2\">Вычитание</a></span></li><li><span><a href=\"#Умножение-вектора-на-скаляр\" data-toc-modified-id=\"Умножение-вектора-на-скаляр-1.1.3\">Умножение вектора на скаляр</a></span></li><li><span><a href=\"#Скалярное-произведение\" data-toc-modified-id=\"Скалярное-произведение-1.1.4\">Скалярное произведение</a></span></li><li><span><a href=\"#Длина-вектора\" data-toc-modified-id=\"Длина-вектора-1.1.5\">Длина вектора</a></span></li></ul></li><li><span><a href=\"#Матрицы\" data-toc-modified-id=\"Матрицы-1.2\">Матрицы</a></span></li></ul></li><li><span><a href=\"#Статистика\" data-toc-modified-id=\"Статистика-2\">Статистика</a></span><ul class=\"toc-item\"><li><span><a href=\"#Среднее\" data-toc-modified-id=\"Среднее-2.1\">Среднее</a></span><ul class=\"toc-item\"><li><span><a href=\"#Mean\" data-toc-modified-id=\"Mean-2.1.1\">Mean</a></span></li><li><span><a href=\"#Median\" data-toc-modified-id=\"Median-2.1.2\">Median</a></span></li><li><span><a href=\"#Quantile\" data-toc-modified-id=\"Quantile-2.1.3\">Quantile</a></span></li></ul></li><li><span><a href=\"#Меры-разброса-данных\" data-toc-modified-id=\"Меры-разброса-данных-2.2\">Меры разброса данных</a></span><ul class=\"toc-item\"><li><span><a href=\"#Range-(разброс)\" data-toc-modified-id=\"Range-(разброс)-2.2.1\">Range (разброс)</a></span></li><li><span><a href=\"#Variance-(дисперсия)\" data-toc-modified-id=\"Variance-(дисперсия)-2.2.2\">Variance (дисперсия)</a></span><ul class=\"toc-item\"><li><span><a href=\"#Почему-делим-на-n---1?\" data-toc-modified-id=\"Почему-делим-на-n---1?-2.2.2.1\">Почему делим на n - 1?</a></span></li></ul></li><li><span><a href=\"#Standard-deviation-(стандартное-отклонение)\" data-toc-modified-id=\"Standard-deviation-(стандартное-отклонение)-2.2.3\">Standard deviation (стандартное отклонение)</a></span></li><li><span><a href=\"#Interquartile-range-(интерквантильный-размах)\" data-toc-modified-id=\"Interquartile-range-(интерквантильный-размах)-2.2.4\">Interquartile range (интерквантильный размах)</a></span></li></ul></li><li><span><a href=\"#Correlation-(корреляция)\" data-toc-modified-id=\"Correlation-(корреляция)-2.3\">Correlation (корреляция)</a></span><ul class=\"toc-item\"><li><span><a href=\"#Covariance-(ковариация)\" data-toc-modified-id=\"Covariance-(ковариация)-2.3.1\">Covariance (ковариация)</a></span></li><li><span><a href=\"#Correlation-(корреляция)\" data-toc-modified-id=\"Correlation-(корреляция)-2.3.2\">Correlation (корреляция)</a></span><ul class=\"toc-item\"><li><span><a href=\"#Корреляционные-ловушки\" data-toc-modified-id=\"Корреляционные-ловушки-2.3.2.1\">Корреляционные ловушки</a></span></li></ul></li></ul></li></ul></li><li><span><a href=\"#Вероятность\" data-toc-modified-id=\"Вероятность-3\">Вероятность</a></span><ul class=\"toc-item\"><li><span><a href=\"#Совместная-вероятность\" data-toc-modified-id=\"Совместная-вероятность-3.1\">Совместная вероятность</a></span></li><li><span><a href=\"#Маргинализация\" data-toc-modified-id=\"Маргинализация-3.2\">Маргинализация</a></span></li><li><span><a href=\"#Независимость\" data-toc-modified-id=\"Независимость-3.3\">Независимость</a></span></li><li><span><a href=\"#Условная-вероятность\" data-toc-modified-id=\"Условная-вероятность-3.4\">Условная вероятность</a></span><ul class=\"toc-item\"><li><span><a href=\"#Классический-пример\" data-toc-modified-id=\"Классический-пример-3.4.1\">Классический пример</a></span></li><li><span><a href=\"#Почему-1/3?\" data-toc-modified-id=\"Почему-1/3?-3.4.2\">Почему 1/3?</a></span></li></ul></li><li><span><a href=\"#Теорема-Байеса\" data-toc-modified-id=\"Теорема-Байеса-3.5\">Теорема Байеса</a></span><ul class=\"toc-item\"><li><span><a href=\"#Классический-медицинский-пример\" data-toc-modified-id=\"Классический-медицинский-пример-3.5.1\">Классический медицинский пример</a></span></li></ul></li></ul></li></ul></div>"
   ]
  },
  {
   "cell_type": "markdown",
   "id": "a8bc3cf8",
   "metadata": {},
   "source": [
    "## Линейная алгебра"
   ]
  },
  {
   "cell_type": "markdown",
   "id": "d3ca10c1",
   "metadata": {},
   "source": [
    "### Векторы"
   ]
  },
  {
   "cell_type": "markdown",
   "id": "3bc617f5",
   "metadata": {},
   "source": [
    "* Векторы - это точки в некотором конечноразмерном пространстве.\n",
    "* Данные часто удобно представлять, как векторы. \n",
    "* Вектор можно представить как список чисел. Например *[рост, масса, возраст]*."
   ]
  },
  {
   "cell_type": "code",
   "execution_count": 1,
   "id": "a76438d8",
   "metadata": {},
   "outputs": [],
   "source": [
    "from typing import List\n",
    "\n",
    "Vector = List[float]"
   ]
  },
  {
   "cell_type": "markdown",
   "id": "981942f2",
   "metadata": {
    "heading_collapsed": true
   },
   "source": [
    "#### Сложение"
   ]
  },
  {
   "cell_type": "code",
   "execution_count": 15,
   "id": "93c944e0",
   "metadata": {
    "hidden": true
   },
   "outputs": [],
   "source": [
    "def add(v: Vector, w: Vector) -> Vector:\n",
    "    assert len(v) == len(w), \"векторы должны иметь одинаковую длину\"\n",
    "    \n",
    "    return [v_i + w_i for v_i, w_i in zip(v,w)]\n",
    "\n",
    "\n",
    "assert add([1, 2, 3], [4, 5, 6]) == [5, 7, 9]\n",
    "assert add([1, 2], [2, 1]) == [3, 3]\n",
    "\n",
    "# list(zip([1, 2, 3], [4, 5, 6]))"
   ]
  },
  {
   "cell_type": "code",
   "execution_count": 5,
   "id": "ef18695e",
   "metadata": {
    "hidden": true
   },
   "outputs": [
    {
     "data": {
      "image/png": "[encoded data removed]",
      "text/plain": [
       "<Figure size 432x288 with 1 Axes>"
      ]
     },
     "metadata": {
      "needs_background": "light"
     },
     "output_type": "display_data"
    }
   ],
   "source": [
    "import matplotlib.pyplot as plt\n",
    "\n",
    "plt.figure()\n",
    "ax = plt.gca()\n",
    "\n",
    "ax.quiver([0, 0, 0], [0, 0, 0], [1, 2, 3], [2, 1, 3], angles='xy', color=['b', 'g', 'r'], scale=1, scale_units='xy')\n",
    "ax.quiver([1], [2], [2], [1], angles='xy', scale=1, scale_units='xy', linestyle='dashed', facecolor='none', linewidth=1)\n",
    "\n",
    "ax.set_xlim(-1, 4)\n",
    "ax.set_ylim(-0.5, 3.5)\n",
    "\n",
    "plt.grid()\n",
    "plt.draw()\n",
    "plt.show()"
   ]
  },
  {
   "cell_type": "markdown",
   "id": "26f9050f",
   "metadata": {},
   "source": [
    "#### Вычитание"
   ]
  },
  {
   "cell_type": "code",
   "execution_count": 3,
   "id": "5f9dea96",
   "metadata": {},
   "outputs": [],
   "source": [
    "def subtract(v: Vector, w: Vector) -> Vector:\n",
    "    assert len(v) == len(w), \"векторы должны иметь одинаковую длину\"\n",
    "    \n",
    "    return [v_i - w_i for v_i, w_i in zip(v,w)]\n",
    "\n",
    "\n",
    "assert subtract([5, 7, 9], [4, 5, 6]) == [1, 2, 3]"
   ]
  },
  {
   "cell_type": "markdown",
   "id": "f3630ff6",
   "metadata": {
    "heading_collapsed": true
   },
   "source": [
    "#### Умножение вектора на скаляр"
   ]
  },
  {
   "cell_type": "code",
   "execution_count": 7,
   "id": "2ac4da0a",
   "metadata": {
    "hidden": true
   },
   "outputs": [],
   "source": [
    "def scalar_multiply(c: float, v: Vector) -> Vector:\n",
    "    \"\"\"Умножаем каждый элемент на c\"\"\"\n",
    "    return [c * v_i for v_i in v]\n",
    "\n",
    "\n",
    "assert scalar_multiply(2, [1, 2, 3]) == [2, 4, 6]"
   ]
  },
  {
   "cell_type": "code",
   "execution_count": 8,
   "id": "d281c262",
   "metadata": {
    "hidden": true
   },
   "outputs": [
    {
     "data": {
      "image/png": "[encoded data removed]",
      "text/plain": [
       "<Figure size 432x288 with 1 Axes>"
      ]
     },
     "metadata": {
      "needs_background": "light"
     },
     "output_type": "display_data"
    }
   ],
   "source": [
    "import matplotlib.pyplot as plt\n",
    "\n",
    "plt.figure()\n",
    "ax = plt.gca()\n",
    "\n",
    "ax.quiver([0], [0], [1], [2], angles='xy', color=['g'], scale=1, scale_units='xy')\n",
    "ax.quiver([0], [0], [3], [6], angles='xy', scale=1, scale_units='xy', linestyle='dashed', facecolor='none', linewidth=1)\n",
    "\n",
    "ax.set_xlim(-1, 4)\n",
    "ax.set_ylim(-0.5, 8)\n",
    "\n",
    "plt.grid()\n",
    "plt.draw()\n",
    "plt.show()"
   ]
  },
  {
   "cell_type": "markdown",
   "id": "f9a7a5dc",
   "metadata": {},
   "source": [
    "#### Скалярное произведение "
   ]
  },
  {
   "cell_type": "code",
   "execution_count": 9,
   "id": "8045ee76",
   "metadata": {},
   "outputs": [],
   "source": [
    "def dot(v: Vector, w: Vector) -> float:\n",
    "    assert len(v) == len(w), \"векторы должны иметь одинаковую длину\"\n",
    "    \n",
    "    return sum(v_i * w_i for v_i, w_i in zip(v, w))\n",
    "\n",
    "\n",
    "assert dot([1, 2, 3], [4, 5, 6]) == 32"
   ]
  },
  {
   "cell_type": "code",
   "execution_count": 10,
   "id": "f5b42173",
   "metadata": {},
   "outputs": [
    {
     "data": {
      "image/png": "[encoded data removed]",
      "text/plain": [
       "<Figure size 432x288 with 1 Axes>"
      ]
     },
     "metadata": {
      "needs_background": "light"
     },
     "output_type": "display_data"
    }
   ],
   "source": [
    "import matplotlib.pyplot as plt\n",
    "\n",
    "plt.figure()\n",
    "ax = plt.gca()\n",
    "\n",
    "w = [0.6, 0.8] # |w| = 1\n",
    "v = [2, 1]\n",
    "\n",
    "ax.quiver([0, 0], [0, 0], [w[0], v[0]], [w[1], v[1]], angles='xy', color=['g', 'b'], scale=1, scale_units='xy')\n",
    "ax.quiver([0], [0], [dot(w, v)*w[0]], [dot(w, v)*w[1]], angles='xy', scale=1, scale_units='xy', linestyle='dashed', facecolor='none', linewidth=1)\n",
    "\n",
    "\n",
    "ax.set_xlim(-0.5, 3)\n",
    "ax.set_ylim(-0.5, 2)\n",
    "\n",
    "plt.grid()\n",
    "plt.draw()\n",
    "plt.show()"
   ]
  },
  {
   "cell_type": "markdown",
   "id": "a1510516",
   "metadata": {},
   "source": [
    "Геометрический смысл скалярного произведение векторов (один из смыслов) - проекция одного вектора (v) на направление другого(w)"
   ]
  },
  {
   "cell_type": "markdown",
   "id": "59356110",
   "metadata": {
    "heading_collapsed": true
   },
   "source": [
    "#### Длина вектора"
   ]
  },
  {
   "cell_type": "code",
   "execution_count": 11,
   "id": "ff14f1ac",
   "metadata": {
    "hidden": true
   },
   "outputs": [],
   "source": [
    "def sum_of_squares(v: Vector) -> float:\n",
    "    return dot(v, v)\n",
    "\n",
    "assert sum_of_squares([1, 2, 3]) == 14 # 1*1 + 2*2 + 3*3"
   ]
  },
  {
   "cell_type": "code",
   "execution_count": 12,
   "id": "1ed2d2af",
   "metadata": {
    "hidden": true
   },
   "outputs": [],
   "source": [
    "import math\n",
    "\n",
    "def magnitude(v: Vector) -> float:\n",
    "    return math.sqrt(sum_of_squares(v))\n",
    "\n",
    "assert magnitude([3, 4]) == 5"
   ]
  },
  {
   "cell_type": "markdown",
   "id": "150a2533",
   "metadata": {},
   "source": [
    "### Матрицы"
   ]
  },
  {
   "cell_type": "markdown",
   "id": "e00a09e5",
   "metadata": {},
   "source": [
    "Список списков, где все внутренние списки имеют одинаковый размер и представляют строку матрицы"
   ]
  },
  {
   "cell_type": "code",
   "execution_count": 65,
   "id": "06b6bca1",
   "metadata": {},
   "outputs": [],
   "source": [
    "Matrix = List[List[float]]\n",
    "\n",
    "A = [[1, 2, 3],\n",
    "     [4, 5, 6]]"
   ]
  },
  {
   "cell_type": "markdown",
   "id": "3c9b04ed",
   "metadata": {},
   "source": [
    "## Статистика"
   ]
  },
  {
   "cell_type": "markdown",
   "id": "9d7bef2f",
   "metadata": {},
   "source": [
    "### Среднее"
   ]
  },
  {
   "cell_type": "markdown",
   "id": "1228c49d",
   "metadata": {},
   "source": [
    "#### Mean"
   ]
  },
  {
   "cell_type": "code",
   "execution_count": 26,
   "id": "d428674b",
   "metadata": {},
   "outputs": [],
   "source": [
    "def mean(xs: List[float]) -> float:\n",
    "    return sum(x) / len(xs)"
   ]
  },
  {
   "cell_type": "markdown",
   "id": "ac730db3",
   "metadata": {},
   "source": [
    "#### Median"
   ]
  },
  {
   "cell_type": "code",
   "execution_count": 27,
   "id": "59e00224",
   "metadata": {},
   "outputs": [],
   "source": [
    "def median(v: List[float]) -> float:\n",
    "    sv = sorted(v)\n",
    "    \n",
    "    def median_odd() -> float:\n",
    "        return sv[len(sv) // 2]\n",
    "    \n",
    "    def median_even() -> float:\n",
    "        mid = len(sv) // 2  # 4 => mid 2 \n",
    "        return (sv[mid - 1] + sv[mid]) / 2\n",
    "    \n",
    "    return median_even() if len(v) % 2 == 0 else median_odd()\n",
    "\n",
    "\n",
    "assert median([1, 10, 2, 9, 5]) == 5\n",
    "assert median([1, 9, 2, 10]) == (2 + 9) / 2"
   ]
  },
  {
   "cell_type": "markdown",
   "id": "d97d0b31",
   "metadata": {
    "heading_collapsed": true
   },
   "source": [
    "#### Quantile"
   ]
  },
  {
   "cell_type": "markdown",
   "id": "be95d31c",
   "metadata": {
    "hidden": true
   },
   "source": [
    "- Represents the value under which a certain percentile of the data lies \n",
    "- **The median** represents the value under which **50%** of the data lies"
   ]
  },
  {
   "cell_type": "code",
   "execution_count": 4,
   "id": "a3d03f29",
   "metadata": {
    "hidden": true
   },
   "outputs": [],
   "source": [
    "def quantile(xs: List[float], p: float) -> float:\n",
    "    \"\"\"Возвращает значение p-го квантиля в xs\"\"\"\n",
    "    p_index = int(p*len(xs))\n",
    "    return sorted(xs)[p_index]"
   ]
  },
  {
   "cell_type": "markdown",
   "id": "94146258",
   "metadata": {},
   "source": [
    "### Меры разброса данных"
   ]
  },
  {
   "cell_type": "markdown",
   "id": "d73690be",
   "metadata": {
    "heading_collapsed": true
   },
   "source": [
    "#### Range (разброс)"
   ]
  },
  {
   "cell_type": "code",
   "execution_count": 7,
   "id": "a045720a",
   "metadata": {
    "hidden": true
   },
   "outputs": [],
   "source": [
    "def data_range(xs: List[float]) -> float:\n",
    "    return max(xs) - min(xs)"
   ]
  },
  {
   "cell_type": "markdown",
   "id": "dc87ed68",
   "metadata": {},
   "source": [
    "#### Variance (дисперсия)"
   ]
  },
  {
   "cell_type": "markdown",
   "id": "f1d83be8",
   "metadata": {},
   "source": [
    "- Более точная мера разбора данных"
   ]
  },
  {
   "cell_type": "code",
   "execution_count": 23,
   "id": "93b017d9",
   "metadata": {},
   "outputs": [],
   "source": [
    "def de_mean(xs: List[float]) -> List[float]:\n",
    "    x_bar = mean(xs)\n",
    "    return [x - x_bar for x in xs]\n",
    "\n",
    "\n",
    "def variaince(xs: List[float]) -> float:\n",
    "    assert len(xs) >= 2, \"variance requires at least two elements\"\n",
    "        \n",
    "    deviations = de_mean(xs)\n",
    "    \n",
    "    n = len(xs)\n",
    "    return sum_of_squares(deviations) / (n - 1)"
   ]
  },
  {
   "cell_type": "markdown",
   "id": "59b86b53",
   "metadata": {
    "heading_collapsed": true
   },
   "source": [
    "##### Почему делим на n - 1?"
   ]
  },
  {
   "cell_type": "markdown",
   "id": "7da93fbe",
   "metadata": {
    "hidden": true
   },
   "source": [
    "- Обычно мы имеем дело с **выборкой данных**, а не **гениральной совокупностью**\n",
    "- Поэтому **x_bar** - *приближенная оценка* среднего\n",
    "- **(x_i - x_bar) ** 2** - в среднем дает **заниженную** оценку квадрата отклонения от среднего для **x_i**\n",
    "- Поэтому делят не на **n**, а не **(n - 1)**\n",
    "\n",
    "Интересный вывод:\n",
    "- **n/(n-1)** при увеличении **n** стремится к 1\n",
    "- если **n > 30** обычно уже нет разницы на что делить на **n** или **n-1**"
   ]
  },
  {
   "cell_type": "markdown",
   "id": "79c129d8",
   "metadata": {},
   "source": [
    "#### Standard deviation (стандартное отклонение)"
   ]
  },
  {
   "cell_type": "markdown",
   "id": "7a81a52d",
   "metadata": {},
   "source": [
    "- У **дисперсии** проблемы с единицами измерения - \"квадратные попугаи\" "
   ]
  },
  {
   "cell_type": "code",
   "execution_count": 24,
   "id": "bb7c6626",
   "metadata": {},
   "outputs": [],
   "source": [
    "import math\n",
    "\n",
    "def standard_deviation(xs: List[float]) -> float:\n",
    "    return math.sqrt(variaince(xs))"
   ]
  },
  {
   "cell_type": "markdown",
   "id": "c2f357cc",
   "metadata": {
    "heading_collapsed": true
   },
   "source": [
    "#### Interquartile range (интерквантильный размах) "
   ]
  },
  {
   "cell_type": "markdown",
   "id": "872d4526",
   "metadata": {
    "hidden": true
   },
   "source": [
    "- Размах и стандартное отклонение имеют ту же проблему с выбросами, что и среднее\n",
    "- Более надежное решение - интерквантильный размах"
   ]
  },
  {
   "cell_type": "code",
   "execution_count": 28,
   "id": "1d42c500",
   "metadata": {
    "hidden": true
   },
   "outputs": [],
   "source": [
    "def interquartile_range(xs: List[float]) -> float:\n",
    "    \"\"\"Returns the difference between the 75%-ile and the 25%-ile\"\"\" \n",
    "    return quantile(xs, 0.75) - quantile(xs, 0.25)"
   ]
  },
  {
   "cell_type": "markdown",
   "id": "a1881648",
   "metadata": {
    "hidden": true
   },
   "source": [
    " ### Correlation (корреляция)"
   ]
  },
  {
   "cell_type": "markdown",
   "id": "bfd00d67",
   "metadata": {},
   "source": [
    "#### Covariance (ковариация)"
   ]
  },
  {
   "cell_type": "markdown",
   "id": "a44e2aec",
   "metadata": {},
   "source": [
    "- Ковариация - парный аналог дисперсии\n",
    "- Термин **co**variance дословно **со**дисперсия или совместная дисперсия"
   ]
  },
  {
   "cell_type": "code",
   "execution_count": 20,
   "id": "7256cb52",
   "metadata": {},
   "outputs": [],
   "source": [
    "def covariance(xs: List[float], ys: List[float]) -> float:\n",
    "    assert len(xs) == len(ys), \"xs and ys must have same number of elements\"\n",
    "    return dot(de_mean(xs), de_mean(ys)) / (len(xs) - 1)"
   ]
  },
  {
   "cell_type": "markdown",
   "id": "d239616f",
   "metadata": {},
   "source": [
    "- Функция **dot** суммирует произведение соотвествующих пар элементов \n",
    "- Когда соответствующие компонены векторов оба положительные или оба отрицательные, то в сумму входит положительное число. Иначе - отрицательное.\n",
    "- Бывает положительная ковариация (прямая зависимость x и y), отрицательная ковариация (обратная зависимость x и y), около 0 (связи между x и y нет)\n",
    "\n",
    "Но есть проблема в интерпретации полученных значений:\n",
    "- единицы измерений (размер ноги * кол-во подтягиваний)\n",
    "- трудно определить, что является большой ковариацией"
   ]
  },
  {
   "cell_type": "markdown",
   "id": "a708aabc",
   "metadata": {},
   "source": [
    "#### Correlation (корреляция)"
   ]
  },
  {
   "cell_type": "markdown",
   "id": "da2d0c4e",
   "metadata": {},
   "source": [
    "- Используем **ковариацию**\n",
    "- Но делим ее на **стандратные отклонениями** обеих переменных \n",
    "- Значения **корреляции** лежат в диапозоне [0, 1]"
   ]
  },
  {
   "cell_type": "code",
   "execution_count": 21,
   "id": "0fe8b9ab",
   "metadata": {},
   "outputs": [],
   "source": [
    "def correlation(xs: List[float], ys: List[float]) -> float: \n",
    "    \"\"\"Измеряет степень, с которой xs и xy варьируется в тандеме вокруг своих средних\"\"\" \n",
    "    stdev_x = standard_deviation(xs)\n",
    "    stdev_y = standard_deviation(ys)\n",
    "    if stdev_x > 0 and stdev_y > 0:\n",
    "        return covariance(xs, ys) / stdev_x / stdev_y \n",
    "    else:\n",
    "        return 0 # if no variation, correlation is zero"
   ]
  },
  {
   "cell_type": "markdown",
   "id": "bc439bf7",
   "metadata": {},
   "source": [
    "<img src=\"images/correlation2.png\" width=\"300\" align=\"left\">"
   ]
  },
  {
   "cell_type": "markdown",
   "id": "fdef8e5e",
   "metadata": {},
   "source": [
    "##### Корреляционные ловушки"
   ]
  },
  {
   "cell_type": "markdown",
   "id": "ef51c7ee",
   "metadata": {},
   "source": [
    "Корреляция отлавливает только линейные зависимости.  \n",
    "В примере ниже y = |x|, но корреляция 0."
   ]
  },
  {
   "cell_type": "code",
   "execution_count": 28,
   "id": "f35ba5eb",
   "metadata": {},
   "outputs": [],
   "source": [
    "x = [-2, -1, 0, 1, 2] \n",
    "y = [2, 1, 0, 1, 2]\n",
    "\n",
    "assert 0 == correlation(x, y)"
   ]
  },
  {
   "cell_type": "markdown",
   "id": "ae2fc2d4",
   "metadata": {},
   "source": [
    "**Корреляция ≠ причинно-следственная связь**\n",
    "\n",
    "Например, по причине наличия \"третьей переменного\", от которого зависят две рассматриваемые переменные.  \n",
    "Например, корреляция размера ноги и кол-во подтягиваний среди школьников."
   ]
  },
  {
   "cell_type": "markdown",
   "id": "184d9d21",
   "metadata": {
    "heading_collapsed": true
   },
   "source": [
    "## Вероятность"
   ]
  },
  {
   "cell_type": "markdown",
   "id": "ebda8b70",
   "metadata": {
    "hidden": true
   },
   "source": [
    "Обозначим **P(E)** как вероятность случайного события **E**"
   ]
  },
  {
   "cell_type": "markdown",
   "id": "85a218ea",
   "metadata": {
    "heading_collapsed": true,
    "hidden": true
   },
   "source": [
    "### Совместная вероятность"
   ]
  },
  {
   "cell_type": "markdown",
   "id": "fd6b0b82",
   "metadata": {
    "hidden": true
   },
   "source": [
    "* Это вероятность одновременного наступления двух событий **P(E, F)**\n",
    "* Рассмотрим новую случайную величику \"два кубика\", у которой будут возможные исходы (1,1), (1, 2),.. (6,6). Всего 6 x 6 = 36 исходов "
   ]
  },
  {
   "cell_type": "markdown",
   "id": "9dc936b1",
   "metadata": {
    "heading_collapsed": true,
    "hidden": true
   },
   "source": [
    "### Маргинализация"
   ]
  },
  {
   "cell_type": "markdown",
   "id": "eb1158e0",
   "metadata": {
    "hidden": true
   },
   "source": [
    "Чтобы получить обратно из совместной вероятности вероятность того или иного исхода одной из случайных величин, нужно просуммировать по  другой:  \n",
    "$P(X) = \\sum _{Y} P(X, Y)$"
   ]
  },
  {
   "cell_type": "markdown",
   "id": "e40bb473",
   "metadata": {
    "hidden": true
   },
   "source": [
    "$P(1) = P(1,1)+P(1,2)+P(1,3)+P(1,4)+P(1,5)+P(1,6) = 6 \\frac{1}{36}$"
   ]
  },
  {
   "cell_type": "markdown",
   "id": "9accf6ca",
   "metadata": {
    "heading_collapsed": true,
    "hidden": true
   },
   "source": [
    "### Независимость"
   ]
  },
  {
   "cell_type": "markdown",
   "id": "b78261e5",
   "metadata": {
    "hidden": true
   },
   "source": [
    "Два события **E** и **F** являются **зависимыми**, если какое-то знание о наступление события **E** дает нам информацию о наступлении события **F**, и наоборот. Иначи они взаимно **независимы**. "
   ]
  },
  {
   "cell_type": "markdown",
   "id": "b0d43bc0",
   "metadata": {
    "hidden": true
   },
   "source": [
    "По определению:  \n",
    "$P(E, F) = P(E)P(F)$"
   ]
  },
  {
   "cell_type": "markdown",
   "id": "8e270dd9",
   "metadata": {
    "heading_collapsed": true,
    "hidden": true
   },
   "source": [
    "### Условная вероятность"
   ]
  },
  {
   "cell_type": "markdown",
   "id": "7404467a",
   "metadata": {
    "hidden": true
   },
   "source": [
    "По определению, условная вероятность события **E** при условии, что известно о наступлении события **F**:  "
   ]
  },
  {
   "cell_type": "markdown",
   "id": "aabc1899",
   "metadata": {
    "hidden": true
   },
   "source": [
    "$P(E|F) = \\frac{P(E,F)}{P(F)}$"
   ]
  },
  {
   "cell_type": "markdown",
   "id": "8d59615a",
   "metadata": {
    "heading_collapsed": true,
    "hidden": true
   },
   "source": [
    "#### Классический пример"
   ]
  },
  {
   "cell_type": "markdown",
   "id": "fd9aef2d",
   "metadata": {
    "hidden": true
   },
   "source": [
    "Семья, где есть двое детей, чей пол нам неизвестен.  \n",
    "Каждый ребенок равновероятно является либо мальчиком, либо девочкой."
   ]
  },
  {
   "cell_type": "markdown",
   "id": "fc640b3f",
   "metadata": {
    "hidden": true
   },
   "source": [
    "Какова вероятность события, когда оба ребенка - девочки (**B**) при уловии, что как минимум один ребенок - девочка (**L**)?"
   ]
  },
  {
   "cell_type": "markdown",
   "id": "9bec3c40",
   "metadata": {
    "hidden": true
   },
   "source": [
    "$P(B|L) = \\frac{P(B,L)}{P(L)}$"
   ]
  },
  {
   "cell_type": "markdown",
   "id": "7f55407f",
   "metadata": {
    "hidden": true
   },
   "source": [
    "P(B, L) = P(B), потому что оба ребенка девочки при условии не менее одного ребенка девочка - это просто событие B.  \n",
    "Поэтому:"
   ]
  },
  {
   "cell_type": "markdown",
   "id": "60d76365",
   "metadata": {
    "hidden": true
   },
   "source": [
    "$P(B|L) = \\frac{P(B,L)}{P(L)} = \\frac{P(B)}{P(L)} = 1/3$"
   ]
  },
  {
   "cell_type": "markdown",
   "id": "2c547ced",
   "metadata": {
    "heading_collapsed": true,
    "hidden": true
   },
   "source": [
    "#### Почему 1/3?"
   ]
  },
  {
   "cell_type": "markdown",
   "id": "1e22cc49",
   "metadata": {
    "hidden": true
   },
   "source": [
    "Пространство элементарных исходов (какие комбинации в принципе могут быть для двух детей) состоит из кейсов: \n",
    "- мальчик, мальчик\n",
    "- мальчик, девочка\n",
    "- девочка, мальчик\n",
    "- девочка, девочка\n",
    "\n",
    "Пространство благоприятных исходов для события L: \n",
    "- мальчик, девочка\n",
    "- девочка, мальчик\n",
    "- девочка, девочка\n",
    "\n",
    "Пространство благоприятных исходов для события B: \n",
    "- девочка, девочка\n",
    "\n",
    "Значит:  \n",
    "$P(B) = \\frac{1}{4}$  \n",
    "$P(L) = \\frac{3}{4}$"
   ]
  },
  {
   "cell_type": "markdown",
   "id": "efec6159",
   "metadata": {
    "heading_collapsed": true,
    "hidden": true
   },
   "source": [
    "### Теорема Байеса"
   ]
  },
  {
   "cell_type": "markdown",
   "id": "b5938e21",
   "metadata": {
    "hidden": true
   },
   "source": [
    "По опредлению условной вероятности:  \n",
    "$p(x,y)=p(x|y)p(y)=p(y|x)p(x)$"
   ]
  },
  {
   "cell_type": "markdown",
   "id": "e6fd3506",
   "metadata": {
    "hidden": true
   },
   "source": [
    "Следовательно:  \n",
    "$p(y|x)=\\frac{p(x|y)p(y)}{p(x)}=\\frac{p(x|y)p(y)}{\\sum _{y' \\in Y} p(x|y')p(y')}$"
   ]
  },
  {
   "cell_type": "markdown",
   "id": "615d46e1",
   "metadata": {
    "heading_collapsed": true,
    "hidden": true
   },
   "source": [
    "#### Классический медицинский пример"
   ]
  },
  {
   "cell_type": "markdown",
   "id": "dcf3da0c",
   "metadata": {
    "hidden": true
   },
   "source": [
    "Дано:\n",
    "- Некий тест на какую-то страшную болезнь имеет вероятность успеха 95%; иначе говоря, 5% - это вероятность как ошибки первого рода (false positive), так и ошибки второго рода (пропуска больного, false negative). \n",
    "- Блезнь имеется у 1% респондентов\n",
    "- Некий случайный человек получил позитивный результат теста, то есть тест говорит, что человек болен\n",
    "- С какой вероятностью он действительно болен?\n",
    "\n",
    "Решение:\n",
    "- Обозначим через **t** результат теста, через **d** - наличие болезни\n",
    "- Используя теорему Байеса:  \n",
    "$p(d=1|t=1)=\\frac{p(t=1|d=1)p(d=1)}{p(t=1)}=\\frac{p(t=1|d=1)p(d=1)}{p(t=1|d=1)p(d=1)+p(t=1|d=0)p(d=0)}=$  \n",
    "$=\\frac{0,95 \\times 0,01}{0,95 \\times 0,01 + 0,05 \\times 0,99}=0,16$"
   ]
  },
  {
   "cell_type": "code",
   "execution_count": null,
   "id": "4b46957b",
   "metadata": {
    "hidden": true
   },
   "outputs": [],
   "source": []
  }
 ],
 "metadata": {
  "kernelspec": {
   "display_name": "Python 3 (ipykernel)",
   "language": "python",
   "name": "python3"
  },
  "language_info": {
   "codemirror_mode": {
    "name": "ipython",
    "version": 3
   },
   "file_extension": ".py",
   "mimetype": "text/x-python",
   "name": "python",
   "nbconvert_exporter": "python",
   "pygments_lexer": "ipython3",
   "version": "3.10.6"
  },
  "toc": {
   "base_numbering": 1,
   "nav_menu": {},
   "number_sections": false,
   "sideBar": true,
   "skip_h1_title": true,
   "title_cell": "Table of Contents",
   "title_sidebar": "Contents",
   "toc_cell": true,
   "toc_position": {},
   "toc_section_display": true,
   "toc_window_display": false
  }
 },
 "nbformat": 4,
 "nbformat_minor": 5
}
