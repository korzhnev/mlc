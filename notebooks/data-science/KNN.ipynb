{
 "cells": [
  {
   "cell_type": "markdown",
   "id": "b8545c11",
   "metadata": {
    "toc": true
   },
   "source": [
    "<h1>Table of Contents<span class=\"tocSkip\"></span></h1>\n",
    "<div class=\"toc\"><ul class=\"toc-item\"><li><span><a href=\"#Модель\" data-toc-modified-id=\"Модель-1\">Модель</a></span></li><li><span><a href=\"#Код-с-предыдущих-обсуждений\" data-toc-modified-id=\"Код-с-предыдущих-обсуждений-2\">Код с предыдущих обсуждений</a></span></li><li><span><a href=\"#Классификатор\" data-toc-modified-id=\"Классификатор-3\">Классификатор</a></span><ul class=\"toc-item\"><li><span><a href=\"#Как-голосовать?\" data-toc-modified-id=\"Как-голосовать?-3.1\">Как голосовать?</a></span><ul class=\"toc-item\"><li><span><a href=\"#Простейший-способ\" data-toc-modified-id=\"Простейший-способ-3.1.1\">Простейший способ</a></span></li></ul></li><li><span><a href=\"#А-если-равное-число-голосов?\" data-toc-modified-id=\"А-если-равное-число-голосов?-3.2\">А если равное число голосов?</a></span></li></ul></li><li><span><a href=\"#Проклятие-размерности\" data-toc-modified-id=\"Проклятие-размерности-4\">Проклятие размерности</a></span><ul class=\"toc-item\"><li><span><a href=\"#Пруф\" data-toc-modified-id=\"Пруф-4.1\">Пруф</a></span></li></ul></li></ul></div>"
   ]
  },
  {
   "cell_type": "markdown",
   "id": "c88da218",
   "metadata": {},
   "source": [
    "## Модель"
   ]
  },
  {
   "cell_type": "markdown",
   "id": "ca262f6c",
   "metadata": {},
   "source": [
    "Простейшая модель, для которой нужно:\n",
    "- некоторая идея о растоянии\n",
    "- допущение, что расположенные близко друг к другу точки, похожи"
   ]
  },
  {
   "cell_type": "markdown",
   "id": "63be22fe",
   "metadata": {
    "heading_collapsed": true
   },
   "source": [
    "## Код с предыдущих обсуждений"
   ]
  },
  {
   "cell_type": "code",
   "execution_count": 23,
   "id": "0d014476",
   "metadata": {
    "hidden": true
   },
   "outputs": [],
   "source": [
    "from typing import List\n",
    "import math\n",
    "\n",
    "Vector = List[float]\n",
    "\n",
    "def dot(v: Vector, w: Vector) -> float:\n",
    "    return sum(v_i * w_i for v_i, w_i in zip(v, w))\n",
    "\n",
    "def sum_of_squares(v: Vector) -> float:\n",
    "    return dot(v, v)\n",
    "\n",
    "def subtract(v: Vector, w: Vector) -> Vector:\n",
    "    return [v_i - w_i for v_i, w_i in zip(v,w)]\n",
    "\n",
    "def magnitude(v: Vector) -> float:\n",
    "    return math.sqrt(sum_of_squares(v))\n",
    "\n",
    "def distance(v: Vector, w: Vector) -> float:\n",
    "    return magnitude(subtract(v, w))"
   ]
  },
  {
   "cell_type": "markdown",
   "id": "90839178",
   "metadata": {},
   "source": [
    "## Классификатор"
   ]
  },
  {
   "cell_type": "code",
   "execution_count": 6,
   "id": "b2498193",
   "metadata": {},
   "outputs": [],
   "source": [
    "from typing import NamedTuple\n",
    "\n",
    "class LabeledPoint(NamedTuple):\n",
    "    point: Vector\n",
    "    label: str\n",
    "\n",
    "def knn_classify(k: int,\n",
    "                labeled_points: List[LabeledPoint],\n",
    "                new_point: Vector) -> str:\n",
    "    \n",
    "    # упорядочиваем точки\n",
    "    by_distance = sorted(labeled_points, \n",
    "                         key=lambda lp: distance(lp.point, new_point))\n",
    "    \n",
    "    # ищем метки(например, \"спам?\", \"любимый ЯП\") для k ближайших точек\n",
    "    k_nearest_labels = [lp.label for lp in by_distance[:k]]\n",
    "    \n",
    "    # даем им проголосовать\n",
    "    return majority_vote(k_nearest_labels)"
   ]
  },
  {
   "cell_type": "markdown",
   "id": "e6ee1ef5",
   "metadata": {},
   "source": [
    "### Как голосовать?"
   ]
  },
  {
   "cell_type": "markdown",
   "id": "d0f962ef",
   "metadata": {},
   "source": [
    "#### Простейший способ"
   ]
  },
  {
   "cell_type": "code",
   "execution_count": 17,
   "id": "0cf4c98e",
   "metadata": {},
   "outputs": [
    {
     "name": "stdout",
     "output_type": "stream",
     "text": [
      "dict_values([1, 2, 1])\n"
     ]
    }
   ],
   "source": [
    "from typing import List\n",
    "from collections import Counter\n",
    "\n",
    "def raw_majority_vote(labels: List[str]) -> str: \n",
    "    votes = Counter(labels)\n",
    "    winner, _c = votes.most_common(1)[0]\n",
    "    \n",
    "    print(votes.values())\n",
    "    \n",
    "    return winner\n",
    "\n",
    "assert raw_majority_vote(['a', 'b', 'c', 'b']) == 'b'"
   ]
  },
  {
   "cell_type": "markdown",
   "id": "972078be",
   "metadata": {},
   "source": [
    "### А если равное число голосов?"
   ]
  },
  {
   "cell_type": "markdown",
   "id": "1654e68a",
   "metadata": {},
   "source": [
    "- Выбрать одного из победителей случайно\n",
    "- Взвесить голоса по расстоянию и выбрать взвешенного победителя\n",
    "- Уменьшать **k** до тех пор, пока не будет найден уникальный победитель\n",
    "\n",
    "Реализуем 3-ий вариант:"
   ]
  },
  {
   "cell_type": "code",
   "execution_count": 18,
   "id": "a14b91ef",
   "metadata": {},
   "outputs": [],
   "source": [
    "def majority_vote(labels: List[str]) -> str:\n",
    "    \"\"\"Assumes that labels are ordered from nearest to farthest.\"\"\" \n",
    "    vote_counts = Counter(labels)\n",
    "    winner, winner_count = vote_counts.most_common(1)[0] \n",
    "    num_winners = len([count \n",
    "                       for count in vote_counts.values() \n",
    "                       if count == winner_count])\n",
    "    if num_winners == 1:\n",
    "        return winner\n",
    "    else:\n",
    "        return majority_vote(labels[:-1])\n",
    "    \n",
    "# Сначала ниъья, поэтому на втором шаге берем только первые 4\n",
    "assert majority_vote(['a', 'b', 'c', 'b', 'a']) == 'b'"
   ]
  },
  {
   "cell_type": "markdown",
   "id": "a2b27d5b",
   "metadata": {},
   "source": [
    "## Проклятие размерности"
   ]
  },
  {
   "cell_type": "markdown",
   "id": "448b5c8e",
   "metadata": {},
   "source": [
    "При больших размерностях:\n",
    "- Точки, как правило, не распалагются близко друг к другу\n",
    "- Ближайшие точки зачастую будут лежать не намного ближе, чем среднее. А значит и близкая расположенность теряет особый смысл."
   ]
  },
  {
   "cell_type": "markdown",
   "id": "bf938c99",
   "metadata": {},
   "source": [
    "### Пруф"
   ]
  },
  {
   "cell_type": "code",
   "execution_count": 24,
   "id": "e9c73175",
   "metadata": {},
   "outputs": [
    {
     "name": "stderr",
     "output_type": "stream",
     "text": [
      "Curse of Dimensionality: 100%|████████████████| 100/100 [00:14<00:00,  6.69it/s]\n"
     ]
    }
   ],
   "source": [
    "import random\n",
    "\n",
    "random.seed(12)\n",
    "\n",
    "def random_point(dim: int) -> Vector:\n",
    "    return [random.random() for _ in range(dim)]\n",
    "\n",
    "def random_distances(dim: int, num_pairs: int) -> List[float]: \n",
    "    return [distance(random_point(dim), random_point(dim))\n",
    "            for _ in range(num_pairs)]\n",
    "\n",
    "import tqdm\n",
    "dimensions = range(1, 101)\n",
    "avg_distances = []\n",
    "min_distances = []\n",
    "\n",
    "random.seed(0)\n",
    "for dim in tqdm.tqdm(dimensions, desc=\"Curse of Dimensionality\"):\n",
    "    distances = random_distances(dim, 10000)      # 10,000 random pairs \n",
    "    avg_distances.append(sum(distances) / 10000)  # track the average \n",
    "    min_distances.append(min(distances))          # track the minimum\n"
   ]
  },
  {
   "cell_type": "code",
   "execution_count": 29,
   "id": "3fe2e171",
   "metadata": {},
   "outputs": [
    {
     "data": {
      "image/png": "[encoded data removed]",
      "text/plain": [
       "<Figure size 432x288 with 1 Axes>"
      ]
     },
     "metadata": {
      "needs_background": "light"
     },
     "output_type": "display_data"
    }
   ],
   "source": [
    "import matplotlib.pyplot as plt\n",
    "plt.plot(dimensions, avg_distances, label=\"среднее расстояние\")\n",
    "plt.plot(dimensions, min_distances, label=\"минимальное расстояние\")\n",
    "\n",
    "plt.xlabel('число размерностей')\n",
    "plt.title('10_000 случайных расстояний')\n",
    "  \n",
    "plt.legend()\n",
    "plt.show()"
   ]
  },
  {
   "cell_type": "code",
   "execution_count": 30,
   "id": "38ffd590",
   "metadata": {},
   "outputs": [
    {
     "data": {
      "image/png": "[encoded data removed]",
      "text/plain": [
       "<Figure size 432x288 with 1 Axes>"
      ]
     },
     "metadata": {
      "needs_background": "light"
     },
     "output_type": "display_data"
    }
   ],
   "source": [
    "min_avg_ratio = [min_dist / avg_dist\n",
    "                 for min_dist, avg_dist in zip(min_distances, avg_distances)]\n",
    "\n",
    "import matplotlib.pyplot as plt\n",
    "plt.plot(dimensions, min_avg_ratio)\n",
    "\n",
    "plt.xlabel('число размерностей')\n",
    "plt.title('Минимальное расстояние / среднее расстояние')\n",
    "  \n",
    "plt.show()"
   ]
  },
  {
   "cell_type": "code",
   "execution_count": null,
   "id": "5cb7764f",
   "metadata": {},
   "outputs": [],
   "source": []
  }
 ],
 "metadata": {
  "kernelspec": {
   "display_name": "Python 3 (ipykernel)",
   "language": "python",
   "name": "python3"
  },
  "language_info": {
   "codemirror_mode": {
    "name": "ipython",
    "version": 3
   },
   "file_extension": ".py",
   "mimetype": "text/x-python",
   "name": "python",
   "nbconvert_exporter": "python",
   "pygments_lexer": "ipython3",
   "version": "3.10.6"
  },
  "toc": {
   "base_numbering": 1,
   "nav_menu": {},
   "number_sections": false,
   "sideBar": true,
   "skip_h1_title": true,
   "title_cell": "Table of Contents",
   "title_sidebar": "Contents",
   "toc_cell": true,
   "toc_position": {},
   "toc_section_display": true,
   "toc_window_display": false
  }
 },
 "nbformat": 4,
 "nbformat_minor": 5
}
