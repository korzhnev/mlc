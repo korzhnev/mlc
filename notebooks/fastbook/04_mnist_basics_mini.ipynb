{
 "cells": [
  {
   "cell_type": "markdown",
   "id": "e91933ac",
   "metadata": {
    "toc": true
   },
   "source": [
    "<h1>Table of Contents<span class=\"tocSkip\"></span></h1>\n",
    "<div class=\"toc\"><ul class=\"toc-item\"><li><span><a href=\"#Используемые-материалы\" data-toc-modified-id=\"Используемые-материалы-1\">Используемые материалы</a></span></li><li><span><a href=\"#MNIST\" data-toc-modified-id=\"MNIST-2\">MNIST</a></span></li><li><span><a href=\"#First-step-:-classify-any-image-as-a-3-or-a-7\" data-toc-modified-id=\"First-step-:-classify-any-image-as-a-3-or-a-7-3\">First step : classify any image as a 3 or a 7</a></span></li><li><span><a href=\"#First-Try:-Pixel-Similarity\" data-toc-modified-id=\"First-Try:-Pixel-Similarity-4\">First Try: Pixel Similarity</a></span><ul class=\"toc-item\"><li><span><a href=\"#Baseline\" data-toc-modified-id=\"Baseline-4.1\">Baseline</a></span></li><li><span><a href=\"#Baseline-:-average-пикселей\" data-toc-modified-id=\"Baseline-:-average-пикселей-4.2\">Baseline : average пикселей</a></span></li><li><span><a href=\"#NumPy-Arrays-and-PyTorch-Tensors\" data-toc-modified-id=\"NumPy-Arrays-and-PyTorch-Tensors-4.3\">NumPy Arrays and PyTorch Tensors</a></span></li><li><span><a href=\"#Computing-Metrics-Using-Broadcasting\" data-toc-modified-id=\"Computing-Metrics-Using-Broadcasting-4.4\">Computing Metrics Using Broadcasting</a></span></li></ul></li></ul></div>"
   ]
  },
  {
   "cell_type": "markdown",
   "id": "ee089589",
   "metadata": {
    "heading_collapsed": true
   },
   "source": [
    "## Используемые материалы"
   ]
  },
  {
   "cell_type": "markdown",
   "id": "f279be96",
   "metadata": {
    "hidden": true
   },
   "source": [
    "https://github.com/fastai/fastbook/blob/master/04_mnist_basics.ipynb"
   ]
  },
  {
   "cell_type": "markdown",
   "id": "fe9cd863",
   "metadata": {
    "heading_collapsed": true
   },
   "source": [
    "## MNIST"
   ]
  },
  {
   "cell_type": "markdown",
   "id": "46307f8c",
   "metadata": {
    "hidden": true
   },
   "source": [
    "We will be using the MNIST dataset, which is a set of 70,000 small images of digits handwritten by high school students and employees of the US Census Bureau.  "
   ]
  },
  {
   "cell_type": "markdown",
   "id": "0453aad8",
   "metadata": {},
   "source": [
    "## First step : classify any image as a 3 or a 7"
   ]
  },
  {
   "cell_type": "code",
   "execution_count": 1,
   "id": "93faabeb",
   "metadata": {},
   "outputs": [],
   "source": [
    "import fastbook\n",
    "fastbook.setup_book()"
   ]
  },
  {
   "cell_type": "code",
   "execution_count": 2,
   "id": "6241738a",
   "metadata": {},
   "outputs": [],
   "source": [
    "from fastbook import *"
   ]
  },
  {
   "cell_type": "code",
   "execution_count": 3,
   "id": "25e32710",
   "metadata": {},
   "outputs": [
    {
     "data": {
      "text/html": [
       "\n",
       "<style>\n",
       "    /* Turns off some styling */\n",
       "    progress {\n",
       "        /* gets rid of default border in Firefox and Opera. */\n",
       "        border: none;\n",
       "        /* Needs to be in here for Safari polyfill so background images work as expected. */\n",
       "        background-size: auto;\n",
       "    }\n",
       "    progress:not([value]), progress:not([value])::-webkit-progress-bar {\n",
       "        background: repeating-linear-gradient(45deg, #7e7e7e, #7e7e7e 10px, #5c5c5c 10px, #5c5c5c 20px);\n",
       "    }\n",
       "    .progress-bar-interrupted, .progress-bar-interrupted::-webkit-progress-bar {\n",
       "        background: #F44336;\n",
       "    }\n",
       "</style>\n"
      ],
      "text/plain": [
       "<IPython.core.display.HTML object>"
      ]
     },
     "metadata": {},
     "output_type": "display_data"
    },
    {
     "data": {
      "text/html": [
       "\n",
       "    <div>\n",
       "      <progress value='3219456' class='' max='3214948' style='width:300px; height:20px; vertical-align: middle;'></progress>\n",
       "      100.14% [3219456/3214948 00:01&lt;00:00]\n",
       "    </div>\n",
       "    "
      ],
      "text/plain": [
       "<IPython.core.display.HTML object>"
      ]
     },
     "metadata": {},
     "output_type": "display_data"
    }
   ],
   "source": [
    "path = untar_data(URLs.MNIST_SAMPLE)"
   ]
  },
  {
   "cell_type": "code",
   "execution_count": 4,
   "id": "38f3b09f",
   "metadata": {},
   "outputs": [],
   "source": [
    "Path.BASE_PATH = path"
   ]
  },
  {
   "cell_type": "code",
   "execution_count": 5,
   "id": "893d954e",
   "metadata": {},
   "outputs": [
    {
     "data": {
      "text/plain": [
       "(#3) [Path('valid'),Path('labels.csv'),Path('train')]"
      ]
     },
     "execution_count": 5,
     "metadata": {},
     "output_type": "execute_result"
    }
   ],
   "source": [
    "path.ls()"
   ]
  },
  {
   "cell_type": "code",
   "execution_count": 6,
   "id": "e16a1047",
   "metadata": {},
   "outputs": [
    {
     "data": {
      "text/plain": [
       "(#2) [Path('train/7'),Path('train/3')]"
      ]
     },
     "execution_count": 6,
     "metadata": {},
     "output_type": "execute_result"
    }
   ],
   "source": [
    "(path/'train').ls()"
   ]
  },
  {
   "cell_type": "code",
   "execution_count": 11,
   "id": "8713a5d0",
   "metadata": {},
   "outputs": [
    {
     "data": {
      "text/plain": [
       "(#6131) [Path('train/3/10.png'),Path('train/3/10000.png'),Path('train/3/10011.png'),Path('train/3/10031.png'),Path('train/3/10034.png'),Path('train/3/10042.png'),Path('train/3/10052.png'),Path('train/3/1007.png'),Path('train/3/10074.png'),Path('train/3/10091.png')...]"
      ]
     },
     "execution_count": 11,
     "metadata": {},
     "output_type": "execute_result"
    }
   ],
   "source": [
    "threes = (path/'train'/'3').ls().sorted()\n",
    "sevens = (path/'train'/'7').ls().sorted()\n",
    "threes"
   ]
  },
  {
   "cell_type": "code",
   "execution_count": 40,
   "id": "30419054",
   "metadata": {},
   "outputs": [
    {
     "data": {
      "image/png": "[encoded data removed]",
      "text/plain": [
       "<PIL.PngImagePlugin.PngImageFile image mode=L size=28x28>"
      ]
     },
     "execution_count": 40,
     "metadata": {},
     "output_type": "execute_result"
    }
   ],
   "source": [
    "im3_path = threes[1]\n",
    "im3 = Image.open(im3_path)\n",
    "im3"
   ]
  },
  {
   "cell_type": "markdown",
   "id": "605b572b",
   "metadata": {},
   "source": [
    "Here we are using the **Image** class from the **Python Imaging Library (PIL)**, which is the most widely used Python package for opening, manipulating, and viewing images. **Jupyter** knows about PIL images, so it **displays** the image for us **automatically**."
   ]
  },
  {
   "cell_type": "markdown",
   "id": "70e53b4e",
   "metadata": {},
   "source": [
    "Converted to a NumPy array:"
   ]
  },
  {
   "cell_type": "code",
   "execution_count": 14,
   "id": "93c4cf42",
   "metadata": {},
   "outputs": [
    {
     "data": {
      "text/plain": [
       "array([[  0,   0,   0,   0,   0,   0],\n",
       "       [  0,   0,   0,   0,   0,  29],\n",
       "       [  0,   0,   0,  48, 166, 224],\n",
       "       [  0,  93, 244, 249, 253, 187],\n",
       "       [  0, 107, 253, 253, 230,  48],\n",
       "       [  0,   3,  20,  20,  15,   0]], dtype=uint8)"
      ]
     },
     "execution_count": 14,
     "metadata": {},
     "output_type": "execute_result"
    }
   ],
   "source": [
    "array(im3)[4:10,4:10]"
   ]
  },
  {
   "cell_type": "markdown",
   "id": "8d5dd21d",
   "metadata": {},
   "source": [
    "The 4:10 indicates we requested the rows from index 4 (included) to 10 (not included) and the same for the columns."
   ]
  },
  {
   "cell_type": "markdown",
   "id": "b54890d8",
   "metadata": {},
   "source": [
    "Here's the same thing as a PyTorch tensor:"
   ]
  },
  {
   "cell_type": "code",
   "execution_count": 16,
   "id": "78b71cc5",
   "metadata": {},
   "outputs": [
    {
     "data": {
      "text/plain": [
       "tensor([[  0,   0,   0,   0,   0,   0],\n",
       "        [  0,   0,   0,   0,   0,  29],\n",
       "        [  0,   0,   0,  48, 166, 224],\n",
       "        [  0,  93, 244, 249, 253, 187],\n",
       "        [  0, 107, 253, 253, 230,  48],\n",
       "        [  0,   3,  20,  20,  15,   0]], dtype=torch.uint8)"
      ]
     },
     "execution_count": 16,
     "metadata": {},
     "output_type": "execute_result"
    }
   ],
   "source": [
    "tensor(im3)[4:10,4:10]"
   ]
  },
  {
   "cell_type": "code",
   "execution_count": 19,
   "id": "facc4a5a",
   "metadata": {},
   "outputs": [
    {
     "data": {
      "text/html": [
       "<div>\n",
       "<style scoped>\n",
       "    .dataframe tbody tr th:only-of-type {\n",
       "        vertical-align: middle;\n",
       "    }\n",
       "\n",
       "    .dataframe tbody tr th {\n",
       "        vertical-align: top;\n",
       "    }\n",
       "\n",
       "    .dataframe thead th {\n",
       "        text-align: right;\n",
       "    }\n",
       "</style>\n",
       "<table border=\"1\" class=\"dataframe\">\n",
       "  <thead>\n",
       "    <tr style=\"text-align: right;\">\n",
       "      <th></th>\n",
       "      <th>0</th>\n",
       "      <th>1</th>\n",
       "      <th>2</th>\n",
       "      <th>3</th>\n",
       "      <th>4</th>\n",
       "      <th>5</th>\n",
       "      <th>6</th>\n",
       "      <th>7</th>\n",
       "      <th>8</th>\n",
       "      <th>9</th>\n",
       "      <th>10</th>\n",
       "      <th>11</th>\n",
       "      <th>12</th>\n",
       "      <th>13</th>\n",
       "      <th>14</th>\n",
       "      <th>15</th>\n",
       "      <th>16</th>\n",
       "      <th>17</th>\n",
       "    </tr>\n",
       "  </thead>\n",
       "  <tbody>\n",
       "    <tr>\n",
       "      <th>0</th>\n",
       "      <td>0</td>\n",
       "      <td>0</td>\n",
       "      <td>0</td>\n",
       "      <td>0</td>\n",
       "      <td>0</td>\n",
       "      <td>0</td>\n",
       "      <td>0</td>\n",
       "      <td>0</td>\n",
       "      <td>0</td>\n",
       "      <td>0</td>\n",
       "      <td>0</td>\n",
       "      <td>0</td>\n",
       "      <td>0</td>\n",
       "      <td>0</td>\n",
       "      <td>0</td>\n",
       "      <td>0</td>\n",
       "      <td>0</td>\n",
       "      <td>0</td>\n",
       "    </tr>\n",
       "    <tr>\n",
       "      <th>1</th>\n",
       "      <td>0</td>\n",
       "      <td>0</td>\n",
       "      <td>0</td>\n",
       "      <td>0</td>\n",
       "      <td>0</td>\n",
       "      <td>29</td>\n",
       "      <td>150</td>\n",
       "      <td>195</td>\n",
       "      <td>254</td>\n",
       "      <td>255</td>\n",
       "      <td>254</td>\n",
       "      <td>176</td>\n",
       "      <td>193</td>\n",
       "      <td>150</td>\n",
       "      <td>96</td>\n",
       "      <td>0</td>\n",
       "      <td>0</td>\n",
       "      <td>0</td>\n",
       "    </tr>\n",
       "    <tr>\n",
       "      <th>2</th>\n",
       "      <td>0</td>\n",
       "      <td>0</td>\n",
       "      <td>0</td>\n",
       "      <td>48</td>\n",
       "      <td>166</td>\n",
       "      <td>224</td>\n",
       "      <td>253</td>\n",
       "      <td>253</td>\n",
       "      <td>234</td>\n",
       "      <td>196</td>\n",
       "      <td>253</td>\n",
       "      <td>253</td>\n",
       "      <td>253</td>\n",
       "      <td>253</td>\n",
       "      <td>233</td>\n",
       "      <td>0</td>\n",
       "      <td>0</td>\n",
       "      <td>0</td>\n",
       "    </tr>\n",
       "    <tr>\n",
       "      <th>3</th>\n",
       "      <td>0</td>\n",
       "      <td>93</td>\n",
       "      <td>244</td>\n",
       "      <td>249</td>\n",
       "      <td>253</td>\n",
       "      <td>187</td>\n",
       "      <td>46</td>\n",
       "      <td>10</td>\n",
       "      <td>8</td>\n",
       "      <td>4</td>\n",
       "      <td>10</td>\n",
       "      <td>194</td>\n",
       "      <td>253</td>\n",
       "      <td>253</td>\n",
       "      <td>233</td>\n",
       "      <td>0</td>\n",
       "      <td>0</td>\n",
       "      <td>0</td>\n",
       "    </tr>\n",
       "    <tr>\n",
       "      <th>4</th>\n",
       "      <td>0</td>\n",
       "      <td>107</td>\n",
       "      <td>253</td>\n",
       "      <td>253</td>\n",
       "      <td>230</td>\n",
       "      <td>48</td>\n",
       "      <td>0</td>\n",
       "      <td>0</td>\n",
       "      <td>0</td>\n",
       "      <td>0</td>\n",
       "      <td>0</td>\n",
       "      <td>192</td>\n",
       "      <td>253</td>\n",
       "      <td>253</td>\n",
       "      <td>156</td>\n",
       "      <td>0</td>\n",
       "      <td>0</td>\n",
       "      <td>0</td>\n",
       "    </tr>\n",
       "    <tr>\n",
       "      <th>5</th>\n",
       "      <td>0</td>\n",
       "      <td>3</td>\n",
       "      <td>20</td>\n",
       "      <td>20</td>\n",
       "      <td>15</td>\n",
       "      <td>0</td>\n",
       "      <td>0</td>\n",
       "      <td>0</td>\n",
       "      <td>0</td>\n",
       "      <td>0</td>\n",
       "      <td>43</td>\n",
       "      <td>224</td>\n",
       "      <td>253</td>\n",
       "      <td>245</td>\n",
       "      <td>74</td>\n",
       "      <td>0</td>\n",
       "      <td>0</td>\n",
       "      <td>0</td>\n",
       "    </tr>\n",
       "    <tr>\n",
       "      <th>6</th>\n",
       "      <td>0</td>\n",
       "      <td>0</td>\n",
       "      <td>0</td>\n",
       "      <td>0</td>\n",
       "      <td>0</td>\n",
       "      <td>0</td>\n",
       "      <td>0</td>\n",
       "      <td>0</td>\n",
       "      <td>0</td>\n",
       "      <td>0</td>\n",
       "      <td>249</td>\n",
       "      <td>253</td>\n",
       "      <td>245</td>\n",
       "      <td>126</td>\n",
       "      <td>0</td>\n",
       "      <td>0</td>\n",
       "      <td>0</td>\n",
       "      <td>0</td>\n",
       "    </tr>\n",
       "    <tr>\n",
       "      <th>7</th>\n",
       "      <td>0</td>\n",
       "      <td>0</td>\n",
       "      <td>0</td>\n",
       "      <td>0</td>\n",
       "      <td>0</td>\n",
       "      <td>0</td>\n",
       "      <td>0</td>\n",
       "      <td>14</td>\n",
       "      <td>101</td>\n",
       "      <td>223</td>\n",
       "      <td>253</td>\n",
       "      <td>248</td>\n",
       "      <td>124</td>\n",
       "      <td>0</td>\n",
       "      <td>0</td>\n",
       "      <td>0</td>\n",
       "      <td>0</td>\n",
       "      <td>0</td>\n",
       "    </tr>\n",
       "    <tr>\n",
       "      <th>8</th>\n",
       "      <td>0</td>\n",
       "      <td>0</td>\n",
       "      <td>0</td>\n",
       "      <td>0</td>\n",
       "      <td>0</td>\n",
       "      <td>11</td>\n",
       "      <td>166</td>\n",
       "      <td>239</td>\n",
       "      <td>253</td>\n",
       "      <td>253</td>\n",
       "      <td>253</td>\n",
       "      <td>187</td>\n",
       "      <td>30</td>\n",
       "      <td>0</td>\n",
       "      <td>0</td>\n",
       "      <td>0</td>\n",
       "      <td>0</td>\n",
       "      <td>0</td>\n",
       "    </tr>\n",
       "    <tr>\n",
       "      <th>9</th>\n",
       "      <td>0</td>\n",
       "      <td>0</td>\n",
       "      <td>0</td>\n",
       "      <td>0</td>\n",
       "      <td>0</td>\n",
       "      <td>16</td>\n",
       "      <td>248</td>\n",
       "      <td>250</td>\n",
       "      <td>253</td>\n",
       "      <td>253</td>\n",
       "      <td>253</td>\n",
       "      <td>253</td>\n",
       "      <td>232</td>\n",
       "      <td>213</td>\n",
       "      <td>111</td>\n",
       "      <td>2</td>\n",
       "      <td>0</td>\n",
       "      <td>0</td>\n",
       "    </tr>\n",
       "    <tr>\n",
       "      <th>10</th>\n",
       "      <td>0</td>\n",
       "      <td>0</td>\n",
       "      <td>0</td>\n",
       "      <td>0</td>\n",
       "      <td>0</td>\n",
       "      <td>0</td>\n",
       "      <td>0</td>\n",
       "      <td>43</td>\n",
       "      <td>98</td>\n",
       "      <td>98</td>\n",
       "      <td>208</td>\n",
       "      <td>253</td>\n",
       "      <td>253</td>\n",
       "      <td>253</td>\n",
       "      <td>253</td>\n",
       "      <td>187</td>\n",
       "      <td>22</td>\n",
       "      <td>0</td>\n",
       "    </tr>\n",
       "  </tbody>\n",
       "</table>\n",
       "</div>"
      ],
      "text/plain": [
       "    0    1    2    3    4    5    6    7    8    9    10   11   12   13   14  \\\n",
       "0    0    0    0    0    0    0    0    0    0    0    0    0    0    0    0   \n",
       "1    0    0    0    0    0   29  150  195  254  255  254  176  193  150   96   \n",
       "2    0    0    0   48  166  224  253  253  234  196  253  253  253  253  233   \n",
       "3    0   93  244  249  253  187   46   10    8    4   10  194  253  253  233   \n",
       "4    0  107  253  253  230   48    0    0    0    0    0  192  253  253  156   \n",
       "5    0    3   20   20   15    0    0    0    0    0   43  224  253  245   74   \n",
       "6    0    0    0    0    0    0    0    0    0    0  249  253  245  126    0   \n",
       "7    0    0    0    0    0    0    0   14  101  223  253  248  124    0    0   \n",
       "8    0    0    0    0    0   11  166  239  253  253  253  187   30    0    0   \n",
       "9    0    0    0    0    0   16  248  250  253  253  253  253  232  213  111   \n",
       "10   0    0    0    0    0    0    0   43   98   98  208  253  253  253  253   \n",
       "\n",
       "     15  16  17  \n",
       "0     0   0   0  \n",
       "1     0   0   0  \n",
       "2     0   0   0  \n",
       "3     0   0   0  \n",
       "4     0   0   0  \n",
       "5     0   0   0  \n",
       "6     0   0   0  \n",
       "7     0   0   0  \n",
       "8     0   0   0  \n",
       "9     2   0   0  \n",
       "10  187  22   0  "
      ]
     },
     "execution_count": 19,
     "metadata": {},
     "output_type": "execute_result"
    }
   ],
   "source": [
    "#hide_output\n",
    "im3_t = tensor(im3)\n",
    "df = pd.DataFrame(im3_t[4:15,4:22])\n",
    "df"
   ]
  },
  {
   "cell_type": "code",
   "execution_count": 20,
   "id": "50da7461",
   "metadata": {},
   "outputs": [
    {
     "data": {
      "text/html": [
       "<style type=\"text/css\">\n",
       "#T_a398e_row0_col0, #T_a398e_row0_col1, #T_a398e_row0_col2, #T_a398e_row0_col3, #T_a398e_row0_col4, #T_a398e_row0_col5, #T_a398e_row0_col6, #T_a398e_row0_col7, #T_a398e_row0_col8, #T_a398e_row0_col9, #T_a398e_row0_col10, #T_a398e_row0_col11, #T_a398e_row0_col12, #T_a398e_row0_col13, #T_a398e_row0_col14, #T_a398e_row0_col15, #T_a398e_row0_col16, #T_a398e_row0_col17, #T_a398e_row1_col0, #T_a398e_row1_col1, #T_a398e_row1_col2, #T_a398e_row1_col3, #T_a398e_row1_col4, #T_a398e_row1_col15, #T_a398e_row1_col16, #T_a398e_row1_col17, #T_a398e_row2_col0, #T_a398e_row2_col1, #T_a398e_row2_col2, #T_a398e_row2_col15, #T_a398e_row2_col16, #T_a398e_row2_col17, #T_a398e_row3_col0, #T_a398e_row3_col15, #T_a398e_row3_col16, #T_a398e_row3_col17, #T_a398e_row4_col0, #T_a398e_row4_col6, #T_a398e_row4_col7, #T_a398e_row4_col8, #T_a398e_row4_col9, #T_a398e_row4_col10, #T_a398e_row4_col15, #T_a398e_row4_col16, #T_a398e_row4_col17, #T_a398e_row5_col0, #T_a398e_row5_col5, #T_a398e_row5_col6, #T_a398e_row5_col7, #T_a398e_row5_col8, #T_a398e_row5_col9, #T_a398e_row5_col15, #T_a398e_row5_col16, #T_a398e_row5_col17, #T_a398e_row6_col0, #T_a398e_row6_col1, #T_a398e_row6_col2, #T_a398e_row6_col3, #T_a398e_row6_col4, #T_a398e_row6_col5, #T_a398e_row6_col6, #T_a398e_row6_col7, #T_a398e_row6_col8, #T_a398e_row6_col9, #T_a398e_row6_col14, #T_a398e_row6_col15, #T_a398e_row6_col16, #T_a398e_row6_col17, #T_a398e_row7_col0, #T_a398e_row7_col1, #T_a398e_row7_col2, #T_a398e_row7_col3, #T_a398e_row7_col4, #T_a398e_row7_col5, #T_a398e_row7_col6, #T_a398e_row7_col13, #T_a398e_row7_col14, #T_a398e_row7_col15, #T_a398e_row7_col16, #T_a398e_row7_col17, #T_a398e_row8_col0, #T_a398e_row8_col1, #T_a398e_row8_col2, #T_a398e_row8_col3, #T_a398e_row8_col4, #T_a398e_row8_col13, #T_a398e_row8_col14, #T_a398e_row8_col15, #T_a398e_row8_col16, #T_a398e_row8_col17, #T_a398e_row9_col0, #T_a398e_row9_col1, #T_a398e_row9_col2, #T_a398e_row9_col3, #T_a398e_row9_col4, #T_a398e_row9_col16, #T_a398e_row9_col17, #T_a398e_row10_col0, #T_a398e_row10_col1, #T_a398e_row10_col2, #T_a398e_row10_col3, #T_a398e_row10_col4, #T_a398e_row10_col5, #T_a398e_row10_col6, #T_a398e_row10_col17 {\n",
       "  font-size: 6pt;\n",
       "  background-color: #ffffff;\n",
       "  color: #000000;\n",
       "}\n",
       "#T_a398e_row1_col5 {\n",
       "  font-size: 6pt;\n",
       "  background-color: #efefef;\n",
       "  color: #000000;\n",
       "}\n",
       "#T_a398e_row1_col6, #T_a398e_row1_col13 {\n",
       "  font-size: 6pt;\n",
       "  background-color: #7c7c7c;\n",
       "  color: #f1f1f1;\n",
       "}\n",
       "#T_a398e_row1_col7 {\n",
       "  font-size: 6pt;\n",
       "  background-color: #4a4a4a;\n",
       "  color: #f1f1f1;\n",
       "}\n",
       "#T_a398e_row1_col8, #T_a398e_row1_col9, #T_a398e_row1_col10, #T_a398e_row2_col5, #T_a398e_row2_col6, #T_a398e_row2_col7, #T_a398e_row2_col11, #T_a398e_row2_col12, #T_a398e_row2_col13, #T_a398e_row3_col4, #T_a398e_row3_col12, #T_a398e_row3_col13, #T_a398e_row4_col1, #T_a398e_row4_col2, #T_a398e_row4_col3, #T_a398e_row4_col12, #T_a398e_row4_col13, #T_a398e_row5_col12, #T_a398e_row6_col11, #T_a398e_row9_col11, #T_a398e_row10_col11, #T_a398e_row10_col12, #T_a398e_row10_col13, #T_a398e_row10_col14, #T_a398e_row10_col15, #T_a398e_row10_col16 {\n",
       "  font-size: 6pt;\n",
       "  background-color: #000000;\n",
       "  color: #f1f1f1;\n",
       "}\n",
       "#T_a398e_row1_col11 {\n",
       "  font-size: 6pt;\n",
       "  background-color: #606060;\n",
       "  color: #f1f1f1;\n",
       "}\n",
       "#T_a398e_row1_col12 {\n",
       "  font-size: 6pt;\n",
       "  background-color: #4d4d4d;\n",
       "  color: #f1f1f1;\n",
       "}\n",
       "#T_a398e_row1_col14 {\n",
       "  font-size: 6pt;\n",
       "  background-color: #bbbbbb;\n",
       "  color: #000000;\n",
       "}\n",
       "#T_a398e_row2_col3 {\n",
       "  font-size: 6pt;\n",
       "  background-color: #e4e4e4;\n",
       "  color: #000000;\n",
       "}\n",
       "#T_a398e_row2_col4, #T_a398e_row8_col6 {\n",
       "  font-size: 6pt;\n",
       "  background-color: #6b6b6b;\n",
       "  color: #f1f1f1;\n",
       "}\n",
       "#T_a398e_row2_col8, #T_a398e_row2_col14, #T_a398e_row3_col14 {\n",
       "  font-size: 6pt;\n",
       "  background-color: #171717;\n",
       "  color: #f1f1f1;\n",
       "}\n",
       "#T_a398e_row2_col9, #T_a398e_row3_col11 {\n",
       "  font-size: 6pt;\n",
       "  background-color: #4b4b4b;\n",
       "  color: #f1f1f1;\n",
       "}\n",
       "#T_a398e_row2_col10, #T_a398e_row7_col10, #T_a398e_row8_col8, #T_a398e_row8_col10, #T_a398e_row9_col8, #T_a398e_row9_col10 {\n",
       "  font-size: 6pt;\n",
       "  background-color: #010101;\n",
       "  color: #f1f1f1;\n",
       "}\n",
       "#T_a398e_row3_col1 {\n",
       "  font-size: 6pt;\n",
       "  background-color: #272727;\n",
       "  color: #f1f1f1;\n",
       "}\n",
       "#T_a398e_row3_col2 {\n",
       "  font-size: 6pt;\n",
       "  background-color: #0a0a0a;\n",
       "  color: #f1f1f1;\n",
       "}\n",
       "#T_a398e_row3_col3 {\n",
       "  font-size: 6pt;\n",
       "  background-color: #050505;\n",
       "  color: #f1f1f1;\n",
       "}\n",
       "#T_a398e_row3_col5 {\n",
       "  font-size: 6pt;\n",
       "  background-color: #333333;\n",
       "  color: #f1f1f1;\n",
       "}\n",
       "#T_a398e_row3_col6 {\n",
       "  font-size: 6pt;\n",
       "  background-color: #e6e6e6;\n",
       "  color: #000000;\n",
       "}\n",
       "#T_a398e_row3_col7, #T_a398e_row3_col10 {\n",
       "  font-size: 6pt;\n",
       "  background-color: #fafafa;\n",
       "  color: #000000;\n",
       "}\n",
       "#T_a398e_row3_col8 {\n",
       "  font-size: 6pt;\n",
       "  background-color: #fbfbfb;\n",
       "  color: #000000;\n",
       "}\n",
       "#T_a398e_row3_col9 {\n",
       "  font-size: 6pt;\n",
       "  background-color: #fdfdfd;\n",
       "  color: #000000;\n",
       "}\n",
       "#T_a398e_row4_col4 {\n",
       "  font-size: 6pt;\n",
       "  background-color: #1b1b1b;\n",
       "  color: #f1f1f1;\n",
       "}\n",
       "#T_a398e_row4_col5 {\n",
       "  font-size: 6pt;\n",
       "  background-color: #e0e0e0;\n",
       "  color: #000000;\n",
       "}\n",
       "#T_a398e_row4_col11 {\n",
       "  font-size: 6pt;\n",
       "  background-color: #4e4e4e;\n",
       "  color: #f1f1f1;\n",
       "}\n",
       "#T_a398e_row4_col14 {\n",
       "  font-size: 6pt;\n",
       "  background-color: #767676;\n",
       "  color: #f1f1f1;\n",
       "}\n",
       "#T_a398e_row5_col1 {\n",
       "  font-size: 6pt;\n",
       "  background-color: #fcfcfc;\n",
       "  color: #000000;\n",
       "}\n",
       "#T_a398e_row5_col2, #T_a398e_row5_col3 {\n",
       "  font-size: 6pt;\n",
       "  background-color: #f6f6f6;\n",
       "  color: #000000;\n",
       "}\n",
       "#T_a398e_row5_col4, #T_a398e_row7_col7 {\n",
       "  font-size: 6pt;\n",
       "  background-color: #f8f8f8;\n",
       "  color: #000000;\n",
       "}\n",
       "#T_a398e_row5_col10, #T_a398e_row10_col7 {\n",
       "  font-size: 6pt;\n",
       "  background-color: #e8e8e8;\n",
       "  color: #000000;\n",
       "}\n",
       "#T_a398e_row5_col11 {\n",
       "  font-size: 6pt;\n",
       "  background-color: #222222;\n",
       "  color: #f1f1f1;\n",
       "}\n",
       "#T_a398e_row5_col13, #T_a398e_row6_col12 {\n",
       "  font-size: 6pt;\n",
       "  background-color: #090909;\n",
       "  color: #f1f1f1;\n",
       "}\n",
       "#T_a398e_row5_col14 {\n",
       "  font-size: 6pt;\n",
       "  background-color: #d0d0d0;\n",
       "  color: #000000;\n",
       "}\n",
       "#T_a398e_row6_col10, #T_a398e_row7_col11, #T_a398e_row9_col6 {\n",
       "  font-size: 6pt;\n",
       "  background-color: #060606;\n",
       "  color: #f1f1f1;\n",
       "}\n",
       "#T_a398e_row6_col13 {\n",
       "  font-size: 6pt;\n",
       "  background-color: #979797;\n",
       "  color: #f1f1f1;\n",
       "}\n",
       "#T_a398e_row7_col8 {\n",
       "  font-size: 6pt;\n",
       "  background-color: #b6b6b6;\n",
       "  color: #000000;\n",
       "}\n",
       "#T_a398e_row7_col9 {\n",
       "  font-size: 6pt;\n",
       "  background-color: #252525;\n",
       "  color: #f1f1f1;\n",
       "}\n",
       "#T_a398e_row7_col12 {\n",
       "  font-size: 6pt;\n",
       "  background-color: #999999;\n",
       "  color: #f1f1f1;\n",
       "}\n",
       "#T_a398e_row8_col5 {\n",
       "  font-size: 6pt;\n",
       "  background-color: #f9f9f9;\n",
       "  color: #000000;\n",
       "}\n",
       "#T_a398e_row8_col7 {\n",
       "  font-size: 6pt;\n",
       "  background-color: #101010;\n",
       "  color: #f1f1f1;\n",
       "}\n",
       "#T_a398e_row8_col9, #T_a398e_row9_col9 {\n",
       "  font-size: 6pt;\n",
       "  background-color: #020202;\n",
       "  color: #f1f1f1;\n",
       "}\n",
       "#T_a398e_row8_col11 {\n",
       "  font-size: 6pt;\n",
       "  background-color: #545454;\n",
       "  color: #f1f1f1;\n",
       "}\n",
       "#T_a398e_row8_col12 {\n",
       "  font-size: 6pt;\n",
       "  background-color: #f1f1f1;\n",
       "  color: #000000;\n",
       "}\n",
       "#T_a398e_row9_col5 {\n",
       "  font-size: 6pt;\n",
       "  background-color: #f7f7f7;\n",
       "  color: #000000;\n",
       "}\n",
       "#T_a398e_row9_col7 {\n",
       "  font-size: 6pt;\n",
       "  background-color: #030303;\n",
       "  color: #f1f1f1;\n",
       "}\n",
       "#T_a398e_row9_col12 {\n",
       "  font-size: 6pt;\n",
       "  background-color: #181818;\n",
       "  color: #f1f1f1;\n",
       "}\n",
       "#T_a398e_row9_col13 {\n",
       "  font-size: 6pt;\n",
       "  background-color: #303030;\n",
       "  color: #f1f1f1;\n",
       "}\n",
       "#T_a398e_row9_col14 {\n",
       "  font-size: 6pt;\n",
       "  background-color: #a9a9a9;\n",
       "  color: #f1f1f1;\n",
       "}\n",
       "#T_a398e_row9_col15 {\n",
       "  font-size: 6pt;\n",
       "  background-color: #fefefe;\n",
       "  color: #000000;\n",
       "}\n",
       "#T_a398e_row10_col8, #T_a398e_row10_col9 {\n",
       "  font-size: 6pt;\n",
       "  background-color: #bababa;\n",
       "  color: #000000;\n",
       "}\n",
       "#T_a398e_row10_col10 {\n",
       "  font-size: 6pt;\n",
       "  background-color: #393939;\n",
       "  color: #f1f1f1;\n",
       "}\n",
       "</style>\n",
       "<table id=\"T_a398e\">\n",
       "  <thead>\n",
       "    <tr>\n",
       "      <th class=\"blank level0\" >&nbsp;</th>\n",
       "      <th id=\"T_a398e_level0_col0\" class=\"col_heading level0 col0\" >0</th>\n",
       "      <th id=\"T_a398e_level0_col1\" class=\"col_heading level0 col1\" >1</th>\n",
       "      <th id=\"T_a398e_level0_col2\" class=\"col_heading level0 col2\" >2</th>\n",
       "      <th id=\"T_a398e_level0_col3\" class=\"col_heading level0 col3\" >3</th>\n",
       "      <th id=\"T_a398e_level0_col4\" class=\"col_heading level0 col4\" >4</th>\n",
       "      <th id=\"T_a398e_level0_col5\" class=\"col_heading level0 col5\" >5</th>\n",
       "      <th id=\"T_a398e_level0_col6\" class=\"col_heading level0 col6\" >6</th>\n",
       "      <th id=\"T_a398e_level0_col7\" class=\"col_heading level0 col7\" >7</th>\n",
       "      <th id=\"T_a398e_level0_col8\" class=\"col_heading level0 col8\" >8</th>\n",
       "      <th id=\"T_a398e_level0_col9\" class=\"col_heading level0 col9\" >9</th>\n",
       "      <th id=\"T_a398e_level0_col10\" class=\"col_heading level0 col10\" >10</th>\n",
       "      <th id=\"T_a398e_level0_col11\" class=\"col_heading level0 col11\" >11</th>\n",
       "      <th id=\"T_a398e_level0_col12\" class=\"col_heading level0 col12\" >12</th>\n",
       "      <th id=\"T_a398e_level0_col13\" class=\"col_heading level0 col13\" >13</th>\n",
       "      <th id=\"T_a398e_level0_col14\" class=\"col_heading level0 col14\" >14</th>\n",
       "      <th id=\"T_a398e_level0_col15\" class=\"col_heading level0 col15\" >15</th>\n",
       "      <th id=\"T_a398e_level0_col16\" class=\"col_heading level0 col16\" >16</th>\n",
       "      <th id=\"T_a398e_level0_col17\" class=\"col_heading level0 col17\" >17</th>\n",
       "    </tr>\n",
       "  </thead>\n",
       "  <tbody>\n",
       "    <tr>\n",
       "      <th id=\"T_a398e_level0_row0\" class=\"row_heading level0 row0\" >0</th>\n",
       "      <td id=\"T_a398e_row0_col0\" class=\"data row0 col0\" >0</td>\n",
       "      <td id=\"T_a398e_row0_col1\" class=\"data row0 col1\" >0</td>\n",
       "      <td id=\"T_a398e_row0_col2\" class=\"data row0 col2\" >0</td>\n",
       "      <td id=\"T_a398e_row0_col3\" class=\"data row0 col3\" >0</td>\n",
       "      <td id=\"T_a398e_row0_col4\" class=\"data row0 col4\" >0</td>\n",
       "      <td id=\"T_a398e_row0_col5\" class=\"data row0 col5\" >0</td>\n",
       "      <td id=\"T_a398e_row0_col6\" class=\"data row0 col6\" >0</td>\n",
       "      <td id=\"T_a398e_row0_col7\" class=\"data row0 col7\" >0</td>\n",
       "      <td id=\"T_a398e_row0_col8\" class=\"data row0 col8\" >0</td>\n",
       "      <td id=\"T_a398e_row0_col9\" class=\"data row0 col9\" >0</td>\n",
       "      <td id=\"T_a398e_row0_col10\" class=\"data row0 col10\" >0</td>\n",
       "      <td id=\"T_a398e_row0_col11\" class=\"data row0 col11\" >0</td>\n",
       "      <td id=\"T_a398e_row0_col12\" class=\"data row0 col12\" >0</td>\n",
       "      <td id=\"T_a398e_row0_col13\" class=\"data row0 col13\" >0</td>\n",
       "      <td id=\"T_a398e_row0_col14\" class=\"data row0 col14\" >0</td>\n",
       "      <td id=\"T_a398e_row0_col15\" class=\"data row0 col15\" >0</td>\n",
       "      <td id=\"T_a398e_row0_col16\" class=\"data row0 col16\" >0</td>\n",
       "      <td id=\"T_a398e_row0_col17\" class=\"data row0 col17\" >0</td>\n",
       "    </tr>\n",
       "    <tr>\n",
       "      <th id=\"T_a398e_level0_row1\" class=\"row_heading level0 row1\" >1</th>\n",
       "      <td id=\"T_a398e_row1_col0\" class=\"data row1 col0\" >0</td>\n",
       "      <td id=\"T_a398e_row1_col1\" class=\"data row1 col1\" >0</td>\n",
       "      <td id=\"T_a398e_row1_col2\" class=\"data row1 col2\" >0</td>\n",
       "      <td id=\"T_a398e_row1_col3\" class=\"data row1 col3\" >0</td>\n",
       "      <td id=\"T_a398e_row1_col4\" class=\"data row1 col4\" >0</td>\n",
       "      <td id=\"T_a398e_row1_col5\" class=\"data row1 col5\" >29</td>\n",
       "      <td id=\"T_a398e_row1_col6\" class=\"data row1 col6\" >150</td>\n",
       "      <td id=\"T_a398e_row1_col7\" class=\"data row1 col7\" >195</td>\n",
       "      <td id=\"T_a398e_row1_col8\" class=\"data row1 col8\" >254</td>\n",
       "      <td id=\"T_a398e_row1_col9\" class=\"data row1 col9\" >255</td>\n",
       "      <td id=\"T_a398e_row1_col10\" class=\"data row1 col10\" >254</td>\n",
       "      <td id=\"T_a398e_row1_col11\" class=\"data row1 col11\" >176</td>\n",
       "      <td id=\"T_a398e_row1_col12\" class=\"data row1 col12\" >193</td>\n",
       "      <td id=\"T_a398e_row1_col13\" class=\"data row1 col13\" >150</td>\n",
       "      <td id=\"T_a398e_row1_col14\" class=\"data row1 col14\" >96</td>\n",
       "      <td id=\"T_a398e_row1_col15\" class=\"data row1 col15\" >0</td>\n",
       "      <td id=\"T_a398e_row1_col16\" class=\"data row1 col16\" >0</td>\n",
       "      <td id=\"T_a398e_row1_col17\" class=\"data row1 col17\" >0</td>\n",
       "    </tr>\n",
       "    <tr>\n",
       "      <th id=\"T_a398e_level0_row2\" class=\"row_heading level0 row2\" >2</th>\n",
       "      <td id=\"T_a398e_row2_col0\" class=\"data row2 col0\" >0</td>\n",
       "      <td id=\"T_a398e_row2_col1\" class=\"data row2 col1\" >0</td>\n",
       "      <td id=\"T_a398e_row2_col2\" class=\"data row2 col2\" >0</td>\n",
       "      <td id=\"T_a398e_row2_col3\" class=\"data row2 col3\" >48</td>\n",
       "      <td id=\"T_a398e_row2_col4\" class=\"data row2 col4\" >166</td>\n",
       "      <td id=\"T_a398e_row2_col5\" class=\"data row2 col5\" >224</td>\n",
       "      <td id=\"T_a398e_row2_col6\" class=\"data row2 col6\" >253</td>\n",
       "      <td id=\"T_a398e_row2_col7\" class=\"data row2 col7\" >253</td>\n",
       "      <td id=\"T_a398e_row2_col8\" class=\"data row2 col8\" >234</td>\n",
       "      <td id=\"T_a398e_row2_col9\" class=\"data row2 col9\" >196</td>\n",
       "      <td id=\"T_a398e_row2_col10\" class=\"data row2 col10\" >253</td>\n",
       "      <td id=\"T_a398e_row2_col11\" class=\"data row2 col11\" >253</td>\n",
       "      <td id=\"T_a398e_row2_col12\" class=\"data row2 col12\" >253</td>\n",
       "      <td id=\"T_a398e_row2_col13\" class=\"data row2 col13\" >253</td>\n",
       "      <td id=\"T_a398e_row2_col14\" class=\"data row2 col14\" >233</td>\n",
       "      <td id=\"T_a398e_row2_col15\" class=\"data row2 col15\" >0</td>\n",
       "      <td id=\"T_a398e_row2_col16\" class=\"data row2 col16\" >0</td>\n",
       "      <td id=\"T_a398e_row2_col17\" class=\"data row2 col17\" >0</td>\n",
       "    </tr>\n",
       "    <tr>\n",
       "      <th id=\"T_a398e_level0_row3\" class=\"row_heading level0 row3\" >3</th>\n",
       "      <td id=\"T_a398e_row3_col0\" class=\"data row3 col0\" >0</td>\n",
       "      <td id=\"T_a398e_row3_col1\" class=\"data row3 col1\" >93</td>\n",
       "      <td id=\"T_a398e_row3_col2\" class=\"data row3 col2\" >244</td>\n",
       "      <td id=\"T_a398e_row3_col3\" class=\"data row3 col3\" >249</td>\n",
       "      <td id=\"T_a398e_row3_col4\" class=\"data row3 col4\" >253</td>\n",
       "      <td id=\"T_a398e_row3_col5\" class=\"data row3 col5\" >187</td>\n",
       "      <td id=\"T_a398e_row3_col6\" class=\"data row3 col6\" >46</td>\n",
       "      <td id=\"T_a398e_row3_col7\" class=\"data row3 col7\" >10</td>\n",
       "      <td id=\"T_a398e_row3_col8\" class=\"data row3 col8\" >8</td>\n",
       "      <td id=\"T_a398e_row3_col9\" class=\"data row3 col9\" >4</td>\n",
       "      <td id=\"T_a398e_row3_col10\" class=\"data row3 col10\" >10</td>\n",
       "      <td id=\"T_a398e_row3_col11\" class=\"data row3 col11\" >194</td>\n",
       "      <td id=\"T_a398e_row3_col12\" class=\"data row3 col12\" >253</td>\n",
       "      <td id=\"T_a398e_row3_col13\" class=\"data row3 col13\" >253</td>\n",
       "      <td id=\"T_a398e_row3_col14\" class=\"data row3 col14\" >233</td>\n",
       "      <td id=\"T_a398e_row3_col15\" class=\"data row3 col15\" >0</td>\n",
       "      <td id=\"T_a398e_row3_col16\" class=\"data row3 col16\" >0</td>\n",
       "      <td id=\"T_a398e_row3_col17\" class=\"data row3 col17\" >0</td>\n",
       "    </tr>\n",
       "    <tr>\n",
       "      <th id=\"T_a398e_level0_row4\" class=\"row_heading level0 row4\" >4</th>\n",
       "      <td id=\"T_a398e_row4_col0\" class=\"data row4 col0\" >0</td>\n",
       "      <td id=\"T_a398e_row4_col1\" class=\"data row4 col1\" >107</td>\n",
       "      <td id=\"T_a398e_row4_col2\" class=\"data row4 col2\" >253</td>\n",
       "      <td id=\"T_a398e_row4_col3\" class=\"data row4 col3\" >253</td>\n",
       "      <td id=\"T_a398e_row4_col4\" class=\"data row4 col4\" >230</td>\n",
       "      <td id=\"T_a398e_row4_col5\" class=\"data row4 col5\" >48</td>\n",
       "      <td id=\"T_a398e_row4_col6\" class=\"data row4 col6\" >0</td>\n",
       "      <td id=\"T_a398e_row4_col7\" class=\"data row4 col7\" >0</td>\n",
       "      <td id=\"T_a398e_row4_col8\" class=\"data row4 col8\" >0</td>\n",
       "      <td id=\"T_a398e_row4_col9\" class=\"data row4 col9\" >0</td>\n",
       "      <td id=\"T_a398e_row4_col10\" class=\"data row4 col10\" >0</td>\n",
       "      <td id=\"T_a398e_row4_col11\" class=\"data row4 col11\" >192</td>\n",
       "      <td id=\"T_a398e_row4_col12\" class=\"data row4 col12\" >253</td>\n",
       "      <td id=\"T_a398e_row4_col13\" class=\"data row4 col13\" >253</td>\n",
       "      <td id=\"T_a398e_row4_col14\" class=\"data row4 col14\" >156</td>\n",
       "      <td id=\"T_a398e_row4_col15\" class=\"data row4 col15\" >0</td>\n",
       "      <td id=\"T_a398e_row4_col16\" class=\"data row4 col16\" >0</td>\n",
       "      <td id=\"T_a398e_row4_col17\" class=\"data row4 col17\" >0</td>\n",
       "    </tr>\n",
       "    <tr>\n",
       "      <th id=\"T_a398e_level0_row5\" class=\"row_heading level0 row5\" >5</th>\n",
       "      <td id=\"T_a398e_row5_col0\" class=\"data row5 col0\" >0</td>\n",
       "      <td id=\"T_a398e_row5_col1\" class=\"data row5 col1\" >3</td>\n",
       "      <td id=\"T_a398e_row5_col2\" class=\"data row5 col2\" >20</td>\n",
       "      <td id=\"T_a398e_row5_col3\" class=\"data row5 col3\" >20</td>\n",
       "      <td id=\"T_a398e_row5_col4\" class=\"data row5 col4\" >15</td>\n",
       "      <td id=\"T_a398e_row5_col5\" class=\"data row5 col5\" >0</td>\n",
       "      <td id=\"T_a398e_row5_col6\" class=\"data row5 col6\" >0</td>\n",
       "      <td id=\"T_a398e_row5_col7\" class=\"data row5 col7\" >0</td>\n",
       "      <td id=\"T_a398e_row5_col8\" class=\"data row5 col8\" >0</td>\n",
       "      <td id=\"T_a398e_row5_col9\" class=\"data row5 col9\" >0</td>\n",
       "      <td id=\"T_a398e_row5_col10\" class=\"data row5 col10\" >43</td>\n",
       "      <td id=\"T_a398e_row5_col11\" class=\"data row5 col11\" >224</td>\n",
       "      <td id=\"T_a398e_row5_col12\" class=\"data row5 col12\" >253</td>\n",
       "      <td id=\"T_a398e_row5_col13\" class=\"data row5 col13\" >245</td>\n",
       "      <td id=\"T_a398e_row5_col14\" class=\"data row5 col14\" >74</td>\n",
       "      <td id=\"T_a398e_row5_col15\" class=\"data row5 col15\" >0</td>\n",
       "      <td id=\"T_a398e_row5_col16\" class=\"data row5 col16\" >0</td>\n",
       "      <td id=\"T_a398e_row5_col17\" class=\"data row5 col17\" >0</td>\n",
       "    </tr>\n",
       "    <tr>\n",
       "      <th id=\"T_a398e_level0_row6\" class=\"row_heading level0 row6\" >6</th>\n",
       "      <td id=\"T_a398e_row6_col0\" class=\"data row6 col0\" >0</td>\n",
       "      <td id=\"T_a398e_row6_col1\" class=\"data row6 col1\" >0</td>\n",
       "      <td id=\"T_a398e_row6_col2\" class=\"data row6 col2\" >0</td>\n",
       "      <td id=\"T_a398e_row6_col3\" class=\"data row6 col3\" >0</td>\n",
       "      <td id=\"T_a398e_row6_col4\" class=\"data row6 col4\" >0</td>\n",
       "      <td id=\"T_a398e_row6_col5\" class=\"data row6 col5\" >0</td>\n",
       "      <td id=\"T_a398e_row6_col6\" class=\"data row6 col6\" >0</td>\n",
       "      <td id=\"T_a398e_row6_col7\" class=\"data row6 col7\" >0</td>\n",
       "      <td id=\"T_a398e_row6_col8\" class=\"data row6 col8\" >0</td>\n",
       "      <td id=\"T_a398e_row6_col9\" class=\"data row6 col9\" >0</td>\n",
       "      <td id=\"T_a398e_row6_col10\" class=\"data row6 col10\" >249</td>\n",
       "      <td id=\"T_a398e_row6_col11\" class=\"data row6 col11\" >253</td>\n",
       "      <td id=\"T_a398e_row6_col12\" class=\"data row6 col12\" >245</td>\n",
       "      <td id=\"T_a398e_row6_col13\" class=\"data row6 col13\" >126</td>\n",
       "      <td id=\"T_a398e_row6_col14\" class=\"data row6 col14\" >0</td>\n",
       "      <td id=\"T_a398e_row6_col15\" class=\"data row6 col15\" >0</td>\n",
       "      <td id=\"T_a398e_row6_col16\" class=\"data row6 col16\" >0</td>\n",
       "      <td id=\"T_a398e_row6_col17\" class=\"data row6 col17\" >0</td>\n",
       "    </tr>\n",
       "    <tr>\n",
       "      <th id=\"T_a398e_level0_row7\" class=\"row_heading level0 row7\" >7</th>\n",
       "      <td id=\"T_a398e_row7_col0\" class=\"data row7 col0\" >0</td>\n",
       "      <td id=\"T_a398e_row7_col1\" class=\"data row7 col1\" >0</td>\n",
       "      <td id=\"T_a398e_row7_col2\" class=\"data row7 col2\" >0</td>\n",
       "      <td id=\"T_a398e_row7_col3\" class=\"data row7 col3\" >0</td>\n",
       "      <td id=\"T_a398e_row7_col4\" class=\"data row7 col4\" >0</td>\n",
       "      <td id=\"T_a398e_row7_col5\" class=\"data row7 col5\" >0</td>\n",
       "      <td id=\"T_a398e_row7_col6\" class=\"data row7 col6\" >0</td>\n",
       "      <td id=\"T_a398e_row7_col7\" class=\"data row7 col7\" >14</td>\n",
       "      <td id=\"T_a398e_row7_col8\" class=\"data row7 col8\" >101</td>\n",
       "      <td id=\"T_a398e_row7_col9\" class=\"data row7 col9\" >223</td>\n",
       "      <td id=\"T_a398e_row7_col10\" class=\"data row7 col10\" >253</td>\n",
       "      <td id=\"T_a398e_row7_col11\" class=\"data row7 col11\" >248</td>\n",
       "      <td id=\"T_a398e_row7_col12\" class=\"data row7 col12\" >124</td>\n",
       "      <td id=\"T_a398e_row7_col13\" class=\"data row7 col13\" >0</td>\n",
       "      <td id=\"T_a398e_row7_col14\" class=\"data row7 col14\" >0</td>\n",
       "      <td id=\"T_a398e_row7_col15\" class=\"data row7 col15\" >0</td>\n",
       "      <td id=\"T_a398e_row7_col16\" class=\"data row7 col16\" >0</td>\n",
       "      <td id=\"T_a398e_row7_col17\" class=\"data row7 col17\" >0</td>\n",
       "    </tr>\n",
       "    <tr>\n",
       "      <th id=\"T_a398e_level0_row8\" class=\"row_heading level0 row8\" >8</th>\n",
       "      <td id=\"T_a398e_row8_col0\" class=\"data row8 col0\" >0</td>\n",
       "      <td id=\"T_a398e_row8_col1\" class=\"data row8 col1\" >0</td>\n",
       "      <td id=\"T_a398e_row8_col2\" class=\"data row8 col2\" >0</td>\n",
       "      <td id=\"T_a398e_row8_col3\" class=\"data row8 col3\" >0</td>\n",
       "      <td id=\"T_a398e_row8_col4\" class=\"data row8 col4\" >0</td>\n",
       "      <td id=\"T_a398e_row8_col5\" class=\"data row8 col5\" >11</td>\n",
       "      <td id=\"T_a398e_row8_col6\" class=\"data row8 col6\" >166</td>\n",
       "      <td id=\"T_a398e_row8_col7\" class=\"data row8 col7\" >239</td>\n",
       "      <td id=\"T_a398e_row8_col8\" class=\"data row8 col8\" >253</td>\n",
       "      <td id=\"T_a398e_row8_col9\" class=\"data row8 col9\" >253</td>\n",
       "      <td id=\"T_a398e_row8_col10\" class=\"data row8 col10\" >253</td>\n",
       "      <td id=\"T_a398e_row8_col11\" class=\"data row8 col11\" >187</td>\n",
       "      <td id=\"T_a398e_row8_col12\" class=\"data row8 col12\" >30</td>\n",
       "      <td id=\"T_a398e_row8_col13\" class=\"data row8 col13\" >0</td>\n",
       "      <td id=\"T_a398e_row8_col14\" class=\"data row8 col14\" >0</td>\n",
       "      <td id=\"T_a398e_row8_col15\" class=\"data row8 col15\" >0</td>\n",
       "      <td id=\"T_a398e_row8_col16\" class=\"data row8 col16\" >0</td>\n",
       "      <td id=\"T_a398e_row8_col17\" class=\"data row8 col17\" >0</td>\n",
       "    </tr>\n",
       "    <tr>\n",
       "      <th id=\"T_a398e_level0_row9\" class=\"row_heading level0 row9\" >9</th>\n",
       "      <td id=\"T_a398e_row9_col0\" class=\"data row9 col0\" >0</td>\n",
       "      <td id=\"T_a398e_row9_col1\" class=\"data row9 col1\" >0</td>\n",
       "      <td id=\"T_a398e_row9_col2\" class=\"data row9 col2\" >0</td>\n",
       "      <td id=\"T_a398e_row9_col3\" class=\"data row9 col3\" >0</td>\n",
       "      <td id=\"T_a398e_row9_col4\" class=\"data row9 col4\" >0</td>\n",
       "      <td id=\"T_a398e_row9_col5\" class=\"data row9 col5\" >16</td>\n",
       "      <td id=\"T_a398e_row9_col6\" class=\"data row9 col6\" >248</td>\n",
       "      <td id=\"T_a398e_row9_col7\" class=\"data row9 col7\" >250</td>\n",
       "      <td id=\"T_a398e_row9_col8\" class=\"data row9 col8\" >253</td>\n",
       "      <td id=\"T_a398e_row9_col9\" class=\"data row9 col9\" >253</td>\n",
       "      <td id=\"T_a398e_row9_col10\" class=\"data row9 col10\" >253</td>\n",
       "      <td id=\"T_a398e_row9_col11\" class=\"data row9 col11\" >253</td>\n",
       "      <td id=\"T_a398e_row9_col12\" class=\"data row9 col12\" >232</td>\n",
       "      <td id=\"T_a398e_row9_col13\" class=\"data row9 col13\" >213</td>\n",
       "      <td id=\"T_a398e_row9_col14\" class=\"data row9 col14\" >111</td>\n",
       "      <td id=\"T_a398e_row9_col15\" class=\"data row9 col15\" >2</td>\n",
       "      <td id=\"T_a398e_row9_col16\" class=\"data row9 col16\" >0</td>\n",
       "      <td id=\"T_a398e_row9_col17\" class=\"data row9 col17\" >0</td>\n",
       "    </tr>\n",
       "    <tr>\n",
       "      <th id=\"T_a398e_level0_row10\" class=\"row_heading level0 row10\" >10</th>\n",
       "      <td id=\"T_a398e_row10_col0\" class=\"data row10 col0\" >0</td>\n",
       "      <td id=\"T_a398e_row10_col1\" class=\"data row10 col1\" >0</td>\n",
       "      <td id=\"T_a398e_row10_col2\" class=\"data row10 col2\" >0</td>\n",
       "      <td id=\"T_a398e_row10_col3\" class=\"data row10 col3\" >0</td>\n",
       "      <td id=\"T_a398e_row10_col4\" class=\"data row10 col4\" >0</td>\n",
       "      <td id=\"T_a398e_row10_col5\" class=\"data row10 col5\" >0</td>\n",
       "      <td id=\"T_a398e_row10_col6\" class=\"data row10 col6\" >0</td>\n",
       "      <td id=\"T_a398e_row10_col7\" class=\"data row10 col7\" >43</td>\n",
       "      <td id=\"T_a398e_row10_col8\" class=\"data row10 col8\" >98</td>\n",
       "      <td id=\"T_a398e_row10_col9\" class=\"data row10 col9\" >98</td>\n",
       "      <td id=\"T_a398e_row10_col10\" class=\"data row10 col10\" >208</td>\n",
       "      <td id=\"T_a398e_row10_col11\" class=\"data row10 col11\" >253</td>\n",
       "      <td id=\"T_a398e_row10_col12\" class=\"data row10 col12\" >253</td>\n",
       "      <td id=\"T_a398e_row10_col13\" class=\"data row10 col13\" >253</td>\n",
       "      <td id=\"T_a398e_row10_col14\" class=\"data row10 col14\" >253</td>\n",
       "      <td id=\"T_a398e_row10_col15\" class=\"data row10 col15\" >187</td>\n",
       "      <td id=\"T_a398e_row10_col16\" class=\"data row10 col16\" >22</td>\n",
       "      <td id=\"T_a398e_row10_col17\" class=\"data row10 col17\" >0</td>\n",
       "    </tr>\n",
       "  </tbody>\n",
       "</table>\n"
      ],
      "text/plain": [
       "<pandas.io.formats.style.Styler at 0x14fa26fb0>"
      ]
     },
     "execution_count": 20,
     "metadata": {},
     "output_type": "execute_result"
    }
   ],
   "source": [
    "df.style.set_properties(**{'font-size':'6pt'}).background_gradient('Greys')"
   ]
  },
  {
   "cell_type": "markdown",
   "id": "39eaab03",
   "metadata": {},
   "source": [
    "The entire image contains 28 pixels across and 28 pixels down, for a total of 784 pixels. "
   ]
  },
  {
   "cell_type": "markdown",
   "id": "6d73e4ca",
   "metadata": {},
   "source": [
    "## First Try: Pixel Similarity"
   ]
  },
  {
   "cell_type": "markdown",
   "id": "7d9ea7d5",
   "metadata": {
    "heading_collapsed": true
   },
   "source": [
    "### Baseline"
   ]
  },
  {
   "cell_type": "markdown",
   "id": "93c137b5",
   "metadata": {
    "hidden": true
   },
   "source": [
    "* Модель простая в разработке и проверке\n",
    "* Есть уверенность, что она должна работать достаточно хорошо\n",
    "* Будем сравнивать наши изощренные модели с Baseline-решением"
   ]
  },
  {
   "cell_type": "markdown",
   "id": "c40d5289",
   "metadata": {},
   "source": [
    "### Baseline : average пикселей"
   ]
  },
  {
   "cell_type": "code",
   "execution_count": 25,
   "id": "aef83024",
   "metadata": {},
   "outputs": [
    {
     "data": {
      "text/plain": [
       "(6131, 6265)"
      ]
     },
     "execution_count": 25,
     "metadata": {},
     "output_type": "execute_result"
    }
   ],
   "source": [
    "seven_tensors = [tensor(Image.open(o)) for o in sevens]\n",
    "three_tensors = [tensor(Image.open(o)) for o in threes]\n",
    "len(three_tensors),len(seven_tensors)"
   ]
  },
  {
   "cell_type": "code",
   "execution_count": 38,
   "id": "aed79464",
   "metadata": {},
   "outputs": [
    {
     "data": {
      "text/plain": [
       "<AxesSubplot:>"
      ]
     },
     "execution_count": 38,
     "metadata": {},
     "output_type": "execute_result"
    },
    {
     "data": {
      "image/png": "[encoded data removed]",
      "text/plain": [
       "<Figure size 72x72 with 1 Axes>"
      ]
     },
     "metadata": {
      "needs_background": "light"
     },
     "output_type": "display_data"
    }
   ],
   "source": [
    "show_image(three_tensors[1], cmap=\"binary\")"
   ]
  },
  {
   "cell_type": "markdown",
   "id": "712ff4b7",
   "metadata": {},
   "source": [
    "Далее:\n",
    "* combine all the images in this list into a single three-dimensional tensor\n",
    "* the pixel values are expected to be between 0 and 1, so we will also divide by 255"
   ]
  },
  {
   "cell_type": "code",
   "execution_count": 28,
   "id": "918c1cfb",
   "metadata": {},
   "outputs": [
    {
     "data": {
      "text/plain": [
       "torch.Size([6131, 28, 28])"
      ]
     },
     "execution_count": 28,
     "metadata": {},
     "output_type": "execute_result"
    }
   ],
   "source": [
    "stacked_sevens = torch.stack(seven_tensors).float()/255\n",
    "stacked_threes = torch.stack(three_tensors).float()/255\n",
    "stacked_threes.shape"
   ]
  },
  {
   "cell_type": "markdown",
   "id": "750ba89f",
   "metadata": {},
   "source": [
    " As far as **PyTorch is concerned**, it is just a bunch of **numbers in memory**."
   ]
  },
  {
   "cell_type": "markdown",
   "id": "edaf9e84",
   "metadata": {},
   "source": [
    "The length of a tensor's shape is its **rank**:"
   ]
  },
  {
   "cell_type": "code",
   "execution_count": 32,
   "id": "a7347e15",
   "metadata": {},
   "outputs": [
    {
     "data": {
      "text/plain": [
       "3"
      ]
     },
     "execution_count": 32,
     "metadata": {},
     "output_type": "execute_result"
    }
   ],
   "source": [
    "len(stacked_threes.shape)"
   ]
  },
  {
   "cell_type": "markdown",
   "id": "9e751a49",
   "metadata": {},
   "source": [
    "Закрепим терминологию:\n",
    "* **rank** is the number of axes or dimensions in a tensor\n",
    "* **shape** is the size of each axis of a tensor."
   ]
  },
  {
   "cell_type": "markdown",
   "id": "38f46ff8",
   "metadata": {},
   "source": [
    "We can also get a tensor's rank directly with **ndim**:"
   ]
  },
  {
   "cell_type": "code",
   "execution_count": 30,
   "id": "a1143e31",
   "metadata": {},
   "outputs": [
    {
     "data": {
      "text/plain": [
       "3"
      ]
     },
     "execution_count": 30,
     "metadata": {},
     "output_type": "execute_result"
    }
   ],
   "source": [
    "stacked_threes.ndim"
   ]
  },
  {
   "cell_type": "markdown",
   "id": "69f66f43",
   "metadata": {},
   "source": [
    "We calculate the **mean** of all the image tensors by taking the mean along dimension **0** of our stacked, rank-3 tensor."
   ]
  },
  {
   "cell_type": "markdown",
   "id": "d2f30505",
   "metadata": {},
   "source": [
    "In other words, **for every pixel position**, this will **compute the average** of that pixel over all images. The **result** will be **one value** for every pixel position, or a **single image**. Here it is:"
   ]
  },
  {
   "cell_type": "code",
   "execution_count": 37,
   "id": "031575db",
   "metadata": {},
   "outputs": [
    {
     "data": {
      "image/png": "[encoded data removed]",
      "text/plain": [
       "<Figure size 72x72 with 1 Axes>"
      ]
     },
     "metadata": {
      "needs_background": "light"
     },
     "output_type": "display_data"
    }
   ],
   "source": [
    "mean3 = stacked_threes.mean(0)\n",
    "show_image(mean3, cmap=\"binary\");"
   ]
  },
  {
   "cell_type": "markdown",
   "id": "17e3ca65",
   "metadata": {},
   "source": [
    "According to this dataset, this is the **ideal** number 3!"
   ]
  },
  {
   "cell_type": "code",
   "execution_count": 36,
   "id": "ed3fb38e",
   "metadata": {},
   "outputs": [
    {
     "data": {
      "image/png": "[encoded data removed]",
      "text/plain": [
       "<Figure size 72x72 with 1 Axes>"
      ]
     },
     "metadata": {
      "needs_background": "light"
     },
     "output_type": "display_data"
    }
   ],
   "source": [
    "mean7 = stacked_sevens.mean(0)\n",
    "show_image(mean7, cmap=\"binary\");"
   ]
  },
  {
   "cell_type": "markdown",
   "id": "b89dbc45",
   "metadata": {},
   "source": [
    "Here's a sample 3:"
   ]
  },
  {
   "cell_type": "code",
   "execution_count": 41,
   "id": "d35a9296",
   "metadata": {},
   "outputs": [
    {
     "data": {
      "image/png": "[encoded data removed]",
      "text/plain": [
       "<Figure size 72x72 with 1 Axes>"
      ]
     },
     "metadata": {
      "needs_background": "light"
     },
     "output_type": "display_data"
    }
   ],
   "source": [
    "a_3 = stacked_threes[1]\n",
    "show_image(a_3, cmap=\"binary\");"
   ]
  },
  {
   "cell_type": "markdown",
   "id": "81152621",
   "metadata": {},
   "source": [
    "How can we determine its **distance from** our **ideal** 3?"
   ]
  },
  {
   "cell_type": "markdown",
   "id": "ca9fe053",
   "metadata": {},
   "source": [
    "Требование: растояние должно быть неотрицательным, иначе + и - могут компенсировать друг друга."
   ]
  },
  {
   "cell_type": "markdown",
   "id": "7a97c856",
   "metadata": {},
   "source": [
    "To avoid this, there are **two main ways** data scientists **measure distance** in this context:\n",
    "* Take the **mean of the absolute value** of differences (absolute value is the function that replaces negative values with positive values). This is called the mean absolute difference or **L1 norm**\n",
    "* Take the **mean of the square of differences** (which makes everything positive) **and then take the square root** (which undoes the squaring). This is called the **root mean squared error (RMSE) or L2 norm**."
   ]
  },
  {
   "cell_type": "markdown",
   "id": "5a7dc9fa",
   "metadata": {},
   "source": [
    "Посчитаем оба:"
   ]
  },
  {
   "cell_type": "code",
   "execution_count": 42,
   "id": "8e64b36b",
   "metadata": {},
   "outputs": [
    {
     "data": {
      "text/plain": [
       "(tensor(0.1114), tensor(0.2021))"
      ]
     },
     "execution_count": 42,
     "metadata": {},
     "output_type": "execute_result"
    }
   ],
   "source": [
    "dist_3_abs = (a_3 - mean3).abs().mean()\n",
    "dist_3_sqr = ((a_3 - mean3)**2).mean().sqrt()\n",
    "dist_3_abs,dist_3_sqr"
   ]
  },
  {
   "cell_type": "code",
   "execution_count": 43,
   "id": "6eb09888",
   "metadata": {},
   "outputs": [
    {
     "data": {
      "text/plain": [
       "(tensor(0.1586), tensor(0.3021))"
      ]
     },
     "execution_count": 43,
     "metadata": {},
     "output_type": "execute_result"
    }
   ],
   "source": [
    "dist_7_abs = (a_3 - mean7).abs().mean()\n",
    "dist_7_sqr = ((a_3 - mean7)**2).mean().sqrt()\n",
    "dist_7_abs,dist_7_sqr"
   ]
  },
  {
   "cell_type": "markdown",
   "id": "71bd36a3",
   "metadata": {},
   "source": [
    "In both cases, the distance between **our 3** and the **\"ideal\" 3** is **less** than the distance to the **ideal 7**. So our simple model will give the right prediction in this case."
   ]
  },
  {
   "cell_type": "markdown",
   "id": "200d4773",
   "metadata": {},
   "source": [
    "В PyTorch уже встроены эти вычисления:"
   ]
  },
  {
   "cell_type": "code",
   "execution_count": 44,
   "id": "ff0bfb3b",
   "metadata": {},
   "outputs": [
    {
     "data": {
      "text/plain": [
       "(tensor(0.1586), tensor(0.3021))"
      ]
     },
     "execution_count": 44,
     "metadata": {},
     "output_type": "execute_result"
    }
   ],
   "source": [
    "F.l1_loss(a_3.float(),mean7), F.mse_loss(a_3,mean7).sqrt()"
   ]
  },
  {
   "cell_type": "markdown",
   "id": "6c4a8baa",
   "metadata": {},
   "source": [
    "Here **mse** stands for *mean squared error*, and **l1** refers to the standard mathematical jargon for *mean absolute value* (in math it's called the **L1 norm**)."
   ]
  },
  {
   "cell_type": "markdown",
   "id": "36a9ee3c",
   "metadata": {},
   "source": [
    "Интуитивно понятно, что разница между **mse** и **l1** в том, что **mse** больше наказывает за большие отклонения "
   ]
  },
  {
   "cell_type": "markdown",
   "id": "be62e16f",
   "metadata": {
    "heading_collapsed": true
   },
   "source": [
    "### NumPy Arrays and PyTorch Tensors"
   ]
  },
  {
   "cell_type": "markdown",
   "id": "dafc99f4",
   "metadata": {
    "hidden": true
   },
   "source": [
    "Разница:\n",
    "* API **NumPy Arrays** and **PyTorch Tensors** очень похожи.  \n",
    "* Но NumPy не позволяет использовать GPU для вычисления градиента \n",
    "* Поэтому в курсе чаще используется PyTorch Tensors"
   ]
  },
  {
   "cell_type": "markdown",
   "id": "fcfc1759",
   "metadata": {
    "hidden": true
   },
   "source": [
    "Скорость:\n",
    "* NumPy и PyTorch быстро работают за счет того, что они обертки на C-программами\n",
    "* **NumPy arrays and PyTorch tensors can finish computations many thousands of times faster than using pure Python**\n",
    "* A NumPy array is a multidimensional table of data, with all items of the same type. If the items are all of some simple type such as **integer** or **float**, then NumPy will store them as a **compact** C data structure in memory.\n",
    "* PyTorch даже более строгий чем NumPy и обладает большими возможностями"
   ]
  },
  {
   "cell_type": "markdown",
   "id": "07375a44",
   "metadata": {
    "hidden": true
   },
   "source": [
    "Создание:"
   ]
  },
  {
   "cell_type": "code",
   "execution_count": 46,
   "id": "7f2b1d0d",
   "metadata": {
    "hidden": true
   },
   "outputs": [],
   "source": [
    "data = [[1,2,3],[4,5,6]]\n",
    "arr = array (data)\n",
    "tns = tensor(data)"
   ]
  },
  {
   "cell_type": "code",
   "execution_count": 47,
   "id": "7f8e7b70",
   "metadata": {
    "hidden": true
   },
   "outputs": [
    {
     "data": {
      "text/plain": [
       "array([[1, 2, 3],\n",
       "       [4, 5, 6]])"
      ]
     },
     "execution_count": 47,
     "metadata": {},
     "output_type": "execute_result"
    }
   ],
   "source": [
    "arr  # numpy"
   ]
  },
  {
   "cell_type": "code",
   "execution_count": 48,
   "id": "5379362e",
   "metadata": {
    "hidden": true
   },
   "outputs": [
    {
     "data": {
      "text/plain": [
       "tensor([[1, 2, 3],\n",
       "        [4, 5, 6]])"
      ]
     },
     "execution_count": 48,
     "metadata": {},
     "output_type": "execute_result"
    }
   ],
   "source": [
    "tns  # pytorch"
   ]
  },
  {
   "cell_type": "code",
   "execution_count": 49,
   "id": "840f2f8b",
   "metadata": {
    "hidden": true
   },
   "outputs": [
    {
     "data": {
      "text/plain": [
       "tensor([4, 5, 6])"
      ]
     },
     "execution_count": 49,
     "metadata": {},
     "output_type": "execute_result"
    }
   ],
   "source": [
    "tns[1]"
   ]
  },
  {
   "cell_type": "code",
   "execution_count": 55,
   "id": "282730c2",
   "metadata": {
    "hidden": true
   },
   "outputs": [
    {
     "data": {
      "text/plain": [
       "tensor([5, 6])"
      ]
     },
     "execution_count": 55,
     "metadata": {},
     "output_type": "execute_result"
    }
   ],
   "source": [
    "tns[1,1:3]"
   ]
  },
  {
   "cell_type": "code",
   "execution_count": 56,
   "id": "409750f6",
   "metadata": {
    "hidden": true
   },
   "outputs": [
    {
     "data": {
      "text/plain": [
       "tensor([[2, 3, 4],\n",
       "        [5, 6, 7]])"
      ]
     },
     "execution_count": 56,
     "metadata": {},
     "output_type": "execute_result"
    }
   ],
   "source": [
    "tns+1"
   ]
  },
  {
   "cell_type": "code",
   "execution_count": 57,
   "id": "1a3c392b",
   "metadata": {
    "hidden": true
   },
   "outputs": [
    {
     "data": {
      "text/plain": [
       "'torch.LongTensor'"
      ]
     },
     "execution_count": 57,
     "metadata": {},
     "output_type": "execute_result"
    }
   ],
   "source": [
    "tns.type()"
   ]
  },
  {
   "cell_type": "code",
   "execution_count": 58,
   "id": "fc6cec90",
   "metadata": {
    "hidden": true
   },
   "outputs": [
    {
     "data": {
      "text/plain": [
       "tensor([[1.5000, 3.0000, 4.5000],\n",
       "        [6.0000, 7.5000, 9.0000]])"
      ]
     },
     "execution_count": 58,
     "metadata": {},
     "output_type": "execute_result"
    }
   ],
   "source": [
    "tns*1.5"
   ]
  },
  {
   "cell_type": "markdown",
   "id": "5b901d70",
   "metadata": {},
   "source": [
    "### Computing Metrics Using Broadcasting"
   ]
  },
  {
   "cell_type": "markdown",
   "id": "af741d7a",
   "metadata": {},
   "source": [
    "Проверим нашу модель:"
   ]
  },
  {
   "cell_type": "code",
   "execution_count": 60,
   "id": "b0b37167",
   "metadata": {},
   "outputs": [
    {
     "data": {
      "text/plain": [
       "(torch.Size([1010, 28, 28]), torch.Size([1028, 28, 28]))"
      ]
     },
     "execution_count": 60,
     "metadata": {},
     "output_type": "execute_result"
    }
   ],
   "source": [
    "valid_3_tens = torch.stack([tensor(Image.open(o)) \n",
    "                            for o in (path/'valid'/'3').ls()])\n",
    "valid_3_tens = valid_3_tens.float()/255\n",
    "valid_7_tens = torch.stack([tensor(Image.open(o)) \n",
    "                            for o in (path/'valid'/'7').ls()])\n",
    "valid_7_tens = valid_7_tens.float()/255\n",
    "valid_3_tens.shape,valid_7_tens.shape"
   ]
  },
  {
   "cell_type": "markdown",
   "id": "9a939b46",
   "metadata": {},
   "source": [
    "Simple function that calculates the mean absolute error:"
   ]
  },
  {
   "cell_type": "code",
   "execution_count": 61,
   "id": "f6fd81a9",
   "metadata": {},
   "outputs": [
    {
     "data": {
      "text/plain": [
       "tensor(0.1114)"
      ]
     },
     "execution_count": 61,
     "metadata": {},
     "output_type": "execute_result"
    }
   ],
   "source": [
    "def mnist_distance(a,b): return (a-b).abs().mean((-1,-2))\n",
    "mnist_distance(a_3, mean3)"
   ]
  },
  {
   "cell_type": "markdown",
   "id": "42d2066d",
   "metadata": {},
   "source": [
    "* Мы получили расстояние между двумя картинками\n",
    "* Но нам нужно пройти по всем 1010 картинкам и для каждой посчитать расстояние\n",
    "* Но делать так мы конечно не будем, а вместо этого жахнем тензоны в нашу функцию"
   ]
  },
  {
   "cell_type": "code",
   "execution_count": 62,
   "id": "148e8087",
   "metadata": {},
   "outputs": [
    {
     "data": {
      "text/plain": [
       "(tensor([0.1634, 0.1145, 0.1363,  ..., 0.1105, 0.1111, 0.1640]),\n",
       " torch.Size([1010]))"
      ]
     },
     "execution_count": 62,
     "metadata": {},
     "output_type": "execute_result"
    }
   ],
   "source": [
    "valid_3_dist = mnist_distance(valid_3_tens, mean3)\n",
    "valid_3_dist, valid_3_dist.shape"
   ]
  },
  {
   "cell_type": "markdown",
   "id": "9b4a4b4e",
   "metadata": {},
   "source": [
    "Но размерности не совпадали!!! Почему это сработало?"
   ]
  },
  {
   "cell_type": "markdown",
   "id": "b8cac237",
   "metadata": {},
   "source": [
    "Ответ в вычислении **(a-b)**:\n",
    "* Когда Pytorch выполняет вычитание между тензорами разных рангов используется **broadcasting**\n",
    "* А именно: тензор меньшего ранга автоматически расширяется до большего  \n",
    "\n",
    "В результате мы пишем меньше кода"
   ]
  },
  {
   "cell_type": "markdown",
   "id": "1329efe3",
   "metadata": {},
   "source": [
    "Еще один пример broadcasting-а:"
   ]
  },
  {
   "cell_type": "code",
   "execution_count": 63,
   "id": "117a0000",
   "metadata": {},
   "outputs": [
    {
     "data": {
      "text/plain": [
       "tensor([2, 3, 4])"
      ]
     },
     "execution_count": 63,
     "metadata": {},
     "output_type": "execute_result"
    }
   ],
   "source": [
    "tensor([1,2,3]) + tensor(1)"
   ]
  },
  {
   "cell_type": "markdown",
   "id": "c224c6d4",
   "metadata": {},
   "source": [
    "В нашем случае можем посмотреть что ранг действительно расширился (mean3 как будто размножил себя 1010 раз перед вычитанием):"
   ]
  },
  {
   "cell_type": "code",
   "execution_count": 64,
   "id": "d4eddbbd",
   "metadata": {},
   "outputs": [
    {
     "data": {
      "text/plain": [
       "torch.Size([1010, 28, 28])"
      ]
     },
     "execution_count": 64,
     "metadata": {},
     "output_type": "execute_result"
    }
   ],
   "source": [
    "(valid_3_tens-mean3).shape"
   ]
  },
  {
   "cell_type": "markdown",
   "id": "c5bfa762",
   "metadata": {},
   "source": [
    "Но в действительности дополнительных аллокаций памяти для тиражирования mean3 1010 раз внутри Pytorch не происходило!"
   ]
  },
  {
   "cell_type": "markdown",
   "id": "9d2fee37",
   "metadata": {},
   "source": [
    "Далее, **abs** применялся к каждому элементу тензора"
   ]
  },
  {
   "cell_type": "markdown",
   "id": "8cdf5628",
   "metadata": {},
   "source": [
    "**mean((-1,-2)** означает применение mean к последней и предпоследней оси тензора, то есть к горизонтальной и вертикальной осям картики.  \n",
    "In other words, for every image, we averaged the intensity of all the pixels in that image."
   ]
  },
  {
   "cell_type": "markdown",
   "id": "1a08d8ab",
   "metadata": {},
   "source": [
    "Составим функцию:"
   ]
  },
  {
   "cell_type": "code",
   "execution_count": 68,
   "id": "306d839d",
   "metadata": {},
   "outputs": [],
   "source": [
    "def is_3(x): return mnist_distance(x,mean3) < mnist_distance(x,mean7)"
   ]
  },
  {
   "cell_type": "markdown",
   "id": "4853554b",
   "metadata": {},
   "source": [
    "Пример использования:"
   ]
  },
  {
   "cell_type": "code",
   "execution_count": 70,
   "id": "23645b5c",
   "metadata": {},
   "outputs": [
    {
     "data": {
      "text/plain": [
       "(tensor(True), tensor(1.))"
      ]
     },
     "execution_count": 70,
     "metadata": {},
     "output_type": "execute_result"
    }
   ],
   "source": [
    "is_3(a_3), is_3(a_3).float()"
   ]
  },
  {
   "cell_type": "markdown",
   "id": "64c6be0e",
   "metadata": {},
   "source": [
    "Full validation set of 3s:"
   ]
  },
  {
   "cell_type": "code",
   "execution_count": 72,
   "id": "697ae071",
   "metadata": {},
   "outputs": [
    {
     "data": {
      "text/plain": [
       "tensor([True, True, True,  ..., True, True, True])"
      ]
     },
     "execution_count": 72,
     "metadata": {},
     "output_type": "execute_result"
    }
   ],
   "source": [
    "is_3(valid_3_tens)"
   ]
  },
  {
   "cell_type": "markdown",
   "id": "e22fdd69",
   "metadata": {},
   "source": [
    "Now we can calculate the **accuracy** for each of the 3s and 7s by taking the average of that function for all 3s and its inverse for all 7s:"
   ]
  },
  {
   "cell_type": "code",
   "execution_count": 73,
   "id": "8c094235",
   "metadata": {},
   "outputs": [
    {
     "data": {
      "text/plain": [
       "(tensor(0.9168), tensor(0.9854), tensor(0.9511))"
      ]
     },
     "execution_count": 73,
     "metadata": {},
     "output_type": "execute_result"
    }
   ],
   "source": [
    "accuracy_3s =      is_3(valid_3_tens).float() .mean()\n",
    "accuracy_7s = (1 - is_3(valid_7_tens).float()).mean()\n",
    "\n",
    "accuracy_3s,accuracy_7s,(accuracy_3s+accuracy_7s)/2"
   ]
  },
  {
   "cell_type": "markdown",
   "id": "28a62fac",
   "metadata": {},
   "source": [
    "**Что в итоге?**\n",
    "\n",
    "* 90% accuracy - хорошо для начала\n",
    "* Но 3 и 7 слишком разные в написании цифры, есть еще и остальные"
   ]
  },
  {
   "cell_type": "code",
   "execution_count": null,
   "id": "10ea0299",
   "metadata": {},
   "outputs": [],
   "source": []
  }
 ],
 "metadata": {
  "kernelspec": {
   "display_name": "Python 3 (ipykernel)",
   "language": "python",
   "name": "python3"
  },
  "language_info": {
   "codemirror_mode": {
    "name": "ipython",
    "version": 3
   },
   "file_extension": ".py",
   "mimetype": "text/x-python",
   "name": "python",
   "nbconvert_exporter": "python",
   "pygments_lexer": "ipython3",
   "version": "3.10.6"
  },
  "toc": {
   "base_numbering": 1,
   "nav_menu": {},
   "number_sections": false,
   "sideBar": true,
   "skip_h1_title": true,
   "title_cell": "Table of Contents",
   "title_sidebar": "Contents",
   "toc_cell": true,
   "toc_position": {},
   "toc_section_display": true,
   "toc_window_display": false
  }
 },
 "nbformat": 4,
 "nbformat_minor": 5
}
