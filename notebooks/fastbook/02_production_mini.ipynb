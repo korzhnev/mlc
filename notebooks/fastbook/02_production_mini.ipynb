{
 "cells": [
  {
   "cell_type": "markdown",
   "id": "9a4dbd3d",
   "metadata": {
    "toc": true
   },
   "source": [
    "<h1>Table of Contents<span class=\"tocSkip\"></span></h1>\n",
    "<div class=\"toc\"><ul class=\"toc-item\"><li><span><a href=\"#Используемые-материалы\" data-toc-modified-id=\"Используемые-материалы-1\">Используемые материалы</a></span></li><li><span><a href=\"#The-State-of-Deep-Learning\" data-toc-modified-id=\"The-State-of-Deep-Learning-2\">The State of Deep Learning</a></span></li><li><span><a href=\"#Getting-Help-in-Jupyter-Notebooks\" data-toc-modified-id=\"Getting-Help-in-Jupyter-Notebooks-3\">Getting Help in Jupyter Notebooks</a></span></li><li><span><a href=\"#Распознавание-картинок\" data-toc-modified-id=\"Распознавание-картинок-4\">Распознавание картинок</a></span><ul class=\"toc-item\"><li><span><a href=\"#Crop\" data-toc-modified-id=\"Crop-4.1\">Crop</a></span></li><li><span><a href=\"#Data-Augmentation\" data-toc-modified-id=\"Data-Augmentation-4.2\">Data Augmentation</a></span></li><li><span><a href=\"#GPU\" data-toc-modified-id=\"GPU-4.3\">GPU</a></span></li></ul></li><li><span><a href=\"#How-to-Avoid-Disaster\" data-toc-modified-id=\"How-to-Avoid-Disaster-5\">How to Avoid Disaster</a></span></li></ul></div>"
   ]
  },
  {
   "cell_type": "markdown",
   "id": "46539252",
   "metadata": {},
   "source": [
    "## Используемые материалы"
   ]
  },
  {
   "cell_type": "markdown",
   "id": "f54096f8",
   "metadata": {},
   "source": [
    "- https://github.com/fastai/fastbook/blob/master/02_production.ipynb  \n",
    "- https://course.fast.ai/Lessons/lesson2.html"
   ]
  },
  {
   "cell_type": "markdown",
   "id": "1e88306c",
   "metadata": {
    "heading_collapsed": true
   },
   "source": [
    "## The State of Deep Learning"
   ]
  },
  {
   "cell_type": "markdown",
   "id": "6cb401f4",
   "metadata": {
    "hidden": true
   },
   "source": [
    "**Computer vision**  \n",
    "top\n",
    "\n",
    "**Text (natural language processing)**  \n",
    "top\n",
    "\n",
    "**Tabular data**   \n",
    "Нет заметных преимуществ перед random forests или gradient boosting, да и тренируются дольше\n",
    "\n",
    "**Recommendation systems**  \n",
    "good  \n",
    "Разновидность tabular data  \n",
    "\n"
   ]
  },
  {
   "cell_type": "markdown",
   "id": "83db3a23",
   "metadata": {
    "heading_collapsed": true
   },
   "source": [
    "## Getting Help in Jupyter Notebooks"
   ]
  },
  {
   "cell_type": "code",
   "execution_count": 9,
   "id": "9bdfb5da",
   "metadata": {
    "hidden": true
   },
   "outputs": [],
   "source": [
    "import pandas as pd\n",
    "??pd.merge"
   ]
  },
  {
   "cell_type": "markdown",
   "id": "27d0b930",
   "metadata": {},
   "source": [
    "## Распознавание картинок"
   ]
  },
  {
   "cell_type": "markdown",
   "id": "e8f1d5a5",
   "metadata": {
    "heading_collapsed": true
   },
   "source": [
    "### Crop"
   ]
  },
  {
   "cell_type": "code",
   "execution_count": null,
   "id": "074d9006",
   "metadata": {
    "hidden": true
   },
   "outputs": [],
   "source": [
    "bears = bears.new(item_tfms=RandomResizedCrop(128, min_scale=0.3))\n",
    "dls = bears.dataloaders(path)\n",
    "dls.train.show_batch(max_n=4, nrows=1, unique=True)"
   ]
  },
  {
   "cell_type": "markdown",
   "id": "676b1ede",
   "metadata": {
    "hidden": true
   },
   "source": [
    "<img src=\"images/teddy.png\" width=\"600\" align=\"left\">"
   ]
  },
  {
   "cell_type": "markdown",
   "id": "3e5fd8fb",
   "metadata": {
    "heading_collapsed": true
   },
   "source": [
    "### Data Augmentation"
   ]
  },
  {
   "cell_type": "markdown",
   "id": "9f6f359a",
   "metadata": {
    "hidden": true
   },
   "source": [
    "**Data augmentation** refers to **creating random variations** of our **input data**, such that they appear different, but do not actually change the meaning of the data. \n",
    "\n",
    "Examples of common data augmentation techniques for images are **rotation**, **flipping**, **perspective warping**, **brightness changes** and **contrast changes**."
   ]
  },
  {
   "cell_type": "markdown",
   "id": "b85a9fc4",
   "metadata": {
    "hidden": true
   },
   "source": [
    "<img src=\"images/augmentation.png\" width=\"600\" align=\"left\">"
   ]
  },
  {
   "cell_type": "markdown",
   "id": "fe34e9c9",
   "metadata": {
    "heading_collapsed": true
   },
   "source": [
    "### GPU"
   ]
  },
  {
   "cell_type": "markdown",
   "id": "06753082",
   "metadata": {
    "hidden": true
   },
   "source": [
    "* Обучаем обычно на GPU\n",
    "* Использовать модель в продакшене не обязательно на GPU, может оказаться достаточным CPU (more cost-effective на определенных нагрузках)"
   ]
  },
  {
   "cell_type": "markdown",
   "id": "f17d64cd",
   "metadata": {},
   "source": [
    "## How to Avoid Disaster"
   ]
  },
  {
   "cell_type": "markdown",
   "id": "7e18a582",
   "metadata": {},
   "source": [
    "Обучайтесь именно на тех типах данных, с которыми модель столкнется в продакшене.  \n",
    "Пример: bear detector."
   ]
  }
 ],
 "metadata": {
  "kernelspec": {
   "display_name": "Python 3 (ipykernel)",
   "language": "python",
   "name": "python3"
  },
  "language_info": {
   "codemirror_mode": {
    "name": "ipython",
    "version": 3
   },
   "file_extension": ".py",
   "mimetype": "text/x-python",
   "name": "python",
   "nbconvert_exporter": "python",
   "pygments_lexer": "ipython3",
   "version": "3.10.6"
  },
  "toc": {
   "base_numbering": 1,
   "nav_menu": {},
   "number_sections": false,
   "sideBar": true,
   "skip_h1_title": true,
   "title_cell": "Table of Contents",
   "title_sidebar": "Contents",
   "toc_cell": true,
   "toc_position": {},
   "toc_section_display": true,
   "toc_window_display": false
  }
 },
 "nbformat": 4,
 "nbformat_minor": 5
}
